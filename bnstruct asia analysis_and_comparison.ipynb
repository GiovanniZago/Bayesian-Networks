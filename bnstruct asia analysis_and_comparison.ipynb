{
 "cells": [
  {
   "cell_type": "code",
   "execution_count": 1,
   "metadata": {
    "vscode": {
     "languageId": "r"
    }
   },
   "outputs": [
    {
     "name": "stderr",
     "output_type": "stream",
     "text": [
      "Warning message:\n",
      "\"il pacchetto 'bnlearn' è stato creato con R versione 4.2.3\"\n",
      "Warning message:\n",
      "\"il pacchetto 'bnstruct' è stato creato con R versione 4.2.3\"\n",
      "Warning message:\n",
      "\"il pacchetto 'igraph' è stato creato con R versione 4.2.3\"\n",
      "bnstruct :: performing imputation ...\n",
      "\n",
      "bnstruct :: imputation finished.\n",
      "\n"
     ]
    },
    {
     "data": {
      "text/html": [
       "<table class=\"dataframe\">\n",
       "<caption>A data.frame: 6 × 8</caption>\n",
       "<thead>\n",
       "\t<tr><th></th><th scope=col>Asia</th><th scope=col>Tubercolosys</th><th scope=col>Smoke</th><th scope=col>LungCancer</th><th scope=col>Bronchitis</th><th scope=col>Either</th><th scope=col>X-ray</th><th scope=col>Dyspnea</th></tr>\n",
       "\t<tr><th></th><th scope=col>&lt;fct&gt;</th><th scope=col>&lt;fct&gt;</th><th scope=col>&lt;fct&gt;</th><th scope=col>&lt;fct&gt;</th><th scope=col>&lt;fct&gt;</th><th scope=col>&lt;fct&gt;</th><th scope=col>&lt;fct&gt;</th><th scope=col>&lt;fct&gt;</th></tr>\n",
       "</thead>\n",
       "<tbody>\n",
       "\t<tr><th scope=row>1</th><td>2</td><td>2</td><td>1</td><td>1</td><td>1</td><td>2</td><td>1</td><td>2</td></tr>\n",
       "\t<tr><th scope=row>2</th><td>2</td><td>1</td><td>1</td><td>1</td><td>1</td><td>1</td><td>2</td><td>1</td></tr>\n",
       "\t<tr><th scope=row>3</th><td>1</td><td>1</td><td>2</td><td>1</td><td>1</td><td>1</td><td>2</td><td>1</td></tr>\n",
       "\t<tr><th scope=row>4</th><td>2</td><td>1</td><td>2</td><td>1</td><td>1</td><td>1</td><td>2</td><td>1</td></tr>\n",
       "\t<tr><th scope=row>5</th><td>2</td><td>1</td><td>2</td><td>1</td><td>1</td><td>1</td><td>1</td><td>2</td></tr>\n",
       "\t<tr><th scope=row>6</th><td>2</td><td>1</td><td>2</td><td>1</td><td>1</td><td>1</td><td>2</td><td>2</td></tr>\n",
       "</tbody>\n",
       "</table>\n"
      ],
      "text/latex": [
       "A data.frame: 6 × 8\n",
       "\\begin{tabular}{r|llllllll}\n",
       "  & Asia & Tubercolosys & Smoke & LungCancer & Bronchitis & Either & X-ray & Dyspnea\\\\\n",
       "  & <fct> & <fct> & <fct> & <fct> & <fct> & <fct> & <fct> & <fct>\\\\\n",
       "\\hline\n",
       "\t1 & 2 & 2 & 1 & 1 & 1 & 2 & 1 & 2\\\\\n",
       "\t2 & 2 & 1 & 1 & 1 & 1 & 1 & 2 & 1\\\\\n",
       "\t3 & 1 & 1 & 2 & 1 & 1 & 1 & 2 & 1\\\\\n",
       "\t4 & 2 & 1 & 2 & 1 & 1 & 1 & 2 & 1\\\\\n",
       "\t5 & 2 & 1 & 2 & 1 & 1 & 1 & 1 & 2\\\\\n",
       "\t6 & 2 & 1 & 2 & 1 & 1 & 1 & 2 & 2\\\\\n",
       "\\end{tabular}\n"
      ],
      "text/markdown": [
       "\n",
       "A data.frame: 6 × 8\n",
       "\n",
       "| <!--/--> | Asia &lt;fct&gt; | Tubercolosys &lt;fct&gt; | Smoke &lt;fct&gt; | LungCancer &lt;fct&gt; | Bronchitis &lt;fct&gt; | Either &lt;fct&gt; | X-ray &lt;fct&gt; | Dyspnea &lt;fct&gt; |\n",
       "|---|---|---|---|---|---|---|---|---|\n",
       "| 1 | 2 | 2 | 1 | 1 | 1 | 2 | 1 | 2 |\n",
       "| 2 | 2 | 1 | 1 | 1 | 1 | 1 | 2 | 1 |\n",
       "| 3 | 1 | 1 | 2 | 1 | 1 | 1 | 2 | 1 |\n",
       "| 4 | 2 | 1 | 2 | 1 | 1 | 1 | 2 | 1 |\n",
       "| 5 | 2 | 1 | 2 | 1 | 1 | 1 | 1 | 2 |\n",
       "| 6 | 2 | 1 | 2 | 1 | 1 | 1 | 2 | 2 |\n",
       "\n"
      ],
      "text/plain": [
       "  Asia Tubercolosys Smoke LungCancer Bronchitis Either X-ray Dyspnea\n",
       "1 2    2            1     1          1          2      1     2      \n",
       "2 2    1            1     1          1          1      2     1      \n",
       "3 1    1            2     1          1          1      2     1      \n",
       "4 2    1            2     1          1          1      2     1      \n",
       "5 2    1            2     1          1          1      1     2      \n",
       "6 2    1            2     1          1          1      2     2      "
      ]
     },
     "metadata": {},
     "output_type": "display_data"
    }
   ],
   "source": [
    "source('K2methods.r') |> suppressPackageStartupMessages()\n",
    "library(bnstruct)     |> suppressPackageStartupMessages()\n",
    "\n",
    "dataset = asia()\n",
    "dataset = impute(dataset)\n",
    "data = imputed.data(dataset)\n",
    "\n",
    "# create dataset in order to assign names\n",
    "mode(data) = 'character'\n",
    "DF = data.frame(data, stringsAsFactors = TRUE)\n",
    "colnames(DF) <- asia()@variables\n",
    "head(DF)"
   ]
  },
  {
   "cell_type": "code",
   "execution_count": 48,
   "metadata": {
    "vscode": {
     "languageId": "r"
    }
   },
   "outputs": [
    {
     "name": "stderr",
     "output_type": "stream",
     "text": [
      "... bnstruct :: learning the structure using MMHC ...\n",
      "\n",
      "... bnstruct :: learning using MMHC completed.\n",
      "\n",
      "... bnstruct :: learning network parameters ... \n",
      "\n",
      "... bnstruct :: parameter learning done.\n",
      "\n"
     ]
    }
   ],
   "source": [
    "net = learn.network(asia(), algo = 'mmhc', scoring.func = 'BIC')"
   ]
  },
  {
   "cell_type": "code",
   "execution_count": 49,
   "metadata": {
    "vscode": {
     "languageId": "r"
    }
   },
   "outputs": [
    {
     "data": {
      "image/png": "[encoded data removed]",
      "text/plain": [
       "plot without title"
      ]
     },
     "metadata": {
      "image/png": {
       "height": 420,
       "width": 420
      }
     },
     "output_type": "display_data"
    }
   ],
   "source": [
    "plot(net)"
   ]
  },
  {
   "cell_type": "code",
   "execution_count": 50,
   "metadata": {
    "vscode": {
     "languageId": "r"
    }
   },
   "outputs": [],
   "source": [
    "net_bnl = empty.graph(dataset@variables)\n",
    "amat(net_bnl) = dag(net)"
   ]
  },
  {
   "cell_type": "code",
   "execution_count": 51,
   "metadata": {
    "scrolled": true,
    "vscode": {
     "languageId": "r"
    }
   },
   "outputs": [
    {
     "data": {
      "text/html": [
       "-24214.7766519978"
      ],
      "text/latex": [
       "-24214.7766519978"
      ],
      "text/markdown": [
       "-24214.7766519978"
      ],
      "text/plain": [
       "[1] -24214.78"
      ]
     },
     "metadata": {},
     "output_type": "display_data"
    }
   ],
   "source": [
    "score(net_bnl, data = DF, type = 'bic') # using DF is the same"
   ]
  },
  {
   "cell_type": "code",
   "execution_count": null,
   "metadata": {},
   "outputs": [],
   "source": []
  },
  {
   "cell_type": "code",
   "execution_count": null,
   "metadata": {},
   "outputs": [],
   "source": []
  },
  {
   "cell_type": "markdown",
   "metadata": {},
   "source": [
    "### `bnstruct` with layering"
   ]
  },
  {
   "cell_type": "code",
   "execution_count": 52,
   "metadata": {},
   "outputs": [
    {
     "name": "stderr",
     "output_type": "stream",
     "text": [
      "... bnstruct :: learning the structure using SM ...\n",
      "\n",
      "... bnstruct :: learning using SM completed.\n",
      "\n",
      "... bnstruct :: learning network parameters ... \n",
      "\n",
      "... bnstruct :: parameter learning done.\n",
      "\n"
     ]
    }
   ],
   "source": [
    "net = learn.network(asia(), algo = 'sm', scoring.func = 'BDeu', \n",
    "                    struct.threshold = 10, param.threshold = 0.001)"
   ]
  },
  {
   "cell_type": "code",
   "execution_count": 53,
   "metadata": {},
   "outputs": [
    {
     "data": {
      "image/png": "[encoded data removed]",
      "text/plain": [
       "plot without title"
      ]
     },
     "metadata": {
      "image/png": {
       "height": 420,
       "width": 420
      }
     },
     "output_type": "display_data"
    }
   ],
   "source": [
    "plot(net)"
   ]
  },
  {
   "cell_type": "code",
   "execution_count": 54,
   "metadata": {},
   "outputs": [
    {
     "data": {
      "text/html": [
       "-22481.3519143454"
      ],
      "text/latex": [
       "-22481.3519143454"
      ],
      "text/markdown": [
       "-22481.3519143454"
      ],
      "text/plain": [
       "[1] -22481.35"
      ]
     },
     "metadata": {},
     "output_type": "display_data"
    }
   ],
   "source": [
    "net_bnl = empty.graph(dataset@variables)\n",
    "amat(net_bnl) = dag(net)\n",
    "score(net_bnl, data = DF, type = 'bic') # using DF is the same"
   ]
  },
  {
   "cell_type": "code",
   "execution_count": 55,
   "metadata": {},
   "outputs": [
    {
     "data": {
      "text/plain": [
       "\n",
       "  Random/Generated Bayesian network\n",
       "\n",
       "  model:\n",
       "   [Asia][LungCancer][Tubercolosys|Asia][Smoke|Asia][Bronchitis|LungCancer]\n",
       "   [Either|Tubercolosys:Bronchitis][X-ray|Either][Dyspnea|Smoke:Either]\n",
       "  nodes:                                 8 \n",
       "  arcs:                                  8 \n",
       "    undirected arcs:                     0 \n",
       "    directed arcs:                       8 \n",
       "  average markov blanket size:           2.50 \n",
       "  average neighbourhood size:            2.00 \n",
       "  average branching factor:              1.00 \n",
       "\n",
       "  generation algorithm:                  Empty \n"
      ]
     },
     "metadata": {},
     "output_type": "display_data"
    }
   ],
   "source": [
    "net_bnl"
   ]
  },
  {
   "cell_type": "code",
   "execution_count": null,
   "metadata": {},
   "outputs": [],
   "source": []
  }
 ],
 "metadata": {
  "kernelspec": {
   "display_name": "R",
   "language": "R",
   "name": "ir"
  },
  "language_info": {
   "codemirror_mode": "r",
   "file_extension": ".r",
   "mimetype": "text/x-r-source",
   "name": "R",
   "pygments_lexer": "r",
   "version": "4.2.2"
  }
 },
 "nbformat": 4,
 "nbformat_minor": 2
}
