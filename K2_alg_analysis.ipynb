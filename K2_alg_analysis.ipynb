{
 "cells": [
  {
   "cell_type": "code",
   "execution_count": 1,
   "metadata": {
    "vscode": {
     "languageId": "r"
    }
   },
   "outputs": [
    {
     "name": "stderr",
     "output_type": "stream",
     "text": [
      "Loading required package: graph\n",
      "\n",
      "Loading required package: BiocGenerics\n",
      "\n",
      "\n",
      "Attaching package: ‘BiocGenerics’\n",
      "\n",
      "\n",
      "The following object is masked from ‘package:bnlearn’:\n",
      "\n",
      "    score\n",
      "\n",
      "\n",
      "The following objects are masked from ‘package:stats’:\n",
      "\n",
      "    IQR, mad, sd, var, xtabs\n",
      "\n",
      "\n",
      "The following objects are masked from ‘package:base’:\n",
      "\n",
      "    anyDuplicated, aperm, append, as.data.frame, basename, cbind,\n",
      "    colnames, dirname, do.call, duplicated, eval, evalq, Filter, Find,\n",
      "    get, grep, grepl, intersect, is.unsorted, lapply, Map, mapply,\n",
      "    match, mget, order, paste, pmax, pmax.int, pmin, pmin.int,\n",
      "    Position, rank, rbind, Reduce, rownames, sapply, setdiff, sort,\n",
      "    table, tapply, union, unique, unsplit, which.max, which.min\n",
      "\n",
      "\n",
      "\n",
      "Attaching package: ‘graph’\n",
      "\n",
      "\n",
      "The following objects are masked from ‘package:bnlearn’:\n",
      "\n",
      "    degree, nodes, nodes<-\n",
      "\n",
      "\n",
      "Loading required package: grid\n",
      "\n"
     ]
    },
    {
     "data": {
      "text/html": [
       "<table class=\"dataframe\">\n",
       "<caption>A data.frame: 10 × 3</caption>\n",
       "<thead>\n",
       "\t<tr><th scope=col>x1</th><th scope=col>x2</th><th scope=col>x3</th></tr>\n",
       "\t<tr><th scope=col>&lt;fct&gt;</th><th scope=col>&lt;fct&gt;</th><th scope=col>&lt;fct&gt;</th></tr>\n",
       "</thead>\n",
       "<tbody>\n",
       "\t<tr><td>1</td><td>0</td><td>0</td></tr>\n",
       "\t<tr><td>1</td><td>1</td><td>1</td></tr>\n",
       "\t<tr><td>0</td><td>0</td><td>1</td></tr>\n",
       "\t<tr><td>1</td><td>1</td><td>1</td></tr>\n",
       "\t<tr><td>0</td><td>0</td><td>0</td></tr>\n",
       "\t<tr><td>0</td><td>1</td><td>1</td></tr>\n",
       "\t<tr><td>1</td><td>1</td><td>1</td></tr>\n",
       "\t<tr><td>0</td><td>0</td><td>0</td></tr>\n",
       "\t<tr><td>1</td><td>1</td><td>1</td></tr>\n",
       "\t<tr><td>0</td><td>0</td><td>0</td></tr>\n",
       "</tbody>\n",
       "</table>\n"
      ],
      "text/latex": [
       "A data.frame: 10 × 3\n",
       "\\begin{tabular}{lll}\n",
       " x1 & x2 & x3\\\\\n",
       " <fct> & <fct> & <fct>\\\\\n",
       "\\hline\n",
       "\t 1 & 0 & 0\\\\\n",
       "\t 1 & 1 & 1\\\\\n",
       "\t 0 & 0 & 1\\\\\n",
       "\t 1 & 1 & 1\\\\\n",
       "\t 0 & 0 & 0\\\\\n",
       "\t 0 & 1 & 1\\\\\n",
       "\t 1 & 1 & 1\\\\\n",
       "\t 0 & 0 & 0\\\\\n",
       "\t 1 & 1 & 1\\\\\n",
       "\t 0 & 0 & 0\\\\\n",
       "\\end{tabular}\n"
      ],
      "text/markdown": [
       "\n",
       "A data.frame: 10 × 3\n",
       "\n",
       "| x1 &lt;fct&gt; | x2 &lt;fct&gt; | x3 &lt;fct&gt; |\n",
       "|---|---|---|\n",
       "| 1 | 0 | 0 |\n",
       "| 1 | 1 | 1 |\n",
       "| 0 | 0 | 1 |\n",
       "| 1 | 1 | 1 |\n",
       "| 0 | 0 | 0 |\n",
       "| 0 | 1 | 1 |\n",
       "| 1 | 1 | 1 |\n",
       "| 0 | 0 | 0 |\n",
       "| 1 | 1 | 1 |\n",
       "| 0 | 0 | 0 |\n",
       "\n"
      ],
      "text/plain": [
       "   x1 x2 x3\n",
       "1  1  0  0 \n",
       "2  1  1  1 \n",
       "3  0  0  1 \n",
       "4  1  1  1 \n",
       "5  0  0  0 \n",
       "6  0  1  1 \n",
       "7  1  1  1 \n",
       "8  0  0  0 \n",
       "9  1  1  1 \n",
       "10 0  0  0 "
      ]
     },
     "metadata": {},
     "output_type": "display_data"
    }
   ],
   "source": [
    "source('K2methods.r')\n",
    "library(purrr)\n",
    "library(Rgraphviz)\n",
    "library(bnlearn)\n",
    "\n",
    "DF = data.frame(x1 = as.character(c(1, 1, 0, 1, 0, 0, 1, 0, 1, 0)), \n",
    "                x2 = as.character(c(0, 1, 0, 1, 0, 1, 1, 0, 1, 0)), \n",
    "                x3 = as.character(c(0, 1, 1, 1, 0, 1, 1, 0, 1, 0)), \n",
    "                stringsAsFactors = TRUE)\n",
    "DF"
   ]
  },
  {
   "cell_type": "code",
   "execution_count": 2,
   "metadata": {
    "vscode": {
     "languageId": "r"
    }
   },
   "outputs": [
    {
     "data": {
      "text/html": [
       "<ol>\n",
       "\t<li>NULL</li>\n",
       "\t<li>1</li>\n",
       "\t<li>2</li>\n",
       "</ol>\n"
      ],
      "text/latex": [
       "\\begin{enumerate}\n",
       "\\item NULL\n",
       "\\item 1\n",
       "\\item 2\n",
       "\\end{enumerate}\n"
      ],
      "text/markdown": [
       "1. NULL\n",
       "2. 1\n",
       "3. 2\n",
       "\n",
       "\n"
      ],
      "text/plain": [
       "[[1]]\n",
       "NULL\n",
       "\n",
       "[[2]]\n",
       "[1] 1\n",
       "\n",
       "[[3]]\n",
       "[1] 2\n"
      ]
     },
     "metadata": {},
     "output_type": "display_data"
    }
   ],
   "source": [
    "trial = K2_algorithm(n = 3, u = 1, D = DF)\n",
    "trial"
   ]
  },
  {
   "cell_type": "code",
   "execution_count": 3,
   "metadata": {
    "vscode": {
     "languageId": "r"
    }
   },
   "outputs": [
    {
     "data": {
      "image/png": "[encoded data removed]",
      "text/plain": [
       "plot without title"
      ]
     },
     "metadata": {
      "image/png": {
       "height": 420,
       "width": 420
      }
     },
     "output_type": "display_data"
    }
   ],
   "source": [
    "dag = get_dag(names(DF), trial)\n",
    "graphviz.plot(dag)"
   ]
  },
  {
   "cell_type": "code",
   "execution_count": 4,
   "metadata": {
    "vscode": {
     "languageId": "r"
    }
   },
   "outputs": [
    {
     "data": {
      "text/plain": [
       "\n",
       "  Bayesian network parameters\n",
       "\n",
       "  Parameters of node x1 (multinomial distribution)\n",
       "\n",
       "Conditional probability table:\n",
       "   0   1 \n",
       "0.5 0.5 \n",
       "\n",
       "  Parameters of node x2 (multinomial distribution)\n",
       "\n",
       "Conditional probability table:\n",
       " \n",
       "   x1\n",
       "x2     0    1\n",
       "  0 0.65 0.35\n",
       "  1 0.35 0.65\n",
       "\n",
       "  Parameters of node x3 (multinomial distribution)\n",
       "\n",
       "Conditional probability table:\n",
       " \n",
       "   x2\n",
       "x3     0    1\n",
       "  0 0.65 0.25\n",
       "  1 0.35 0.75\n"
      ]
     },
     "metadata": {},
     "output_type": "display_data"
    }
   ],
   "source": [
    "bn_bayes = bn.fit(dag, data = DF, method = 'bayes', iss = 10)\n",
    "bn_bayes"
   ]
  },
  {
   "cell_type": "code",
   "execution_count": 5,
   "metadata": {
    "vscode": {
     "languageId": "r"
    }
   },
   "outputs": [
    {
     "name": "stderr",
     "output_type": "stream",
     "text": [
      "Loading required namespace: lattice\n",
      "\n"
     ]
    },
    {
     "data": {
      "image/png": "[encoded data removed]",
      "text/plain": [
       "plot without title"
      ]
     },
     "metadata": {
      "image/png": {
       "height": 420,
       "width": 420
      }
     },
     "output_type": "display_data"
    }
   ],
   "source": [
    "bn.fit.barchart(bn_bayes$x3, 'x3', xlab = 'p(x3|x2)', ylab = '')"
   ]
  },
  {
   "cell_type": "code",
   "execution_count": 6,
   "metadata": {
    "vscode": {
     "languageId": "r"
    }
   },
   "outputs": [
    {
     "data": {
      "text/plain": [
       "\n",
       "\tMutual Information (disc.)\n",
       "\n",
       "data:  x3 ~ x2 | x1\n",
       "mi = 7.2355, df = 2, p-value = 0.02684\n",
       "alternative hypothesis: true value is greater than 0\n"
      ]
     },
     "metadata": {},
     "output_type": "display_data"
    }
   ],
   "source": [
    "# recall that when we make this test H_0 = (x, y) are independent\n",
    "ci.test(x = 'x3', y = 'x2', z = 'x1', data = DF, test = 'mi')\n",
    "\n",
    "# this shows that since the p-value is low, by \n",
    "# taking a 5% significance level we can reject the null \n",
    "# hyp and say that x3 and x2 depend on each other"
   ]
  },
  {
   "cell_type": "code",
   "execution_count": 7,
   "metadata": {
    "vscode": {
     "languageId": "r"
    }
   },
   "outputs": [
    {
     "data": {
      "text/plain": [
       "\n",
       "\tMutual Information (disc.)\n",
       "\n",
       "data:  x1 ~ x2 | x3\n",
       "mi = 2.6341, df = 2, p-value = 0.2679\n",
       "alternative hypothesis: true value is greater than 0\n"
      ]
     },
     "metadata": {},
     "output_type": "display_data"
    }
   ],
   "source": [
    "# this may say something about the structure we got through K2\n",
    "ci.test(x = 'x1', y = 'x2', z = 'x3', data = DF, test = 'mi')"
   ]
  },
  {
   "cell_type": "code",
   "execution_count": 8,
   "metadata": {
    "vscode": {
     "languageId": "r"
    }
   },
   "outputs": [
    {
     "data": {
      "text/html": [
       "-20.1939708911574"
      ],
      "text/latex": [
       "-20.1939708911574"
      ],
      "text/markdown": [
       "-20.1939708911574"
      ],
      "text/plain": [
       "[1] -20.19397"
      ]
     },
     "metadata": {},
     "output_type": "display_data"
    },
    {
     "data": {
      "text/html": [
       "-21.2815371118777"
      ],
      "text/latex": [
       "-21.2815371118777"
      ],
      "text/markdown": [
       "-21.2815371118777"
      ],
      "text/plain": [
       "[1] -21.28154"
      ]
     },
     "metadata": {},
     "output_type": "display_data"
    }
   ],
   "source": [
    "# evaluate the score of our network\n",
    "score(dag, data = DF, type = 'bic')\n",
    "score(dag, data = DF, type = 'bde')"
   ]
  }
 ],
 "metadata": {
  "kernelspec": {
   "display_name": "R",
   "language": "R",
   "name": "ir"
  },
  "language_info": {
   "codemirror_mode": "r",
   "file_extension": ".r",
   "mimetype": "text/x-r-source",
   "name": "R",
   "pygments_lexer": "r",
   "version": "4.2.2"
  },
  "orig_nbformat": 4
 },
 "nbformat": 4,
 "nbformat_minor": 2
}
