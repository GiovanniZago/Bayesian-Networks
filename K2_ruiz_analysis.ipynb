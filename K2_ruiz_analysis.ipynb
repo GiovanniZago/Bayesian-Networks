{
 "cells": [
  {
   "cell_type": "code",
   "execution_count": 1,
   "metadata": {
    "scrolled": true,
    "vscode": {
     "languageId": "r"
    }
   },
   "outputs": [
    {
     "name": "stderr",
     "output_type": "stream",
     "text": [
      "Warning message:\n",
      "\"package 'purrr' was built under R version 3.6.3\"Loading required package: graph\n",
      "Loading required package: BiocGenerics\n",
      "Loading required package: parallel\n",
      "\n",
      "Attaching package: 'BiocGenerics'\n",
      "\n",
      "The following objects are masked from 'package:parallel':\n",
      "\n",
      "    clusterApply, clusterApplyLB, clusterCall, clusterEvalQ,\n",
      "    clusterExport, clusterMap, parApply, parCapply, parLapply,\n",
      "    parLapplyLB, parRapply, parSapply, parSapplyLB\n",
      "\n",
      "The following objects are masked from 'package:stats':\n",
      "\n",
      "    IQR, mad, sd, var, xtabs\n",
      "\n",
      "The following objects are masked from 'package:base':\n",
      "\n",
      "    anyDuplicated, append, as.data.frame, basename, cbind, colnames,\n",
      "    dirname, do.call, duplicated, eval, evalq, Filter, Find, get, grep,\n",
      "    grepl, intersect, is.unsorted, lapply, Map, mapply, match, mget,\n",
      "    order, paste, pmax, pmax.int, pmin, pmin.int, Position, rank,\n",
      "    rbind, Reduce, rownames, sapply, setdiff, sort, table, tapply,\n",
      "    union, unique, unsplit, which, which.max, which.min\n",
      "\n",
      "Loading required package: grid\n",
      "Warning message:\n",
      "\"package 'bnlearn' was built under R version 3.6.3\"Warning message:\n",
      "\"package 'bnstruct' was built under R version 3.6.3\"Loading required package: bitops\n",
      "Warning message:\n",
      "\"package 'bitops' was built under R version 3.6.3\"Loading required package: igraph\n",
      "Warning message:\n",
      "\"package 'igraph' was built under R version 3.6.3\"\n",
      "Attaching package: 'igraph'\n",
      "\n",
      "The following objects are masked from 'package:bnlearn':\n",
      "\n",
      "    as.igraph, compare, degree, path, subgraph\n",
      "\n",
      "The following objects are masked from 'package:graph':\n",
      "\n",
      "    degree, edges, intersection, union\n",
      "\n",
      "The following objects are masked from 'package:BiocGenerics':\n",
      "\n",
      "    normalize, path, union\n",
      "\n",
      "The following objects are masked from 'package:purrr':\n",
      "\n",
      "    compose, simplify\n",
      "\n",
      "The following objects are masked from 'package:stats':\n",
      "\n",
      "    decompose, spectrum\n",
      "\n",
      "The following object is masked from 'package:base':\n",
      "\n",
      "    union\n",
      "\n",
      "\n",
      "Attaching package: 'bnstruct'\n",
      "\n",
      "The following objects are masked from 'package:bnlearn':\n",
      "\n",
      "    impute, read.bif, read.dsc, read.net, shd, write.dsc\n",
      "\n",
      "The following object is masked from 'package:Rgraphviz':\n",
      "\n",
      "    name\n",
      "\n",
      "\n",
      "Attaching package: 'data.table'\n",
      "\n",
      "The following object is masked from 'package:purrr':\n",
      "\n",
      "    transpose\n",
      "\n",
      "\n",
      "Attaching package: 'dplyr'\n",
      "\n",
      "The following objects are masked from 'package:data.table':\n",
      "\n",
      "    between, first, last\n",
      "\n",
      "The following objects are masked from 'package:igraph':\n",
      "\n",
      "    as_data_frame, groups, union\n",
      "\n",
      "The following object is masked from 'package:graph':\n",
      "\n",
      "    union\n",
      "\n",
      "The following objects are masked from 'package:BiocGenerics':\n",
      "\n",
      "    combine, intersect, setdiff, union\n",
      "\n",
      "The following objects are masked from 'package:stats':\n",
      "\n",
      "    filter, lag\n",
      "\n",
      "The following objects are masked from 'package:base':\n",
      "\n",
      "    intersect, setdiff, setequal, union\n",
      "\n"
     ]
    }
   ],
   "source": [
    "# load packages\n",
    "library(purrr)        \n",
    "library(Rgraphviz)    \n",
    "library(bnlearn)      \n",
    "library(bnstruct)     \n",
    "source('K2methods.r') "
   ]
  },
  {
   "cell_type": "code",
   "execution_count": 2,
   "metadata": {
    "vscode": {
     "languageId": "r"
    }
   },
   "outputs": [
    {
     "data": {
      "text/html": [
       "<table>\n",
       "<thead><tr><th scope=col>x1</th><th scope=col>x2</th><th scope=col>x3</th></tr></thead>\n",
       "<tbody>\n",
       "\t<tr><td>1</td><td>0</td><td>0</td></tr>\n",
       "\t<tr><td>1</td><td>1</td><td>1</td></tr>\n",
       "\t<tr><td>0</td><td>0</td><td>1</td></tr>\n",
       "\t<tr><td>1</td><td>1</td><td>1</td></tr>\n",
       "\t<tr><td>0</td><td>0</td><td>0</td></tr>\n",
       "\t<tr><td>0</td><td>1</td><td>1</td></tr>\n",
       "</tbody>\n",
       "</table>\n"
      ],
      "text/latex": [
       "\\begin{tabular}{r|lll}\n",
       " x1 & x2 & x3\\\\\n",
       "\\hline\n",
       "\t 1 & 0 & 0\\\\\n",
       "\t 1 & 1 & 1\\\\\n",
       "\t 0 & 0 & 1\\\\\n",
       "\t 1 & 1 & 1\\\\\n",
       "\t 0 & 0 & 0\\\\\n",
       "\t 0 & 1 & 1\\\\\n",
       "\\end{tabular}\n"
      ],
      "text/markdown": [
       "\n",
       "| x1 | x2 | x3 |\n",
       "|---|---|---|\n",
       "| 1 | 0 | 0 |\n",
       "| 1 | 1 | 1 |\n",
       "| 0 | 0 | 1 |\n",
       "| 1 | 1 | 1 |\n",
       "| 0 | 0 | 0 |\n",
       "| 0 | 1 | 1 |\n",
       "\n"
      ],
      "text/plain": [
       "  x1 x2 x3\n",
       "1 1  0  0 \n",
       "2 1  1  1 \n",
       "3 0  0  1 \n",
       "4 1  1  1 \n",
       "5 0  0  0 \n",
       "6 0  1  1 "
      ]
     },
     "metadata": {},
     "output_type": "display_data"
    }
   ],
   "source": [
    "DF = data.frame(x1 = as.character(c(1, 1, 0, 1, 0, 0, 1, 0, 1, 0)), \n",
    "                x2 = as.character(c(0, 1, 0, 1, 0, 1, 1, 0, 1, 0)), \n",
    "                x3 = as.character(c(0, 1, 1, 1, 0, 1, 1, 0, 1, 0)), \n",
    "                stringsAsFactors = TRUE)\n",
    "head(DF)"
   ]
  },
  {
   "cell_type": "code",
   "execution_count": 3,
   "metadata": {
    "vscode": {
     "languageId": "r"
    }
   },
   "outputs": [],
   "source": [
    "today = 01072023 # default seed = 12345"
   ]
  },
  {
   "cell_type": "code",
   "execution_count": 4,
   "metadata": {
    "scrolled": false,
    "vscode": {
     "languageId": "r"
    }
   },
   "outputs": [
    {
     "name": "stdout",
     "output_type": "stream",
     "text": [
      "order = x1 x2 x3 \n",
      "Running iteration # 1 u = 1 \n",
      "The Network score is -20.19397 \n",
      "  Running iteration # 1 u = 2 \n",
      "The Network score is -20.19397 \n",
      "  order = x3 x1 x2 \n",
      "Running iteration # 2 u = 1 \n",
      "The Network score is -21.25837 \n",
      "  Running iteration # 2 u = 2 \n",
      "The Network score is -21.25837 \n",
      "  order = x1 x2 x3 \n",
      "Running iteration # 3 u = 1 \n",
      "The Network score is -20.19397 \n",
      "  Running iteration # 3 u = 2 \n",
      "The Network score is -20.19397 \n",
      "  order = x3 x1 x2 \n",
      "Running iteration # 4 u = 1 \n",
      "The Network score is -21.25837 \n",
      "  Running iteration # 4 u = 2 \n",
      "The Network score is -21.25837 \n",
      "  order = x1 x3 x2 \n",
      "Running iteration # 5 u = 1 \n",
      "The Network score is -21.25837 \n",
      "  Running iteration # 5 u = 2 \n",
      "The Network score is -21.25837 \n",
      "  order = x2 x1 x3 \n",
      "Running iteration # 6 u = 1 \n",
      "The Network score is -20.19397 \n",
      "  Running iteration # 6 u = 2 \n",
      "The Network score is -20.19397 \n",
      "  order = x2 x1 x3 \n",
      "Running iteration # 7 u = 1 \n",
      "The Network score is -20.19397 \n",
      "  Running iteration # 7 u = 2 \n",
      "The Network score is -20.19397 \n",
      "  order = x2 x1 x3 \n",
      "Running iteration # 8 u = 1 \n",
      "The Network score is -20.19397 \n",
      "  Running iteration # 8 u = 2 \n",
      "The Network score is -20.19397 \n",
      "  order = x2 x1 x3 \n",
      "Running iteration # 9 u = 1 \n",
      "The Network score is -20.19397 \n",
      "  Running iteration # 9 u = 2 \n",
      "The Network score is -20.19397 \n",
      "  order = x2 x3 x1 \n",
      "Running iteration # 10 u = 1 \n",
      "The Network score is -20.19397 \n",
      "  Running iteration # 10 u = 2 \n",
      "The Network score is -20.19397 \n",
      "   DONE \n",
      "\n",
      "Total execution time: 0.004961336 mins\n"
     ]
    },
    {
     "data": {
      "text/html": [
       "<dl>\n",
       "\t<dt>$dag</dt>\n",
       "\t\t<dd><ol>\n",
       "\t<li>&lt;NA&gt;</li>\n",
       "\t<li>1</li>\n",
       "\t<li>2</li>\n",
       "</ol>\n",
       "</dd>\n",
       "\t<dt>$score</dt>\n",
       "\t\t<dd>-20.1939708911574</dd>\n",
       "\t<dt>$order</dt>\n",
       "\t\t<dd><ol class=list-inline>\n",
       "\t<li>'x1'</li>\n",
       "\t<li>'x2'</li>\n",
       "\t<li>'x3'</li>\n",
       "</ol>\n",
       "</dd>\n",
       "\t<dt>$u</dt>\n",
       "\t\t<dd>1</dd>\n",
       "</dl>\n"
      ],
      "text/latex": [
       "\\begin{description}\n",
       "\\item[\\$dag] \\begin{enumerate}\n",
       "\\item <NA>\n",
       "\\item 1\n",
       "\\item 2\n",
       "\\end{enumerate}\n",
       "\n",
       "\\item[\\$score] -20.1939708911574\n",
       "\\item[\\$order] \\begin{enumerate*}\n",
       "\\item 'x1'\n",
       "\\item 'x2'\n",
       "\\item 'x3'\n",
       "\\end{enumerate*}\n",
       "\n",
       "\\item[\\$u] 1\n",
       "\\end{description}\n"
      ],
      "text/markdown": [
       "$dag\n",
       ":   1. &lt;NA&gt;\n",
       "2. 1\n",
       "3. 2\n",
       "\n",
       "\n",
       "\n",
       "$score\n",
       ":   -20.1939708911574\n",
       "$order\n",
       ":   1. 'x1'\n",
       "2. 'x2'\n",
       "3. 'x3'\n",
       "\n",
       "\n",
       "\n",
       "$u\n",
       ":   1\n",
       "\n",
       "\n"
      ],
      "text/plain": [
       "$dag\n",
       "$dag[[1]]\n",
       "[1] NA\n",
       "\n",
       "$dag[[2]]\n",
       "[1] 1\n",
       "\n",
       "$dag[[3]]\n",
       "[1] 2\n",
       "\n",
       "\n",
       "$score\n",
       "[1] -20.19397\n",
       "\n",
       "$order\n",
       "[1] \"x1\" \"x2\" \"x3\"\n",
       "\n",
       "$u\n",
       "[1] 1\n"
      ]
     },
     "metadata": {},
     "output_type": "display_data"
    }
   ],
   "source": [
    "trial = K2(n = 3, u = 2, D = DF, seed = today, num.iterations = 10)\n",
    "trial"
   ]
  },
  {
   "cell_type": "code",
   "execution_count": 5,
   "metadata": {
    "vscode": {
     "languageId": "r"
    }
   },
   "outputs": [
    {
     "data": {
      "image/png": "[encoded data removed]",
      "text/plain": [
       "plot without title"
      ]
     },
     "metadata": {},
     "output_type": "display_data"
    }
   ],
   "source": [
    "dag = get_dag(names(DF), trial$dag)\n",
    "graphviz.plot(dag)"
   ]
  },
  {
   "cell_type": "code",
   "execution_count": 6,
   "metadata": {
    "vscode": {
     "languageId": "r"
    }
   },
   "outputs": [
    {
     "data": {
      "text/plain": [
       "\n",
       "  Random/Generated Bayesian network\n",
       "\n",
       "  model:\n",
       "   [x1][x2|x1][x3|x2] \n",
       "  nodes:                                 3 \n",
       "  arcs:                                  2 \n",
       "    undirected arcs:                     0 \n",
       "    directed arcs:                       2 \n",
       "  average markov blanket size:           1.33 \n",
       "  average neighbourhood size:            1.33 \n",
       "  average branching factor:              0.67 \n",
       "\n",
       "  generation algorithm:                  Empty \n"
      ]
     },
     "metadata": {},
     "output_type": "display_data"
    }
   ],
   "source": [
    "dag"
   ]
  },
  {
   "cell_type": "code",
   "execution_count": 7,
   "metadata": {
    "scrolled": true,
    "vscode": {
     "languageId": "r"
    }
   },
   "outputs": [
    {
     "data": {
      "text/html": [
       "<table>\n",
       "<thead><tr><th scope=col>from</th><th scope=col>to</th><th scope=col>strength</th></tr></thead>\n",
       "<tbody>\n",
       "\t<tr><td>x1         </td><td>x2         </td><td>0.057779571</td></tr>\n",
       "\t<tr><td>x2         </td><td>x3         </td><td>0.009823275</td></tr>\n",
       "</tbody>\n",
       "</table>\n"
      ],
      "text/latex": [
       "\\begin{tabular}{r|lll}\n",
       " from & to & strength\\\\\n",
       "\\hline\n",
       "\t x1          & x2          & 0.057779571\\\\\n",
       "\t x2          & x3          & 0.009823275\\\\\n",
       "\\end{tabular}\n"
      ],
      "text/markdown": [
       "\n",
       "| from | to | strength |\n",
       "|---|---|---|\n",
       "| x1          | x2          | 0.057779571 |\n",
       "| x2          | x3          | 0.009823275 |\n",
       "\n"
      ],
      "text/plain": [
       "  from to strength   \n",
       "1 x1   x2 0.057779571\n",
       "2 x2   x3 0.009823275"
      ]
     },
     "metadata": {},
     "output_type": "display_data"
    }
   ],
   "source": [
    "arc.strength(dag, data=DF, criterion=\"x2\")"
   ]
  },
  {
   "cell_type": "code",
   "execution_count": null,
   "metadata": {
    "vscode": {
     "languageId": "r"
    }
   },
   "outputs": [],
   "source": []
  },
  {
   "cell_type": "markdown",
   "metadata": {},
   "source": [
    "## `bnlearn` comparison"
   ]
  },
  {
   "cell_type": "code",
   "execution_count": 8,
   "metadata": {
    "vscode": {
     "languageId": "r"
    }
   },
   "outputs": [
    {
     "data": {
      "text/plain": [
       "\n",
       "  Bayesian network parameters\n",
       "\n",
       "  Parameters of node x1 (multinomial distribution)\n",
       "\n",
       "Conditional probability table:\n",
       "   0   1 \n",
       "0.5 0.5 \n",
       "\n",
       "  Parameters of node x2 (multinomial distribution)\n",
       "\n",
       "Conditional probability table:\n",
       " \n",
       "   x1\n",
       "x2     0    1\n",
       "  0 0.65 0.35\n",
       "  1 0.35 0.65\n",
       "\n",
       "  Parameters of node x3 (multinomial distribution)\n",
       "\n",
       "Conditional probability table:\n",
       " \n",
       "   x2\n",
       "x3     0    1\n",
       "  0 0.65 0.25\n",
       "  1 0.35 0.75\n"
      ]
     },
     "metadata": {},
     "output_type": "display_data"
    }
   ],
   "source": [
    "bn_bayes = bn.fit(dag, data = DF, method = 'bayes', iss = 10)\n",
    "bn_bayes"
   ]
  },
  {
   "cell_type": "code",
   "execution_count": 9,
   "metadata": {
    "vscode": {
     "languageId": "r"
    }
   },
   "outputs": [
    {
     "name": "stderr",
     "output_type": "stream",
     "text": [
      "Loading required namespace: lattice\n"
     ]
    },
    {
     "data": {
      "image/png": "[encoded data removed]",
      "text/plain": [
       "plot without title"
      ]
     },
     "metadata": {},
     "output_type": "display_data"
    }
   ],
   "source": [
    "bn.fit.barchart(bn_bayes$x3, 'x3', xlab = 'p(x3|x2)', ylab = '')"
   ]
  },
  {
   "cell_type": "code",
   "execution_count": 10,
   "metadata": {
    "vscode": {
     "languageId": "r"
    }
   },
   "outputs": [
    {
     "data": {
      "image/png": "[encoded data removed]",
      "text/plain": [
       "plot without title"
      ]
     },
     "metadata": {},
     "output_type": "display_data"
    }
   ],
   "source": [
    "bn.fit.dotplot(bn_bayes$x3, 'x3', xlab = 'p(x3|x2)', ylab = '')"
   ]
  },
  {
   "cell_type": "code",
   "execution_count": 11,
   "metadata": {
    "vscode": {
     "languageId": "r"
    }
   },
   "outputs": [
    {
     "data": {
      "text/plain": [
       "\n",
       "\tMutual Information (disc.)\n",
       "\n",
       "data:  x3 ~ x2 | x1\n",
       "mi = 7.2355, df = 2, p-value = 0.02684\n",
       "alternative hypothesis: true value is greater than 0\n"
      ]
     },
     "metadata": {},
     "output_type": "display_data"
    }
   ],
   "source": [
    "# recall that when we make this test H_0 = (x, y) are independent\n",
    "ci.test(x = 'x3', y = 'x2', z = 'x1', data = DF, test = 'mi')\n",
    "\n",
    "# this shows that since the p-value is low, by \n",
    "# taking a 5% significance level we can reject the null \n",
    "# hyp and say that x3 and x2 depend on each other"
   ]
  },
  {
   "cell_type": "code",
   "execution_count": 12,
   "metadata": {
    "vscode": {
     "languageId": "r"
    }
   },
   "outputs": [
    {
     "data": {
      "text/plain": [
       "\n",
       "\tMutual Information (disc.)\n",
       "\n",
       "data:  x1 ~ x2 | x3\n",
       "mi = 2.6341, df = 2, p-value = 0.2679\n",
       "alternative hypothesis: true value is greater than 0\n"
      ]
     },
     "metadata": {},
     "output_type": "display_data"
    }
   ],
   "source": [
    "# this may say something about the structure we got through K2\n",
    "ci.test(x = 'x1', y = 'x2', z = 'x3', data = DF, test = 'mi')"
   ]
  },
  {
   "cell_type": "code",
   "execution_count": 13,
   "metadata": {
    "vscode": {
     "languageId": "r"
    }
   },
   "outputs": [
    {
     "data": {
      "text/html": [
       "-20.1939708911574"
      ],
      "text/latex": [
       "-20.1939708911574"
      ],
      "text/markdown": [
       "-20.1939708911574"
      ],
      "text/plain": [
       "[1] -20.19397"
      ]
     },
     "metadata": {},
     "output_type": "display_data"
    },
    {
     "data": {
      "text/html": [
       "-21.2815371118777"
      ],
      "text/latex": [
       "-21.2815371118777"
      ],
      "text/markdown": [
       "-21.2815371118777"
      ],
      "text/plain": [
       "[1] -21.28154"
      ]
     },
     "metadata": {},
     "output_type": "display_data"
    }
   ],
   "source": [
    "# evaluate the score of our network\n",
    "score(dag, data = DF, type = 'bic')\n",
    "score(dag, data = DF, type = 'bde')"
   ]
  },
  {
   "cell_type": "code",
   "execution_count": null,
   "metadata": {
    "vscode": {
     "languageId": "r"
    }
   },
   "outputs": [],
   "source": []
  },
  {
   "cell_type": "code",
   "execution_count": null,
   "metadata": {
    "vscode": {
     "languageId": "r"
    }
   },
   "outputs": [],
   "source": []
  },
  {
   "cell_type": "code",
   "execution_count": 14,
   "metadata": {
    "vscode": {
     "languageId": "r"
    }
   },
   "outputs": [
    {
     "data": {
      "text/html": [
       "'[x1][x2|x1][x3|x2]'"
      ],
      "text/latex": [
       "'{[}x1{]}{[}x2\\textbar{}x1{]}{[}x3\\textbar{}x2{]}'"
      ],
      "text/markdown": [
       "'[x1][x2|x1][x3|x2]'"
      ],
      "text/plain": [
       "[1] \"[x1][x2|x1][x3|x2]\""
      ]
     },
     "metadata": {},
     "output_type": "display_data"
    }
   ],
   "source": [
    "learned <- hc(DF) # hill-climbing\n",
    "modelstring(learned)"
   ]
  },
  {
   "cell_type": "code",
   "execution_count": 15,
   "metadata": {
    "vscode": {
     "languageId": "r"
    }
   },
   "outputs": [
    {
     "data": {
      "image/png": "[encoded data removed]",
      "text/plain": [
       "plot without title"
      ]
     },
     "metadata": {},
     "output_type": "display_data"
    }
   ],
   "source": [
    "graphviz.plot(learned)"
   ]
  },
  {
   "cell_type": "code",
   "execution_count": 16,
   "metadata": {
    "vscode": {
     "languageId": "r"
    }
   },
   "outputs": [
    {
     "data": {
      "text/html": [
       "-20.1939708911574"
      ],
      "text/latex": [
       "-20.1939708911574"
      ],
      "text/markdown": [
       "-20.1939708911574"
      ],
      "text/plain": [
       "[1] -20.19397"
      ]
     },
     "metadata": {},
     "output_type": "display_data"
    }
   ],
   "source": [
    "score(learned, data = DF, type = \"bic\")"
   ]
  },
  {
   "cell_type": "code",
   "execution_count": null,
   "metadata": {
    "vscode": {
     "languageId": "r"
    }
   },
   "outputs": [],
   "source": []
  },
  {
   "cell_type": "markdown",
   "metadata": {},
   "source": [
    "### This is the very same result that we get too!!! :)"
   ]
  },
  {
   "cell_type": "code",
   "execution_count": null,
   "metadata": {
    "vscode": {
     "languageId": "r"
    }
   },
   "outputs": [],
   "source": []
  }
 ],
 "metadata": {
  "kernelspec": {
   "display_name": "R",
   "language": "R",
   "name": "ir"
  },
  "language_info": {
   "codemirror_mode": "r",
   "file_extension": ".r",
   "mimetype": "text/x-r-source",
   "name": "R",
   "pygments_lexer": "r",
   "version": "3.6.1"
  }
 },
 "nbformat": 4,
 "nbformat_minor": 2
}
