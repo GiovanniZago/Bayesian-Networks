{
 "cells": [
  {
   "cell_type": "code",
   "execution_count": 1,
   "metadata": {
    "vscode": {
     "languageId": "r"
    }
   },
   "outputs": [
    {
     "name": "stderr",
     "output_type": "stream",
     "text": [
      "Warning message:\n",
      "\"il pacchetto 'bnlearn' è stato creato con R versione 4.2.3\"\n",
      "Warning message:\n",
      "\"il pacchetto 'bnstruct' è stato creato con R versione 4.2.3\"\n",
      "Warning message:\n",
      "\"il pacchetto 'igraph' è stato creato con R versione 4.2.3\"\n"
     ]
    }
   ],
   "source": [
    "# load packages\n",
    "library(purrr)        |> suppressPackageStartupMessages()\n",
    "library(Rgraphviz)    |> suppressPackageStartupMessages()\n",
    "library(bnlearn)      |> suppressPackageStartupMessages()\n",
    "library(bnstruct)     |> suppressPackageStartupMessages()\n",
    "library(Rgraphviz)    |> suppressPackageStartupMessages()\n",
    "source('K2methods.r') |> suppressPackageStartupMessages()"
   ]
  },
  {
   "cell_type": "code",
   "execution_count": 2,
   "metadata": {
    "vscode": {
     "languageId": "r"
    }
   },
   "outputs": [
    {
     "name": "stderr",
     "output_type": "stream",
     "text": [
      "bnstruct :: performing imputation ...\n",
      "\n",
      "bnstruct :: imputation finished.\n",
      "\n"
     ]
    }
   ],
   "source": [
    "data = asia()\n",
    "data = impute(data)\n",
    "data = imputed.data(data)"
   ]
  },
  {
   "cell_type": "code",
   "execution_count": 3,
   "metadata": {
    "vscode": {
     "languageId": "r"
    }
   },
   "outputs": [
    {
     "data": {
      "text/html": [
       "<table class=\"dataframe\">\n",
       "<caption>A data.frame: 6 × 8</caption>\n",
       "<thead>\n",
       "\t<tr><th></th><th scope=col>Asia</th><th scope=col>Tubercolosys</th><th scope=col>Smoke</th><th scope=col>LungCancer</th><th scope=col>Bronchitis</th><th scope=col>Either</th><th scope=col>X-ray</th><th scope=col>Dyspnea</th></tr>\n",
       "\t<tr><th></th><th scope=col>&lt;fct&gt;</th><th scope=col>&lt;fct&gt;</th><th scope=col>&lt;fct&gt;</th><th scope=col>&lt;fct&gt;</th><th scope=col>&lt;fct&gt;</th><th scope=col>&lt;fct&gt;</th><th scope=col>&lt;fct&gt;</th><th scope=col>&lt;fct&gt;</th></tr>\n",
       "</thead>\n",
       "<tbody>\n",
       "\t<tr><th scope=row>1</th><td>2</td><td>2</td><td>1</td><td>1</td><td>1</td><td>2</td><td>1</td><td>2</td></tr>\n",
       "\t<tr><th scope=row>2</th><td>2</td><td>1</td><td>1</td><td>1</td><td>1</td><td>1</td><td>2</td><td>1</td></tr>\n",
       "\t<tr><th scope=row>3</th><td>1</td><td>1</td><td>2</td><td>1</td><td>1</td><td>1</td><td>2</td><td>1</td></tr>\n",
       "\t<tr><th scope=row>4</th><td>2</td><td>1</td><td>2</td><td>1</td><td>1</td><td>1</td><td>2</td><td>1</td></tr>\n",
       "\t<tr><th scope=row>5</th><td>2</td><td>1</td><td>2</td><td>1</td><td>1</td><td>1</td><td>1</td><td>2</td></tr>\n",
       "\t<tr><th scope=row>6</th><td>2</td><td>1</td><td>2</td><td>1</td><td>1</td><td>1</td><td>2</td><td>2</td></tr>\n",
       "</tbody>\n",
       "</table>\n"
      ],
      "text/latex": [
       "A data.frame: 6 × 8\n",
       "\\begin{tabular}{r|llllllll}\n",
       "  & Asia & Tubercolosys & Smoke & LungCancer & Bronchitis & Either & X-ray & Dyspnea\\\\\n",
       "  & <fct> & <fct> & <fct> & <fct> & <fct> & <fct> & <fct> & <fct>\\\\\n",
       "\\hline\n",
       "\t1 & 2 & 2 & 1 & 1 & 1 & 2 & 1 & 2\\\\\n",
       "\t2 & 2 & 1 & 1 & 1 & 1 & 1 & 2 & 1\\\\\n",
       "\t3 & 1 & 1 & 2 & 1 & 1 & 1 & 2 & 1\\\\\n",
       "\t4 & 2 & 1 & 2 & 1 & 1 & 1 & 2 & 1\\\\\n",
       "\t5 & 2 & 1 & 2 & 1 & 1 & 1 & 1 & 2\\\\\n",
       "\t6 & 2 & 1 & 2 & 1 & 1 & 1 & 2 & 2\\\\\n",
       "\\end{tabular}\n"
      ],
      "text/markdown": [
       "\n",
       "A data.frame: 6 × 8\n",
       "\n",
       "| <!--/--> | Asia &lt;fct&gt; | Tubercolosys &lt;fct&gt; | Smoke &lt;fct&gt; | LungCancer &lt;fct&gt; | Bronchitis &lt;fct&gt; | Either &lt;fct&gt; | X-ray &lt;fct&gt; | Dyspnea &lt;fct&gt; |\n",
       "|---|---|---|---|---|---|---|---|---|\n",
       "| 1 | 2 | 2 | 1 | 1 | 1 | 2 | 1 | 2 |\n",
       "| 2 | 2 | 1 | 1 | 1 | 1 | 1 | 2 | 1 |\n",
       "| 3 | 1 | 1 | 2 | 1 | 1 | 1 | 2 | 1 |\n",
       "| 4 | 2 | 1 | 2 | 1 | 1 | 1 | 2 | 1 |\n",
       "| 5 | 2 | 1 | 2 | 1 | 1 | 1 | 1 | 2 |\n",
       "| 6 | 2 | 1 | 2 | 1 | 1 | 1 | 2 | 2 |\n",
       "\n"
      ],
      "text/plain": [
       "  Asia Tubercolosys Smoke LungCancer Bronchitis Either X-ray Dyspnea\n",
       "1 2    2            1     1          1          2      1     2      \n",
       "2 2    1            1     1          1          1      2     1      \n",
       "3 1    1            2     1          1          1      2     1      \n",
       "4 2    1            2     1          1          1      2     1      \n",
       "5 2    1            2     1          1          1      1     2      \n",
       "6 2    1            2     1          1          1      2     2      "
      ]
     },
     "metadata": {},
     "output_type": "display_data"
    }
   ],
   "source": [
    "mode(data) = 'character'\n",
    "DF = data.frame(data, stringsAsFactors = TRUE)\n",
    "\n",
    "colnames(DF) <- asia()@variables\n",
    "head(DF)"
   ]
  },
  {
   "cell_type": "code",
   "execution_count": 4,
   "metadata": {},
   "outputs": [],
   "source": [
    "today = 30062023 # default seed = 12345"
   ]
  },
  {
   "cell_type": "code",
   "execution_count": 5,
   "metadata": {
    "vscode": {
     "languageId": "r"
    }
   },
   "outputs": [
    {
     "name": "stdout",
     "output_type": "stream",
     "text": [
      "Running iteration # 1 ...The Network score is -22481.35 \n",
      "  Running iteration # 2 ...The Network score is -22481.35 \n",
      "  Running iteration # 3 ...The Network score is -22481.35 \n",
      "  Running iteration # 4 ...The Network score is -22481.35 \n",
      "  Running iteration # 5 ...The Network score is -22481.35 \n",
      "   DONE \n",
      "\n",
      "Total execution time: 31.07913 mins\n"
     ]
    }
   ],
   "source": [
    "struct = K2(n = ncol(DF), u = 3, D = DF, seed=today, num.iterations=5)"
   ]
  },
  {
   "cell_type": "code",
   "execution_count": 6,
   "metadata": {
    "vscode": {
     "languageId": "r"
    }
   },
   "outputs": [
    {
     "data": {
      "text/html": [
       "<dl>\n",
       "\t<dt>$dag</dt>\n",
       "\t\t<dd><ol>\n",
       "\t<li>&lt;NA&gt;</li>\n",
       "\t<li>1</li>\n",
       "\t<li>1</li>\n",
       "\t<li>&lt;NA&gt;</li>\n",
       "\t<li>4</li>\n",
       "\t<li><style>\n",
       ".list-inline {list-style: none; margin:0; padding: 0}\n",
       ".list-inline>li {display: inline-block}\n",
       ".list-inline>li:not(:last-child)::after {content: \"\\00b7\"; padding: 0 .5ex}\n",
       "</style>\n",
       "<ol class=list-inline><li>2</li><li>5</li></ol>\n",
       "</li>\n",
       "\t<li>6</li>\n",
       "\t<li><style>\n",
       ".list-inline {list-style: none; margin:0; padding: 0}\n",
       ".list-inline>li {display: inline-block}\n",
       ".list-inline>li:not(:last-child)::after {content: \"\\00b7\"; padding: 0 .5ex}\n",
       "</style>\n",
       "<ol class=list-inline><li>3</li><li>6</li></ol>\n",
       "</li>\n",
       "</ol>\n",
       "</dd>\n",
       "\t<dt>$score</dt>\n",
       "\t\t<dd>-22481.3519143454</dd>\n",
       "\t<dt>$order</dt>\n",
       "\t\t<dd><style>\n",
       ".list-inline {list-style: none; margin:0; padding: 0}\n",
       ".list-inline>li {display: inline-block}\n",
       ".list-inline>li:not(:last-child)::after {content: \"\\00b7\"; padding: 0 .5ex}\n",
       "</style>\n",
       "<ol class=list-inline><li>'Asia'</li><li>'Tubercolosys'</li><li>'Smoke'</li><li>'LungCancer'</li><li>'Bronchitis'</li><li>'Either'</li><li>'X-ray'</li><li>'Dyspnea'</li></ol>\n",
       "</dd>\n",
       "</dl>\n"
      ],
      "text/latex": [
       "\\begin{description}\n",
       "\\item[\\$dag] \\begin{enumerate}\n",
       "\\item <NA>\n",
       "\\item 1\n",
       "\\item 1\n",
       "\\item <NA>\n",
       "\\item 4\n",
       "\\item \\begin{enumerate*}\n",
       "\\item 2\n",
       "\\item 5\n",
       "\\end{enumerate*}\n",
       "\n",
       "\\item 6\n",
       "\\item \\begin{enumerate*}\n",
       "\\item 3\n",
       "\\item 6\n",
       "\\end{enumerate*}\n",
       "\n",
       "\\end{enumerate}\n",
       "\n",
       "\\item[\\$score] -22481.3519143454\n",
       "\\item[\\$order] \\begin{enumerate*}\n",
       "\\item 'Asia'\n",
       "\\item 'Tubercolosys'\n",
       "\\item 'Smoke'\n",
       "\\item 'LungCancer'\n",
       "\\item 'Bronchitis'\n",
       "\\item 'Either'\n",
       "\\item 'X-ray'\n",
       "\\item 'Dyspnea'\n",
       "\\end{enumerate*}\n",
       "\n",
       "\\end{description}\n"
      ],
      "text/markdown": [
       "$dag\n",
       ":   1. &lt;NA&gt;\n",
       "2. 1\n",
       "3. 1\n",
       "4. &lt;NA&gt;\n",
       "5. 4\n",
       "6. 1. 2\n",
       "2. 5\n",
       "\n",
       "\n",
       "\n",
       "7. 6\n",
       "8. 1. 3\n",
       "2. 6\n",
       "\n",
       "\n",
       "\n",
       "\n",
       "\n",
       "\n",
       "$score\n",
       ":   -22481.3519143454\n",
       "$order\n",
       ":   1. 'Asia'\n",
       "2. 'Tubercolosys'\n",
       "3. 'Smoke'\n",
       "4. 'LungCancer'\n",
       "5. 'Bronchitis'\n",
       "6. 'Either'\n",
       "7. 'X-ray'\n",
       "8. 'Dyspnea'\n",
       "\n",
       "\n",
       "\n",
       "\n",
       "\n"
      ],
      "text/plain": [
       "$dag\n",
       "$dag[[1]]\n",
       "[1] NA\n",
       "\n",
       "$dag[[2]]\n",
       "[1] 1\n",
       "\n",
       "$dag[[3]]\n",
       "[1] 1\n",
       "\n",
       "$dag[[4]]\n",
       "[1] NA\n",
       "\n",
       "$dag[[5]]\n",
       "[1] 4\n",
       "\n",
       "$dag[[6]]\n",
       "[1] 2 5\n",
       "\n",
       "$dag[[7]]\n",
       "[1] 6\n",
       "\n",
       "$dag[[8]]\n",
       "[1] 3 6\n",
       "\n",
       "\n",
       "$score\n",
       "[1] -22481.35\n",
       "\n",
       "$order\n",
       "[1] \"Asia\"         \"Tubercolosys\" \"Smoke\"        \"LungCancer\"   \"Bronchitis\"  \n",
       "[6] \"Either\"       \"X-ray\"        \"Dyspnea\"     \n"
      ]
     },
     "metadata": {},
     "output_type": "display_data"
    }
   ],
   "source": [
    "struct"
   ]
  },
  {
   "cell_type": "code",
   "execution_count": 7,
   "metadata": {
    "vscode": {
     "languageId": "r"
    }
   },
   "outputs": [
    {
     "data": {
      "image/png": "[encoded data removed]",
      "text/plain": [
       "plot without title"
      ]
     },
     "metadata": {
      "image/png": {
       "height": 420,
       "width": 420
      }
     },
     "output_type": "display_data"
    }
   ],
   "source": [
    "dag = get_dag(names(DF), struct$dag)\n",
    "graphviz.plot(dag)"
   ]
  },
  {
   "cell_type": "code",
   "execution_count": null,
   "metadata": {},
   "outputs": [],
   "source": []
  },
  {
   "cell_type": "markdown",
   "metadata": {},
   "source": [
    "## `bnlearn` comparison"
   ]
  },
  {
   "cell_type": "code",
   "execution_count": 8,
   "metadata": {},
   "outputs": [
    {
     "data": {
      "text/plain": [
       "\n",
       "  Bayesian network parameters\n",
       "\n",
       "  Parameters of node Asia (multinomial distribution)\n",
       "\n",
       "Conditional probability table:\n",
       "         1         2 \n",
       "0.4953047 0.5046953 \n",
       "\n",
       "  Parameters of node Bronchitis (multinomial distribution)\n",
       "\n",
       "Conditional probability table:\n",
       " \n",
       "          LungCancer\n",
       "Bronchitis          1          2\n",
       "         1 0.98865127 0.91237113\n",
       "         2 0.01134873 0.08762887\n",
       "\n",
       "  Parameters of node Dyspnea (multinomial distribution)\n",
       "\n",
       "Conditional probability table:\n",
       " \n",
       ", , Smoke = 1\n",
       "\n",
       "       Either\n",
       "Dyspnea         1         2\n",
       "      1 0.8956526 0.2996604\n",
       "      2 0.1043474 0.7003396\n",
       "\n",
       ", , Smoke = 2\n",
       "\n",
       "       Either\n",
       "Dyspnea         1         2\n",
       "      1 0.2066524 0.0786736\n",
       "      2 0.7933476 0.9213264\n",
       "\n",
       "\n",
       "  Parameters of node Either (multinomial distribution)\n",
       "\n",
       "Conditional probability table:\n",
       " \n",
       ", , Tubercolosys = 1\n",
       "\n",
       "      Bronchitis\n",
       "Either           1           2\n",
       "     1 0.999866002 0.010917031\n",
       "     2 0.000133998 0.989082969\n",
       "\n",
       ", , Tubercolosys = 2\n",
       "\n",
       "      Bronchitis\n",
       "Either           1           2\n",
       "     1 0.002230152 0.192307692\n",
       "     2 0.997769848 0.807692308\n",
       "\n",
       "\n",
       "  Parameters of node LungCancer (multinomial distribution)\n",
       "\n",
       "Conditional probability table:\n",
       "          1          2 \n",
       "0.99030969 0.00969031 \n",
       "\n",
       "  Parameters of node Smoke (multinomial distribution)\n",
       "\n",
       "Conditional probability table:\n",
       " \n",
       "     Asia\n",
       "Smoke         1         2\n",
       "    1 0.6963493 0.3902415\n",
       "    2 0.3036507 0.6097585\n",
       "\n",
       "  Parameters of node Tubercolosys (multinomial distribution)\n",
       "\n",
       "Conditional probability table:\n",
       " \n",
       "            Asia\n",
       "Tubercolosys           1           2\n",
       "           1 0.992436466 0.895190024\n",
       "           2 0.007563534 0.104809976\n",
       "\n",
       "  Parameters of node X-ray (multinomial distribution)\n",
       "\n",
       "Conditional probability table:\n",
       " \n",
       "     Either\n",
       "X-ray          1          2\n",
       "    1 0.04870861 0.97717231\n",
       "    2 0.95129139 0.02282769\n"
      ]
     },
     "metadata": {},
     "output_type": "display_data"
    }
   ],
   "source": [
    "bn_bayes = bn.fit(dag, data = DF, method = 'bayes', iss = 10)\n",
    "bn_bayes"
   ]
  },
  {
   "cell_type": "code",
   "execution_count": 10,
   "metadata": {},
   "outputs": [
    {
     "data": {
      "text/plain": [
       "\n",
       "\tMutual Information (disc.)\n",
       "\n",
       "data:  Asia ~ Tubercolosys | X-ray\n",
       "mi = 313.65, df = 2, p-value < 2.2e-16\n",
       "alternative hypothesis: true value is greater than 0\n"
      ]
     },
     "metadata": {},
     "output_type": "display_data"
    }
   ],
   "source": [
    "# recall that when we make this test H_0 = (x, y) are independent\n",
    "ci.test(x = 'Asia', y = 'Tubercolosys', z = 'X-ray', data = DF, test = 'mi')\n",
    "\n",
    "# this shows that since the p-value is low, by \n",
    "# taking a 5% significance level we can reject the null \n",
    "# hyp and say that x3 and x2 depend on each other"
   ]
  },
  {
   "cell_type": "code",
   "execution_count": 11,
   "metadata": {},
   "outputs": [
    {
     "data": {
      "text/plain": [
       "\n",
       "\tMutual Information (disc.)\n",
       "\n",
       "data:  Dyspnea ~ Asia | Smoke\n",
       "mi = 20.932, df = 2, p-value = 2.848e-05\n",
       "alternative hypothesis: true value is greater than 0\n"
      ]
     },
     "metadata": {},
     "output_type": "display_data"
    }
   ],
   "source": [
    "# this may say something about the structure we got through K2\n",
    "ci.test(x = 'Dyspnea', y = 'Asia', z = 'Smoke', data = DF, test = 'mi')"
   ]
  },
  {
   "cell_type": "code",
   "execution_count": 12,
   "metadata": {},
   "outputs": [
    {
     "data": {
      "text/html": [
       "-22481.3519143454"
      ],
      "text/latex": [
       "-22481.3519143454"
      ],
      "text/markdown": [
       "-22481.3519143454"
      ],
      "text/plain": [
       "[1] -22481.35"
      ]
     },
     "metadata": {},
     "output_type": "display_data"
    },
    {
     "data": {
      "text/html": [
       "-22466.3965464915"
      ],
      "text/latex": [
       "-22466.3965464915"
      ],
      "text/markdown": [
       "-22466.3965464915"
      ],
      "text/plain": [
       "[1] -22466.4"
      ]
     },
     "metadata": {},
     "output_type": "display_data"
    }
   ],
   "source": [
    "# evaluate the score of our network\n",
    "score(dag, data = DF, type = 'bic')\n",
    "score(dag, data = DF, type = 'bde')"
   ]
  },
  {
   "cell_type": "markdown",
   "metadata": {},
   "source": [
    "### This is the very same result that we get too!!! :)"
   ]
  },
  {
   "cell_type": "code",
   "execution_count": null,
   "metadata": {},
   "outputs": [],
   "source": []
  },
  {
   "cell_type": "code",
   "execution_count": 13,
   "metadata": {},
   "outputs": [],
   "source": [
    "dataset <- asia()\n",
    "net <- BN(dataset)"
   ]
  },
  {
   "cell_type": "code",
   "execution_count": 14,
   "metadata": {},
   "outputs": [
    {
     "data": {
      "text/plain": [
       "\n",
       "Bayesian Network: BNDataset\n",
       "\n",
       "num.nodes 8\n",
       "\n",
       "variables\n",
       "Asia Tubercolosys Smoke LungCancer Bronchitis Either X-ray Dyspnea\n",
       "discreteness\n",
       "TRUE TRUE TRUE TRUE TRUE TRUE TRUE TRUE\n",
       "node.sizes\n",
       "2 2 2 2 2 2 2 2"
      ]
     },
     "metadata": {},
     "output_type": "display_data"
    }
   ],
   "source": [
    "net"
   ]
  },
  {
   "cell_type": "code",
   "execution_count": 15,
   "metadata": {},
   "outputs": [
    {
     "name": "stderr",
     "output_type": "stream",
     "text": [
      "bnstruct :: learning the structure using MMHC ...\n",
      "\n",
      "bnstruct :: learning using MMHC completed.\n",
      "\n",
      "bnstruct :: learning network parameters ... \n",
      "\n",
      "bnstruct :: parameter learning done.\n",
      "\n"
     ]
    }
   ],
   "source": [
    "net <- learn.network(dataset)"
   ]
  },
  {
   "cell_type": "code",
   "execution_count": 16,
   "metadata": {
    "scrolled": false
   },
   "outputs": [
    {
     "data": {
      "text/plain": [
       "\n",
       "Bayesian Network: BNDataset\n",
       "\n",
       "num.nodes 8\n",
       "\n",
       "variables\n",
       "Asia Tubercolosys Smoke LungCancer Bronchitis Either X-ray Dyspnea\n",
       "discreteness\n",
       "TRUE TRUE TRUE TRUE TRUE TRUE TRUE TRUE\n",
       "node.sizes\n",
       "2 2 2 2 2 2 2 2\n",
       "Adjacency matrix:\n",
       "             Asia Tubercolosys Smoke LungCancer Bronchitis Either X-ray Dyspnea\n",
       "Asia            0            1     1          0          0      0     0       0\n",
       "Tubercolosys    0            0     0          0          0      1     0       0\n",
       "Smoke           0            0     0          0          0      0     0       1\n",
       "LungCancer      0            0     0          0          1      0     0       0\n",
       "Bronchitis      0            0     0          0          0      1     0       0\n",
       "Either          0            0     0          0          0      0     0       0\n",
       "X-ray           0            0     0          0          0      0     0       1\n",
       "Dyspnea         0            0     0          0          0      0     0       0\n",
       "\n",
       "Conditional probability tables:$Asia\n",
       "Asia\n",
       "        1         2 \n",
       "0.4953005 0.5046995 \n",
       "\n",
       "$Tubercolosys\n",
       "    Tubercolosys\n",
       "Asia         1          2\n",
       "   1 0.9928838 0.00711618\n",
       "   2 0.8955423 0.10445765\n",
       "\n",
       "$Smoke\n",
       "    Smoke\n",
       "Asia         1         2\n",
       "   1 0.6965277 0.3034723\n",
       "   2 0.3901436 0.6098564\n",
       "\n",
       "$LungCancer\n",
       "LungCancer\n",
       "          1           2 \n",
       "0.990750925 0.009249075 \n",
       "\n",
       "$Bronchitis\n",
       "          Bronchitis\n",
       "LungCancer         1          2\n",
       "         1 0.9888732 0.01112681\n",
       "         2 0.9324324 0.06756757\n",
       "\n",
       "$Either\n",
       ", , Either = 1\n",
       "\n",
       "            Bronchitis\n",
       "Tubercolosys           1           2\n",
       "           1 0.999986597 0.001113586\n",
       "           2 0.000223914 0.029411765\n",
       "\n",
       ", , Either = 2\n",
       "\n",
       "            Bronchitis\n",
       "Tubercolosys            1         2\n",
       "           1 1.340303e-05 0.9988864\n",
       "           2 9.997761e-01 0.9705882\n",
       "\n",
       "\n",
       "$`X-ray`\n",
       "X-ray\n",
       "        1         2 \n",
       "0.1113389 0.8886611 \n",
       "\n",
       "$Dyspnea\n",
       ", , Dyspnea = 1\n",
       "\n",
       "     X-ray\n",
       "Smoke         1         2\n",
       "    1 0.5774550 0.8954072\n",
       "    2 0.1122538 0.2074995\n",
       "\n",
       ", , Dyspnea = 2\n",
       "\n",
       "     X-ray\n",
       "Smoke         1         2\n",
       "    1 0.4225450 0.1045928\n",
       "    2 0.8877462 0.7925005\n",
       "\n",
       "\n"
      ]
     },
     "metadata": {},
     "output_type": "display_data"
    }
   ],
   "source": [
    "net"
   ]
  },
  {
   "cell_type": "code",
   "execution_count": 17,
   "metadata": {
    "scrolled": false
   },
   "outputs": [
    {
     "data": {
      "image/png": "[encoded data removed]",
      "text/plain": [
       "plot without title"
      ]
     },
     "metadata": {
      "image/png": {
       "height": 420,
       "width": 420
      }
     },
     "output_type": "display_data"
    }
   ],
   "source": [
    "plot(net)"
   ]
  },
  {
   "cell_type": "code",
   "execution_count": null,
   "metadata": {},
   "outputs": [],
   "source": []
  }
 ],
 "metadata": {
  "kernelspec": {
   "display_name": "R",
   "language": "R",
   "name": "ir"
  },
  "language_info": {
   "codemirror_mode": "r",
   "file_extension": ".r",
   "mimetype": "text/x-r-source",
   "name": "R",
   "pygments_lexer": "r",
   "version": "4.2.2"
  }
 },
 "nbformat": 4,
 "nbformat_minor": 2
}
