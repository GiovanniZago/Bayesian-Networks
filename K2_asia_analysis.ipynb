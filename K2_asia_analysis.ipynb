{
 "cells": [
  {
   "cell_type": "code",
   "execution_count": 1,
   "metadata": {
    "vscode": {
     "languageId": "r"
    }
   },
   "outputs": [
    {
     "name": "stderr",
     "output_type": "stream",
     "text": [
      "Warning message:\n",
      "\"package 'purrr' was built under R version 3.6.3\"Loading required package: graph\n",
      "Loading required package: BiocGenerics\n",
      "Loading required package: parallel\n",
      "\n",
      "Attaching package: 'BiocGenerics'\n",
      "\n",
      "The following objects are masked from 'package:parallel':\n",
      "\n",
      "    clusterApply, clusterApplyLB, clusterCall, clusterEvalQ,\n",
      "    clusterExport, clusterMap, parApply, parCapply, parLapply,\n",
      "    parLapplyLB, parRapply, parSapply, parSapplyLB\n",
      "\n",
      "The following objects are masked from 'package:stats':\n",
      "\n",
      "    IQR, mad, sd, var, xtabs\n",
      "\n",
      "The following objects are masked from 'package:base':\n",
      "\n",
      "    anyDuplicated, append, as.data.frame, basename, cbind, colnames,\n",
      "    dirname, do.call, duplicated, eval, evalq, Filter, Find, get, grep,\n",
      "    grepl, intersect, is.unsorted, lapply, Map, mapply, match, mget,\n",
      "    order, paste, pmax, pmax.int, pmin, pmin.int, Position, rank,\n",
      "    rbind, Reduce, rownames, sapply, setdiff, sort, table, tapply,\n",
      "    union, unique, unsplit, which, which.max, which.min\n",
      "\n",
      "Loading required package: grid\n",
      "Warning message:\n",
      "\"package 'bnlearn' was built under R version 3.6.3\"Warning message:\n",
      "\"package 'bnstruct' was built under R version 3.6.3\"Loading required package: bitops\n",
      "Warning message:\n",
      "\"package 'bitops' was built under R version 3.6.3\"Loading required package: igraph\n",
      "Warning message:\n",
      "\"package 'igraph' was built under R version 3.6.3\"\n",
      "Attaching package: 'igraph'\n",
      "\n",
      "The following objects are masked from 'package:bnlearn':\n",
      "\n",
      "    as.igraph, compare, degree, path, subgraph\n",
      "\n",
      "The following objects are masked from 'package:graph':\n",
      "\n",
      "    degree, edges, intersection, union\n",
      "\n",
      "The following objects are masked from 'package:BiocGenerics':\n",
      "\n",
      "    normalize, path, union\n",
      "\n",
      "The following objects are masked from 'package:purrr':\n",
      "\n",
      "    compose, simplify\n",
      "\n",
      "The following objects are masked from 'package:stats':\n",
      "\n",
      "    decompose, spectrum\n",
      "\n",
      "The following object is masked from 'package:base':\n",
      "\n",
      "    union\n",
      "\n",
      "\n",
      "Attaching package: 'bnstruct'\n",
      "\n",
      "The following objects are masked from 'package:bnlearn':\n",
      "\n",
      "    impute, read.bif, read.dsc, read.net, shd, write.dsc\n",
      "\n",
      "The following object is masked from 'package:Rgraphviz':\n",
      "\n",
      "    name\n",
      "\n",
      "\n",
      "Attaching package: 'data.table'\n",
      "\n",
      "The following object is masked from 'package:purrr':\n",
      "\n",
      "    transpose\n",
      "\n",
      "\n",
      "Attaching package: 'dplyr'\n",
      "\n",
      "The following objects are masked from 'package:data.table':\n",
      "\n",
      "    between, first, last\n",
      "\n",
      "The following objects are masked from 'package:igraph':\n",
      "\n",
      "    as_data_frame, groups, union\n",
      "\n",
      "The following object is masked from 'package:graph':\n",
      "\n",
      "    union\n",
      "\n",
      "The following objects are masked from 'package:BiocGenerics':\n",
      "\n",
      "    combine, intersect, setdiff, union\n",
      "\n",
      "The following objects are masked from 'package:stats':\n",
      "\n",
      "    filter, lag\n",
      "\n",
      "The following objects are masked from 'package:base':\n",
      "\n",
      "    intersect, setdiff, setequal, union\n",
      "\n"
     ]
    }
   ],
   "source": [
    "# load packages\n",
    "library(purrr)        \n",
    "library(Rgraphviz)    \n",
    "library(bnlearn)      \n",
    "library(bnstruct)   \n",
    "source('K2methods.r') "
   ]
  },
  {
   "cell_type": "code",
   "execution_count": 2,
   "metadata": {
    "vscode": {
     "languageId": "r"
    }
   },
   "outputs": [
    {
     "name": "stderr",
     "output_type": "stream",
     "text": [
      "bnstruct :: performing imputation ...\n",
      "bnstruct :: imputation finished.\n"
     ]
    }
   ],
   "source": [
    "data = asia()\n",
    "data = impute(data)\n",
    "data = imputed.data(data)"
   ]
  },
  {
   "cell_type": "code",
   "execution_count": 3,
   "metadata": {
    "vscode": {
     "languageId": "r"
    }
   },
   "outputs": [
    {
     "data": {
      "text/html": [
       "<table>\n",
       "<thead><tr><th scope=col>Asia</th><th scope=col>Tubercolosys</th><th scope=col>Smoke</th><th scope=col>LungCancer</th><th scope=col>Bronchitis</th><th scope=col>Either</th><th scope=col>X-ray</th><th scope=col>Dyspnea</th></tr></thead>\n",
       "<tbody>\n",
       "\t<tr><td>2</td><td>2</td><td>1</td><td>1</td><td>1</td><td>2</td><td>1</td><td>2</td></tr>\n",
       "\t<tr><td>2</td><td>1</td><td>1</td><td>1</td><td>1</td><td>1</td><td>2</td><td>1</td></tr>\n",
       "\t<tr><td>1</td><td>1</td><td>2</td><td>1</td><td>1</td><td>1</td><td>2</td><td>1</td></tr>\n",
       "\t<tr><td>2</td><td>1</td><td>2</td><td>1</td><td>1</td><td>1</td><td>2</td><td>1</td></tr>\n",
       "\t<tr><td>2</td><td>1</td><td>2</td><td>1</td><td>1</td><td>1</td><td>1</td><td>2</td></tr>\n",
       "\t<tr><td>2</td><td>1</td><td>2</td><td>1</td><td>1</td><td>1</td><td>2</td><td>2</td></tr>\n",
       "</tbody>\n",
       "</table>\n"
      ],
      "text/latex": [
       "\\begin{tabular}{r|llllllll}\n",
       " Asia & Tubercolosys & Smoke & LungCancer & Bronchitis & Either & X-ray & Dyspnea\\\\\n",
       "\\hline\n",
       "\t 2 & 2 & 1 & 1 & 1 & 2 & 1 & 2\\\\\n",
       "\t 2 & 1 & 1 & 1 & 1 & 1 & 2 & 1\\\\\n",
       "\t 1 & 1 & 2 & 1 & 1 & 1 & 2 & 1\\\\\n",
       "\t 2 & 1 & 2 & 1 & 1 & 1 & 2 & 1\\\\\n",
       "\t 2 & 1 & 2 & 1 & 1 & 1 & 1 & 2\\\\\n",
       "\t 2 & 1 & 2 & 1 & 1 & 1 & 2 & 2\\\\\n",
       "\\end{tabular}\n"
      ],
      "text/markdown": [
       "\n",
       "| Asia | Tubercolosys | Smoke | LungCancer | Bronchitis | Either | X-ray | Dyspnea |\n",
       "|---|---|---|---|---|---|---|---|\n",
       "| 2 | 2 | 1 | 1 | 1 | 2 | 1 | 2 |\n",
       "| 2 | 1 | 1 | 1 | 1 | 1 | 2 | 1 |\n",
       "| 1 | 1 | 2 | 1 | 1 | 1 | 2 | 1 |\n",
       "| 2 | 1 | 2 | 1 | 1 | 1 | 2 | 1 |\n",
       "| 2 | 1 | 2 | 1 | 1 | 1 | 1 | 2 |\n",
       "| 2 | 1 | 2 | 1 | 1 | 1 | 2 | 2 |\n",
       "\n"
      ],
      "text/plain": [
       "  Asia Tubercolosys Smoke LungCancer Bronchitis Either X-ray Dyspnea\n",
       "1 2    2            1     1          1          2      1     2      \n",
       "2 2    1            1     1          1          1      2     1      \n",
       "3 1    1            2     1          1          1      2     1      \n",
       "4 2    1            2     1          1          1      2     1      \n",
       "5 2    1            2     1          1          1      1     2      \n",
       "6 2    1            2     1          1          1      2     2      "
      ]
     },
     "metadata": {},
     "output_type": "display_data"
    }
   ],
   "source": [
    "mode(data) = 'character'\n",
    "DF = data.frame(data, stringsAsFactors = TRUE)\n",
    "\n",
    "colnames(DF) <- asia()@variables\n",
    "head(DF)"
   ]
  },
  {
   "cell_type": "code",
   "execution_count": 4,
   "metadata": {},
   "outputs": [],
   "source": [
    "today = 01072023 # default seed = 12345"
   ]
  },
  {
   "cell_type": "code",
   "execution_count": 5,
   "metadata": {
    "scrolled": false,
    "vscode": {
     "languageId": "r"
    }
   },
   "outputs": [
    {
     "name": "stdout",
     "output_type": "stream",
     "text": [
      "order = Asia Tubercolosys Smoke LungCancer Bronchitis Either X-ray Dyspnea \n",
      "Running iteration # 1 u = 1 \n",
      "The Network score is -23361.58 \n",
      "  Running iteration # 1 u = 2 \n",
      "The Network score is -22481.35 \n",
      "  Running iteration # 1 u = 3 \n",
      "The Network score is -22481.35 \n",
      "  Running iteration # 1 u = 4 \n",
      "The Network score is -22481.35 \n",
      "  Running iteration # 1 u = 5 \n",
      "The Network score is -22481.35 \n",
      "  Running iteration # 1 u = 6 \n",
      "The Network score is -22481.35 \n",
      "  Running iteration # 1 u = 7 \n",
      "The Network score is -22481.35 \n",
      "  order = Smoke Bronchitis Dyspnea Asia LungCancer X-ray Tubercolosys Either \n",
      "Running iteration # 2 u = 1 \n",
      "The Network score is -23692.79 \n",
      "  Running iteration # 2 u = 2 \n",
      "The Network score is -22758.55 \n",
      "  Running iteration # 2 u = 3 \n",
      "The Network score is -22683.82 \n",
      "  Running iteration # 2 u = 4 \n",
      "The Network score is -22631.54 \n",
      "  Running iteration # 2 u = 5 \n",
      "The Network score is -22631.54 \n",
      "  Running iteration # 2 u = 6 \n",
      "The Network score is -22631.54 \n",
      "  Running iteration # 2 u = 7 \n",
      "The Network score is -22631.54 \n",
      "  order = Bronchitis X-ray Asia Dyspnea Smoke Tubercolosys Either LungCancer \n",
      "Running iteration # 3 u = 1 \n",
      "The Network score is -23795.94 \n",
      "  Running iteration # 3 u = 2 \n",
      "The Network score is -22754.22 \n",
      "  Running iteration # 3 u = 3 \n",
      "The Network score is -22652.92 \n",
      "  Running iteration # 3 u = 4 \n",
      "The Network score is -22646.65 \n",
      "  Running iteration # 3 u = 5 \n",
      "The Network score is -22646.65 \n",
      "  Running iteration # 3 u = 6 \n",
      "The Network score is -22646.65 \n",
      "  Running iteration # 3 u = 7 \n",
      "The Network score is -22646.65 \n",
      "  order = Tubercolosys Asia X-ray Bronchitis Either Dyspnea LungCancer Smoke \n",
      "Running iteration # 4 u = 1 \n",
      "The Network score is -23639.92 \n",
      "  Running iteration # 4 u = 2 \n",
      "The Network score is -22626.42 \n",
      "  Running iteration # 4 u = 3 \n",
      "The Network score is -22517.81 \n",
      "  Running iteration # 4 u = 4 \n",
      "The Network score is -22517.81 \n",
      "  Running iteration # 4 u = 5 \n",
      "The Network score is -22517.81 \n",
      "  Running iteration # 4 u = 6 \n",
      "The Network score is -22517.81 \n",
      "  Running iteration # 4 u = 7 \n",
      "The Network score is -22517.81 \n",
      "  order = Tubercolosys LungCancer Either X-ray Smoke Bronchitis Dyspnea Asia \n",
      "Running iteration # 5 u = 1 \n",
      "The Network score is -23283.8 \n",
      "  Running iteration # 5 u = 2 \n",
      "The Network score is -22497.91 \n",
      "  Running iteration # 5 u = 3 \n",
      "The Network score is -22497.91 \n",
      "  Running iteration # 5 u = 4 \n",
      "The Network score is -22497.91 \n",
      "  Running iteration # 5 u = 5 \n",
      "The Network score is -22497.91 \n",
      "  Running iteration # 5 u = 6 \n",
      "The Network score is -22497.91 \n",
      "  Running iteration # 5 u = 7 \n",
      "The Network score is -22497.91 \n",
      "  order = Either X-ray Asia Dyspnea LungCancer Smoke Bronchitis Tubercolosys \n",
      "Running iteration # 6 u = 1 \n",
      "The Network score is -23330.21 \n",
      "  Running iteration # 6 u = 2 \n",
      "The Network score is -22629.88 \n",
      "  Running iteration # 6 u = 3 \n",
      "The Network score is -22521.27 \n",
      "  Running iteration # 6 u = 4 \n",
      "The Network score is -22521.27 \n",
      "  Running iteration # 6 u = 5 \n",
      "The Network score is -22521.27 \n",
      "  Running iteration # 6 u = 6 \n",
      "The Network score is -22521.27 \n",
      "  Running iteration # 6 u = 7 \n",
      "The Network score is -22521.27 \n",
      "  order = X-ray Dyspnea Asia Bronchitis Smoke Tubercolosys LungCancer Either \n",
      "Running iteration # 7 u = 1 \n",
      "The Network score is -23784.84 \n",
      "  Running iteration # 7 u = 2 \n",
      "The Network score is -22754.22 \n",
      "  Running iteration # 7 u = 3 \n",
      "The Network score is -22652.92 \n",
      "  Running iteration # 7 u = 4 \n",
      "The Network score is -22646.65 \n",
      "  Running iteration # 7 u = 5 \n",
      "The Network score is -22646.65 \n",
      "  Running iteration # 7 u = 6 \n",
      "The Network score is -22646.65 \n",
      "  Running iteration # 7 u = 7 \n",
      "The Network score is -22646.65 \n",
      "  order = Asia X-ray Tubercolosys LungCancer Smoke Bronchitis Either Dyspnea \n",
      "Running iteration # 8 u = 1 \n",
      "The Network score is -23588.03 \n",
      "  Running iteration # 8 u = 2 \n",
      "The Network score is -22508.94 \n",
      "  Running iteration # 8 u = 3 \n",
      "The Network score is -22508.94 \n",
      "  Running iteration # 8 u = 4 \n",
      "The Network score is -22508.94 \n",
      "  Running iteration # 8 u = 5 \n",
      "The Network score is -22508.94 \n",
      "  Running iteration # 8 u = 6 \n",
      "The Network score is -22508.94 \n",
      "  Running iteration # 8 u = 7 \n",
      "The Network score is -22508.94 \n",
      "  order = Dyspnea Bronchitis Either X-ray LungCancer Smoke Tubercolosys Asia \n",
      "Running iteration # 9 u = 1 \n",
      "The Network score is -23279.58 \n",
      "  Running iteration # 9 u = 2 \n",
      "The Network score is -22511.98 \n",
      "  Running iteration # 9 u = 3 \n",
      "The Network score is -22516.96 \n",
      "  Running iteration # 9 u = 4 \n",
      "The Network score is -22516.96 \n",
      "  Running iteration # 9 u = 5 \n",
      "The Network score is -22516.96 \n",
      "  Running iteration # 9 u = 6 \n",
      "The Network score is -22516.96 \n",
      "  Running iteration # 9 u = 7 \n",
      "The Network score is -22516.96 \n",
      "  order = Tubercolosys Smoke Dyspnea LungCancer Asia Bronchitis X-ray Either \n",
      "Running iteration # 10 u = 1 \n",
      "The Network score is -23880.9 \n",
      "  Running iteration # 10 u = 2 \n",
      "The Network score is -22514.46 \n",
      "  Running iteration # 10 u = 3 \n",
      "The Network score is -22514.46 \n",
      "  Running iteration # 10 u = 4 \n",
      "The Network score is -22514.46 \n",
      "  Running iteration # 10 u = 5 \n",
      "The Network score is -22514.46 \n",
      "  Running iteration # 10 u = 6 \n",
      "The Network score is -22514.46 \n",
      "  Running iteration # 10 u = 7 \n",
      "The Network score is -22514.46 \n",
      "   DONE \n",
      "\n",
      "Total execution time: 242.1226 mins\n"
     ]
    }
   ],
   "source": [
    "struct = K2(n = ncol(DF), u = 7, D = DF, seed=today, num.iterations=10)"
   ]
  },
  {
   "cell_type": "code",
   "execution_count": 6,
   "metadata": {
    "vscode": {
     "languageId": "r"
    }
   },
   "outputs": [
    {
     "data": {
      "text/html": [
       "<dl>\n",
       "\t<dt>$dag</dt>\n",
       "\t\t<dd><ol>\n",
       "\t<li>&lt;NA&gt;</li>\n",
       "\t<li>1</li>\n",
       "\t<li>1</li>\n",
       "\t<li>&lt;NA&gt;</li>\n",
       "\t<li>4</li>\n",
       "\t<li><ol class=list-inline>\n",
       "\t<li>2</li>\n",
       "\t<li>5</li>\n",
       "</ol>\n",
       "</li>\n",
       "\t<li>6</li>\n",
       "\t<li><ol class=list-inline>\n",
       "\t<li>3</li>\n",
       "\t<li>6</li>\n",
       "</ol>\n",
       "</li>\n",
       "</ol>\n",
       "</dd>\n",
       "\t<dt>$score</dt>\n",
       "\t\t<dd>-22481.3519143454</dd>\n",
       "\t<dt>$order</dt>\n",
       "\t\t<dd><ol class=list-inline>\n",
       "\t<li>'Asia'</li>\n",
       "\t<li>'Tubercolosys'</li>\n",
       "\t<li>'Smoke'</li>\n",
       "\t<li>'LungCancer'</li>\n",
       "\t<li>'Bronchitis'</li>\n",
       "\t<li>'Either'</li>\n",
       "\t<li>'X-ray'</li>\n",
       "\t<li>'Dyspnea'</li>\n",
       "</ol>\n",
       "</dd>\n",
       "\t<dt>$u</dt>\n",
       "\t\t<dd>2</dd>\n",
       "</dl>\n"
      ],
      "text/latex": [
       "\\begin{description}\n",
       "\\item[\\$dag] \\begin{enumerate}\n",
       "\\item <NA>\n",
       "\\item 1\n",
       "\\item 1\n",
       "\\item <NA>\n",
       "\\item 4\n",
       "\\item \\begin{enumerate*}\n",
       "\\item 2\n",
       "\\item 5\n",
       "\\end{enumerate*}\n",
       "\n",
       "\\item 6\n",
       "\\item \\begin{enumerate*}\n",
       "\\item 3\n",
       "\\item 6\n",
       "\\end{enumerate*}\n",
       "\n",
       "\\end{enumerate}\n",
       "\n",
       "\\item[\\$score] -22481.3519143454\n",
       "\\item[\\$order] \\begin{enumerate*}\n",
       "\\item 'Asia'\n",
       "\\item 'Tubercolosys'\n",
       "\\item 'Smoke'\n",
       "\\item 'LungCancer'\n",
       "\\item 'Bronchitis'\n",
       "\\item 'Either'\n",
       "\\item 'X-ray'\n",
       "\\item 'Dyspnea'\n",
       "\\end{enumerate*}\n",
       "\n",
       "\\item[\\$u] 2\n",
       "\\end{description}\n"
      ],
      "text/markdown": [
       "$dag\n",
       ":   1. &lt;NA&gt;\n",
       "2. 1\n",
       "3. 1\n",
       "4. &lt;NA&gt;\n",
       "5. 4\n",
       "6. 1. 2\n",
       "2. 5\n",
       "\n",
       "\n",
       "\n",
       "7. 6\n",
       "8. 1. 3\n",
       "2. 6\n",
       "\n",
       "\n",
       "\n",
       "\n",
       "\n",
       "\n",
       "$score\n",
       ":   -22481.3519143454\n",
       "$order\n",
       ":   1. 'Asia'\n",
       "2. 'Tubercolosys'\n",
       "3. 'Smoke'\n",
       "4. 'LungCancer'\n",
       "5. 'Bronchitis'\n",
       "6. 'Either'\n",
       "7. 'X-ray'\n",
       "8. 'Dyspnea'\n",
       "\n",
       "\n",
       "\n",
       "$u\n",
       ":   2\n",
       "\n",
       "\n"
      ],
      "text/plain": [
       "$dag\n",
       "$dag[[1]]\n",
       "[1] NA\n",
       "\n",
       "$dag[[2]]\n",
       "[1] 1\n",
       "\n",
       "$dag[[3]]\n",
       "[1] 1\n",
       "\n",
       "$dag[[4]]\n",
       "[1] NA\n",
       "\n",
       "$dag[[5]]\n",
       "[1] 4\n",
       "\n",
       "$dag[[6]]\n",
       "[1] 2 5\n",
       "\n",
       "$dag[[7]]\n",
       "[1] 6\n",
       "\n",
       "$dag[[8]]\n",
       "[1] 3 6\n",
       "\n",
       "\n",
       "$score\n",
       "[1] -22481.35\n",
       "\n",
       "$order\n",
       "[1] \"Asia\"         \"Tubercolosys\" \"Smoke\"        \"LungCancer\"   \"Bronchitis\"  \n",
       "[6] \"Either\"       \"X-ray\"        \"Dyspnea\"     \n",
       "\n",
       "$u\n",
       "[1] 2\n"
      ]
     },
     "metadata": {},
     "output_type": "display_data"
    }
   ],
   "source": [
    "struct"
   ]
  },
  {
   "cell_type": "code",
   "execution_count": 7,
   "metadata": {
    "vscode": {
     "languageId": "r"
    }
   },
   "outputs": [
    {
     "data": {
      "image/png": "[encoded data removed]",
      "text/plain": [
       "plot without title"
      ]
     },
     "metadata": {},
     "output_type": "display_data"
    }
   ],
   "source": [
    "dag = get_dag(names(DF), struct$dag)\n",
    "graphviz.plot(dag)"
   ]
  },
  {
   "cell_type": "code",
   "execution_count": null,
   "metadata": {},
   "outputs": [],
   "source": []
  },
  {
   "cell_type": "markdown",
   "metadata": {},
   "source": [
    "## `bnlearn` comparison"
   ]
  },
  {
   "cell_type": "code",
   "execution_count": 8,
   "metadata": {},
   "outputs": [
    {
     "data": {
      "text/plain": [
       "\n",
       "  Bayesian network parameters\n",
       "\n",
       "  Parameters of node Asia (multinomial distribution)\n",
       "\n",
       "Conditional probability table:\n",
       "         1         2 \n",
       "0.4953047 0.5046953 \n",
       "\n",
       "  Parameters of node Bronchitis (multinomial distribution)\n",
       "\n",
       "Conditional probability table:\n",
       " \n",
       "          LungCancer\n",
       "Bronchitis          1          2\n",
       "         1 0.98865127 0.91237113\n",
       "         2 0.01134873 0.08762887\n",
       "\n",
       "  Parameters of node Dyspnea (multinomial distribution)\n",
       "\n",
       "Conditional probability table:\n",
       " \n",
       ", , Smoke = 1\n",
       "\n",
       "       Either\n",
       "Dyspnea         1         2\n",
       "      1 0.8956526 0.2996604\n",
       "      2 0.1043474 0.7003396\n",
       "\n",
       ", , Smoke = 2\n",
       "\n",
       "       Either\n",
       "Dyspnea         1         2\n",
       "      1 0.2066524 0.0786736\n",
       "      2 0.7933476 0.9213264\n",
       "\n",
       "\n",
       "  Parameters of node Either (multinomial distribution)\n",
       "\n",
       "Conditional probability table:\n",
       " \n",
       ", , Tubercolosys = 1\n",
       "\n",
       "      Bronchitis\n",
       "Either           1           2\n",
       "     1 0.999866002 0.010917031\n",
       "     2 0.000133998 0.989082969\n",
       "\n",
       ", , Tubercolosys = 2\n",
       "\n",
       "      Bronchitis\n",
       "Either           1           2\n",
       "     1 0.002230152 0.192307692\n",
       "     2 0.997769848 0.807692308\n",
       "\n",
       "\n",
       "  Parameters of node LungCancer (multinomial distribution)\n",
       "\n",
       "Conditional probability table:\n",
       "          1          2 \n",
       "0.99030969 0.00969031 \n",
       "\n",
       "  Parameters of node Smoke (multinomial distribution)\n",
       "\n",
       "Conditional probability table:\n",
       " \n",
       "     Asia\n",
       "Smoke         1         2\n",
       "    1 0.6963493 0.3902415\n",
       "    2 0.3036507 0.6097585\n",
       "\n",
       "  Parameters of node Tubercolosys (multinomial distribution)\n",
       "\n",
       "Conditional probability table:\n",
       " \n",
       "            Asia\n",
       "Tubercolosys           1           2\n",
       "           1 0.992436466 0.895190024\n",
       "           2 0.007563534 0.104809976\n",
       "\n",
       "  Parameters of node X-ray (multinomial distribution)\n",
       "\n",
       "Conditional probability table:\n",
       " \n",
       "     Either\n",
       "X-ray          1          2\n",
       "    1 0.04870861 0.97717231\n",
       "    2 0.95129139 0.02282769\n"
      ]
     },
     "metadata": {},
     "output_type": "display_data"
    }
   ],
   "source": [
    "bn_bayes = bn.fit(dag, data = DF, method = 'bayes', iss = 10)\n",
    "bn_bayes"
   ]
  },
  {
   "cell_type": "code",
   "execution_count": 9,
   "metadata": {},
   "outputs": [
    {
     "data": {
      "text/plain": [
       "\n",
       "\tMutual Information (disc.)\n",
       "\n",
       "data:  Asia ~ Tubercolosys | X-ray\n",
       "mi = 313.65, df = 2, p-value < 2.2e-16\n",
       "alternative hypothesis: true value is greater than 0\n"
      ]
     },
     "metadata": {},
     "output_type": "display_data"
    }
   ],
   "source": [
    "# recall that when we make this test H_0 = (x, y) are independent\n",
    "ci.test(x = 'Asia', y = 'Tubercolosys', z = 'X-ray', data = DF, test = 'mi')\n",
    "\n",
    "# this shows that since the p-value is low, by \n",
    "# taking a 5% significance level we can reject the null \n",
    "# hyp and say that x3 and x2 depend on each other"
   ]
  },
  {
   "cell_type": "code",
   "execution_count": 10,
   "metadata": {},
   "outputs": [
    {
     "data": {
      "text/plain": [
       "\n",
       "\tMutual Information (disc.)\n",
       "\n",
       "data:  Dyspnea ~ Asia | Smoke\n",
       "mi = 20.932, df = 2, p-value = 2.848e-05\n",
       "alternative hypothesis: true value is greater than 0\n"
      ]
     },
     "metadata": {},
     "output_type": "display_data"
    }
   ],
   "source": [
    "# this may say something about the structure we got through K2\n",
    "ci.test(x = 'Dyspnea', y = 'Asia', z = 'Smoke', data = DF, test = 'mi')"
   ]
  },
  {
   "cell_type": "code",
   "execution_count": 11,
   "metadata": {},
   "outputs": [
    {
     "data": {
      "text/html": [
       "-22481.3519143454"
      ],
      "text/latex": [
       "-22481.3519143454"
      ],
      "text/markdown": [
       "-22481.3519143454"
      ],
      "text/plain": [
       "[1] -22481.35"
      ]
     },
     "metadata": {},
     "output_type": "display_data"
    },
    {
     "data": {
      "text/html": [
       "-22466.3965464915"
      ],
      "text/latex": [
       "-22466.3965464915"
      ],
      "text/markdown": [
       "-22466.3965464915"
      ],
      "text/plain": [
       "[1] -22466.4"
      ]
     },
     "metadata": {},
     "output_type": "display_data"
    }
   ],
   "source": [
    "# evaluate the score of our network\n",
    "score(dag, data = DF, type = 'bic')\n",
    "score(dag, data = DF, type = 'bde')"
   ]
  },
  {
   "cell_type": "code",
   "execution_count": 12,
   "metadata": {},
   "outputs": [
    {
     "data": {
      "text/html": [
       "<table>\n",
       "<thead><tr><th scope=col>from</th><th scope=col>to</th><th scope=col>strength</th></tr></thead>\n",
       "<tbody>\n",
       "\t<tr><td>Asia         </td><td>Tubercolosys </td><td> 3.849045e-99</td></tr>\n",
       "\t<tr><td>Asia         </td><td>Smoke        </td><td>1.289269e-207</td></tr>\n",
       "\t<tr><td>LungCancer   </td><td>Bronchitis   </td><td> 1.398947e-06</td></tr>\n",
       "\t<tr><td>Tubercolosys </td><td>Either       </td><td> 0.000000e+00</td></tr>\n",
       "\t<tr><td>Bronchitis   </td><td>Either       </td><td> 0.000000e+00</td></tr>\n",
       "\t<tr><td>Either       </td><td>X-ray        </td><td> 0.000000e+00</td></tr>\n",
       "\t<tr><td>Smoke        </td><td>Dyspnea      </td><td> 0.000000e+00</td></tr>\n",
       "\t<tr><td>Either       </td><td>Dyspnea      </td><td>4.697936e-191</td></tr>\n",
       "</tbody>\n",
       "</table>\n"
      ],
      "text/latex": [
       "\\begin{tabular}{r|lll}\n",
       " from & to & strength\\\\\n",
       "\\hline\n",
       "\t Asia          & Tubercolosys  &  3.849045e-99\\\\\n",
       "\t Asia          & Smoke         & 1.289269e-207\\\\\n",
       "\t LungCancer    & Bronchitis    &  1.398947e-06\\\\\n",
       "\t Tubercolosys  & Either        &  0.000000e+00\\\\\n",
       "\t Bronchitis    & Either        &  0.000000e+00\\\\\n",
       "\t Either        & X-ray         &  0.000000e+00\\\\\n",
       "\t Smoke         & Dyspnea       &  0.000000e+00\\\\\n",
       "\t Either        & Dyspnea       & 4.697936e-191\\\\\n",
       "\\end{tabular}\n"
      ],
      "text/markdown": [
       "\n",
       "| from | to | strength |\n",
       "|---|---|---|\n",
       "| Asia          | Tubercolosys  |  3.849045e-99 |\n",
       "| Asia          | Smoke         | 1.289269e-207 |\n",
       "| LungCancer    | Bronchitis    |  1.398947e-06 |\n",
       "| Tubercolosys  | Either        |  0.000000e+00 |\n",
       "| Bronchitis    | Either        |  0.000000e+00 |\n",
       "| Either        | X-ray         |  0.000000e+00 |\n",
       "| Smoke         | Dyspnea       |  0.000000e+00 |\n",
       "| Either        | Dyspnea       | 4.697936e-191 |\n",
       "\n"
      ],
      "text/plain": [
       "  from         to           strength     \n",
       "1 Asia         Tubercolosys  3.849045e-99\n",
       "2 Asia         Smoke        1.289269e-207\n",
       "3 LungCancer   Bronchitis    1.398947e-06\n",
       "4 Tubercolosys Either        0.000000e+00\n",
       "5 Bronchitis   Either        0.000000e+00\n",
       "6 Either       X-ray         0.000000e+00\n",
       "7 Smoke        Dyspnea       0.000000e+00\n",
       "8 Either       Dyspnea      4.697936e-191"
      ]
     },
     "metadata": {},
     "output_type": "display_data"
    }
   ],
   "source": [
    "arc.strength(dag, data=DF, criterion=\"x2\")"
   ]
  },
  {
   "cell_type": "markdown",
   "metadata": {},
   "source": [
    "### This is the very same result that we get too!!! :)"
   ]
  },
  {
   "cell_type": "code",
   "execution_count": null,
   "metadata": {},
   "outputs": [],
   "source": []
  },
  {
   "cell_type": "code",
   "execution_count": 13,
   "metadata": {},
   "outputs": [],
   "source": [
    "dataset <- asia()\n",
    "net <- BN(dataset)"
   ]
  },
  {
   "cell_type": "code",
   "execution_count": 14,
   "metadata": {},
   "outputs": [
    {
     "data": {
      "text/plain": [
       "\n",
       "Bayesian Network: BNDataset\n",
       "\n",
       "num.nodes 8\n",
       "\n",
       "variables\n",
       "Asia Tubercolosys Smoke LungCancer Bronchitis Either X-ray Dyspnea\n",
       "discreteness\n",
       "TRUE TRUE TRUE TRUE TRUE TRUE TRUE TRUE\n",
       "node.sizes\n",
       "2 2 2 2 2 2 2 2"
      ]
     },
     "metadata": {},
     "output_type": "display_data"
    }
   ],
   "source": [
    "net"
   ]
  },
  {
   "cell_type": "code",
   "execution_count": 15,
   "metadata": {},
   "outputs": [
    {
     "name": "stderr",
     "output_type": "stream",
     "text": [
      "bnstruct :: learning the structure using MMHC ...\n",
      "bnstruct :: learning using MMHC completed.\n",
      "bnstruct :: learning network parameters ... \n",
      "bnstruct :: parameter learning done.\n"
     ]
    }
   ],
   "source": [
    "net <- learn.network(dataset)"
   ]
  },
  {
   "cell_type": "code",
   "execution_count": 16,
   "metadata": {
    "scrolled": false
   },
   "outputs": [
    {
     "data": {
      "text/plain": [
       "\n",
       "Bayesian Network: BNDataset\n",
       "\n",
       "num.nodes 8\n",
       "\n",
       "variables\n",
       "Asia Tubercolosys Smoke LungCancer Bronchitis Either X-ray Dyspnea\n",
       "discreteness\n",
       "TRUE TRUE TRUE TRUE TRUE TRUE TRUE TRUE\n",
       "node.sizes\n",
       "2 2 2 2 2 2 2 2\n",
       "Adjacency matrix:\n",
       "             Asia Tubercolosys Smoke LungCancer Bronchitis Either X-ray Dyspnea\n",
       "Asia            0            1     1          0          0      0     0       0\n",
       "Tubercolosys    0            0     0          0          0      1     0       0\n",
       "Smoke           0            0     0          0          0      0     0       1\n",
       "LungCancer      0            0     0          0          1      0     0       0\n",
       "Bronchitis      0            0     0          0          0      1     0       0\n",
       "Either          0            0     0          0          0      0     0       0\n",
       "X-ray           0            0     0          0          0      0     0       1\n",
       "Dyspnea         0            0     0          0          0      0     0       0\n",
       "\n",
       "Conditional probability tables:$Asia\n",
       "Asia\n",
       "        1         2 \n",
       "0.4953005 0.5046995 \n",
       "\n",
       "$Tubercolosys\n",
       "    Tubercolosys\n",
       "Asia         1          2\n",
       "   1 0.9928838 0.00711618\n",
       "   2 0.8955423 0.10445765\n",
       "\n",
       "$Smoke\n",
       "    Smoke\n",
       "Asia         1         2\n",
       "   1 0.6965277 0.3034723\n",
       "   2 0.3901436 0.6098564\n",
       "\n",
       "$LungCancer\n",
       "LungCancer\n",
       "          1           2 \n",
       "0.990750925 0.009249075 \n",
       "\n",
       "$Bronchitis\n",
       "          Bronchitis\n",
       "LungCancer         1          2\n",
       "         1 0.9888732 0.01112681\n",
       "         2 0.9324324 0.06756757\n",
       "\n",
       "$Either\n",
       ", , Either = 1\n",
       "\n",
       "            Bronchitis\n",
       "Tubercolosys           1           2\n",
       "           1 0.999986597 0.001113586\n",
       "           2 0.000223914 0.029411765\n",
       "\n",
       ", , Either = 2\n",
       "\n",
       "            Bronchitis\n",
       "Tubercolosys            1         2\n",
       "           1 1.340303e-05 0.9988864\n",
       "           2 9.997761e-01 0.9705882\n",
       "\n",
       "\n",
       "$`X-ray`\n",
       "X-ray\n",
       "        1         2 \n",
       "0.1113389 0.8886611 \n",
       "\n",
       "$Dyspnea\n",
       ", , Dyspnea = 1\n",
       "\n",
       "     X-ray\n",
       "Smoke         1         2\n",
       "    1 0.5774550 0.8954072\n",
       "    2 0.1122538 0.2074995\n",
       "\n",
       ", , Dyspnea = 2\n",
       "\n",
       "     X-ray\n",
       "Smoke         1         2\n",
       "    1 0.4225450 0.1045928\n",
       "    2 0.8877462 0.7925005\n",
       "\n",
       "\n"
      ]
     },
     "metadata": {},
     "output_type": "display_data"
    }
   ],
   "source": [
    "net"
   ]
  },
  {
   "cell_type": "code",
   "execution_count": 17,
   "metadata": {
    "scrolled": false
   },
   "outputs": [
    {
     "data": {
      "image/png": "[encoded data removed]",
      "text/plain": [
       "plot without title"
      ]
     },
     "metadata": {},
     "output_type": "display_data"
    }
   ],
   "source": [
    "plot(net)"
   ]
  },
  {
   "cell_type": "code",
   "execution_count": 18,
   "metadata": {},
   "outputs": [
    {
     "data": {
      "text/html": [
       "'[Asia][LungCancer][Tubercolosys|Asia][Smoke|Asia][Bronchitis|LungCancer][Either|Tubercolosys:Bronchitis][X-ray|Either][Dyspnea|Smoke:Either]'"
      ],
      "text/latex": [
       "'{[}Asia{]}{[}LungCancer{]}{[}Tubercolosys\\textbar{}Asia{]}{[}Smoke\\textbar{}Asia{]}{[}Bronchitis\\textbar{}LungCancer{]}{[}Either\\textbar{}Tubercolosys:Bronchitis{]}{[}X-ray\\textbar{}Either{]}{[}Dyspnea\\textbar{}Smoke:Either{]}'"
      ],
      "text/markdown": [
       "'[Asia][LungCancer][Tubercolosys|Asia][Smoke|Asia][Bronchitis|LungCancer][Either|Tubercolosys:Bronchitis][X-ray|Either][Dyspnea|Smoke:Either]'"
      ],
      "text/plain": [
       "[1] \"[Asia][LungCancer][Tubercolosys|Asia][Smoke|Asia][Bronchitis|LungCancer][Either|Tubercolosys:Bronchitis][X-ray|Either][Dyspnea|Smoke:Either]\""
      ]
     },
     "metadata": {},
     "output_type": "display_data"
    }
   ],
   "source": [
    "learned <- hc(DF)\n",
    "modelstring(learned)"
   ]
  },
  {
   "cell_type": "code",
   "execution_count": 19,
   "metadata": {},
   "outputs": [
    {
     "data": {
      "image/png": "[encoded data removed]",
      "text/plain": [
       "plot without title"
      ]
     },
     "metadata": {},
     "output_type": "display_data"
    }
   ],
   "source": [
    "graphviz.plot(learned)"
   ]
  },
  {
   "cell_type": "code",
   "execution_count": 20,
   "metadata": {},
   "outputs": [
    {
     "data": {
      "text/html": [
       "-22481.3519143454"
      ],
      "text/latex": [
       "-22481.3519143454"
      ],
      "text/markdown": [
       "-22481.3519143454"
      ],
      "text/plain": [
       "[1] -22481.35"
      ]
     },
     "metadata": {},
     "output_type": "display_data"
    }
   ],
   "source": [
    "score(learned, data = DF, type = \"bic\")"
   ]
  },
  {
   "cell_type": "code",
   "execution_count": null,
   "metadata": {},
   "outputs": [],
   "source": []
  }
 ],
 "metadata": {
  "kernelspec": {
   "display_name": "R",
   "language": "R",
   "name": "ir"
  },
  "language_info": {
   "codemirror_mode": "r",
   "file_extension": ".r",
   "mimetype": "text/x-r-source",
   "name": "R",
   "pygments_lexer": "r",
   "version": "3.6.1"
  }
 },
 "nbformat": 4,
 "nbformat_minor": 2
}
