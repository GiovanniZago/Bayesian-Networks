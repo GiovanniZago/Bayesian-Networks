{
 "cells": [
  {
   "cell_type": "code",
   "execution_count": 1,
   "id": "a3ac2377",
   "metadata": {},
   "outputs": [
    {
     "name": "stderr",
     "output_type": "stream",
     "text": [
      "Warning message:\n",
      "\"il pacchetto 'bnlearn' è stato creato con R versione 4.2.3\"\n",
      "Warning message:\n",
      "\"il pacchetto 'bnstruct' è stato creato con R versione 4.2.3\"\n",
      "Warning message:\n",
      "\"il pacchetto 'igraph' è stato creato con R versione 4.2.3\"\n"
     ]
    }
   ],
   "source": [
    "source(\"K2methods.r\")\n",
    "suppressMessages(library(purrr))\n",
    "suppressMessages(library(Rgraphviz))\n",
    "suppressMessages(library(bnlearn))\n",
    "suppressMessages(library(bnstruct))\n",
    "set.seed(9112001)"
   ]
  },
  {
   "cell_type": "code",
   "execution_count": 34,
   "id": "8a20dea9",
   "metadata": {},
   "outputs": [],
   "source": [
    "data <- NULL\n",
    "data$case <- as.factor(c(1, 2, 3, 4, 5, 6, 7, 8, 9, 10)+1)\n",
    "data$x1 <- as.factor(c(1, 1, 0, 1, 0, 0, 1, 0, 1, 0)+1)# classification target\n",
    "data$x2 <- as.factor(c(0, 1, 0, 1, 0, 1, 1, 0, 1, 0)+1)\n",
    "data$x3 <- as.factor(c(0, 1, 1, 1, 0, 1, 1, 0, 1, 0)+1)\n",
    "data <- as.data.frame(data, stringsAsFactors = TRUE)"
   ]
  },
  {
   "cell_type": "code",
   "execution_count": 35,
   "id": "f27bcc4e",
   "metadata": {},
   "outputs": [
    {
     "data": {
      "text/html": [
       "<table class=\"dataframe\">\n",
       "<caption>A data.frame: 10 × 4</caption>\n",
       "<thead>\n",
       "\t<tr><th scope=col>case</th><th scope=col>x1</th><th scope=col>x2</th><th scope=col>x3</th></tr>\n",
       "\t<tr><th scope=col>&lt;fct&gt;</th><th scope=col>&lt;fct&gt;</th><th scope=col>&lt;fct&gt;</th><th scope=col>&lt;fct&gt;</th></tr>\n",
       "</thead>\n",
       "<tbody>\n",
       "\t<tr><td>2 </td><td>2</td><td>1</td><td>1</td></tr>\n",
       "\t<tr><td>3 </td><td>2</td><td>2</td><td>2</td></tr>\n",
       "\t<tr><td>4 </td><td>1</td><td>1</td><td>2</td></tr>\n",
       "\t<tr><td>5 </td><td>2</td><td>2</td><td>2</td></tr>\n",
       "\t<tr><td>6 </td><td>1</td><td>1</td><td>1</td></tr>\n",
       "\t<tr><td>7 </td><td>1</td><td>2</td><td>2</td></tr>\n",
       "\t<tr><td>8 </td><td>2</td><td>2</td><td>2</td></tr>\n",
       "\t<tr><td>9 </td><td>1</td><td>1</td><td>1</td></tr>\n",
       "\t<tr><td>10</td><td>2</td><td>2</td><td>2</td></tr>\n",
       "\t<tr><td>11</td><td>1</td><td>1</td><td>1</td></tr>\n",
       "</tbody>\n",
       "</table>\n"
      ],
      "text/latex": [
       "A data.frame: 10 × 4\n",
       "\\begin{tabular}{llll}\n",
       " case & x1 & x2 & x3\\\\\n",
       " <fct> & <fct> & <fct> & <fct>\\\\\n",
       "\\hline\n",
       "\t 2  & 2 & 1 & 1\\\\\n",
       "\t 3  & 2 & 2 & 2\\\\\n",
       "\t 4  & 1 & 1 & 2\\\\\n",
       "\t 5  & 2 & 2 & 2\\\\\n",
       "\t 6  & 1 & 1 & 1\\\\\n",
       "\t 7  & 1 & 2 & 2\\\\\n",
       "\t 8  & 2 & 2 & 2\\\\\n",
       "\t 9  & 1 & 1 & 1\\\\\n",
       "\t 10 & 2 & 2 & 2\\\\\n",
       "\t 11 & 1 & 1 & 1\\\\\n",
       "\\end{tabular}\n"
      ],
      "text/markdown": [
       "\n",
       "A data.frame: 10 × 4\n",
       "\n",
       "| case &lt;fct&gt; | x1 &lt;fct&gt; | x2 &lt;fct&gt; | x3 &lt;fct&gt; |\n",
       "|---|---|---|---|\n",
       "| 2  | 2 | 1 | 1 |\n",
       "| 3  | 2 | 2 | 2 |\n",
       "| 4  | 1 | 1 | 2 |\n",
       "| 5  | 2 | 2 | 2 |\n",
       "| 6  | 1 | 1 | 1 |\n",
       "| 7  | 1 | 2 | 2 |\n",
       "| 8  | 2 | 2 | 2 |\n",
       "| 9  | 1 | 1 | 1 |\n",
       "| 10 | 2 | 2 | 2 |\n",
       "| 11 | 1 | 1 | 1 |\n",
       "\n"
      ],
      "text/plain": [
       "   case x1 x2 x3\n",
       "1  2    2  1  1 \n",
       "2  3    2  2  2 \n",
       "3  4    1  1  2 \n",
       "4  5    2  2  2 \n",
       "5  6    1  1  1 \n",
       "6  7    1  2  2 \n",
       "7  8    2  2  2 \n",
       "8  9    1  1  1 \n",
       "9  10   2  2  2 \n",
       "10 11   1  1  1 "
      ]
     },
     "metadata": {},
     "output_type": "display_data"
    }
   ],
   "source": [
    "data"
   ]
  },
  {
   "cell_type": "code",
   "execution_count": 57,
   "id": "cdcd306c",
   "metadata": {},
   "outputs": [],
   "source": [
    "struct = K2_algorithm(n = 3, u = 2, D = data[, -1][, sample(3)])"
   ]
  },
  {
   "cell_type": "code",
   "execution_count": 58,
   "id": "40fe9019",
   "metadata": {},
   "outputs": [
    {
     "data": {
      "text/html": [
       "<ol>\n",
       "\t<li>&lt;NA&gt;</li>\n",
       "\t<li>&lt;NA&gt;</li>\n",
       "\t<li>&lt;NA&gt;</li>\n",
       "</ol>\n"
      ],
      "text/latex": [
       "\\begin{enumerate}\n",
       "\\item <NA>\n",
       "\\item <NA>\n",
       "\\item <NA>\n",
       "\\end{enumerate}\n"
      ],
      "text/markdown": [
       "1. &lt;NA&gt;\n",
       "2. &lt;NA&gt;\n",
       "3. &lt;NA&gt;\n",
       "\n",
       "\n"
      ],
      "text/plain": [
       "[[1]]\n",
       "[1] NA\n",
       "\n",
       "[[2]]\n",
       "[1] NA\n",
       "\n",
       "[[3]]\n",
       "[1] NA\n"
      ]
     },
     "metadata": {},
     "output_type": "display_data"
    }
   ],
   "source": [
    "struct"
   ]
  },
  {
   "cell_type": "code",
   "execution_count": 59,
   "id": "e4feb61b",
   "metadata": {},
   "outputs": [
    {
     "data": {
      "image/png": "[encoded data removed]",
      "text/plain": [
       "plot without title"
      ]
     },
     "metadata": {
      "image/png": {
       "height": 420,
       "width": 420
      }
     },
     "output_type": "display_data"
    }
   ],
   "source": [
    "dag = get_dag(names(data[, -1]), struct)\n",
    "graphviz.plot(dag)"
   ]
  },
  {
   "cell_type": "code",
   "execution_count": null,
   "id": "a08b3506",
   "metadata": {},
   "outputs": [],
   "source": []
  }
 ],
 "metadata": {
  "kernelspec": {
   "display_name": "R",
   "language": "R",
   "name": "ir"
  },
  "language_info": {
   "codemirror_mode": "r",
   "file_extension": ".r",
   "mimetype": "text/x-r-source",
   "name": "R",
   "pygments_lexer": "r",
   "version": "4.2.2"
  }
 },
 "nbformat": 4,
 "nbformat_minor": 5
}
