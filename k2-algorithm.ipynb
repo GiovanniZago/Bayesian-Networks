{
 "cells": [
  {
   "cell_type": "code",
   "execution_count": null,
   "id": "088078bb",
   "metadata": {},
   "outputs": [],
   "source": [
    "k2.algorithm <- function(n, order, u, D){\n",
    "    \n",
    "    # ============================================================= #\n",
    "    \n",
    "    # Input:\n",
    "    # n = set of n nodes\n",
    "    # order = ordering of the nodes\n",
    "    # u = an upper bound on the number of parents a node may have\n",
    "    # D = database containing m cases\n",
    "    \n",
    "    # ============================================================= #\n",
    "    \n",
    "    # Output: \n",
    "    # For each node, a printout of the parents of the node\n",
    "    \n",
    "    # ============================================================= #\n",
    "    \n",
    "    p <- rep(0, n) \n",
    "    \n",
    "    for(i in 1:n){\n",
    "        p.old <- update.rule(i, p[i])\n",
    "        Oktoproceed <- TRUE\n",
    "        while(Oktoproceed & abs(p[i]) < u){\n",
    "            # ToDo:\n",
    "        }\n",
    "    }\n",
    "\n",
    "}"
   ]
  },
  {
   "cell_type": "code",
   "execution_count": null,
   "id": "bc78ca84",
   "metadata": {},
   "outputs": [],
   "source": [
    "update.rule <- function(i, p){\n",
    "    \n",
    "}"
   ]
  },
  {
   "cell_type": "code",
   "execution_count": null,
   "id": "8a20dea9",
   "metadata": {},
   "outputs": [],
   "source": [
    "data <- NULL\n",
    "data$case <- c(1, 2, 3, 4, 5, 6, 7, 8, 9, 10)\n",
    "data$x1 <- c(1, 1, 0, 1, 0, 0, 1, 0, 1, 0) # classification target\n",
    "data$x2 <- c(0, 1, 0, 1, 0, 1, 1, 0, 1, 0)\n",
    "data$x3 <- c(0, 1, 1, 1, 0, 1, 1, 0, 1, 0)"
   ]
  }
 ],
 "metadata": {
  "kernelspec": {
   "display_name": "R",
   "language": "R",
   "name": "ir"
  },
  "language_info": {
   "codemirror_mode": "r",
   "file_extension": ".r",
   "mimetype": "text/x-r-source",
   "name": "R",
   "pygments_lexer": "r",
   "version": "4.2.2"
  }
 },
 "nbformat": 4,
 "nbformat_minor": 5
}
