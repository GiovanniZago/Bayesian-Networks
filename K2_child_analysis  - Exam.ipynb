{
 "cells": [
  {
   "cell_type": "code",
   "execution_count": 1,
   "metadata": {
    "vscode": {
     "languageId": "r"
    }
   },
   "outputs": [
    {
     "name": "stderr",
     "output_type": "stream",
     "text": [
      "Warning message:\n",
      "\"il pacchetto 'bnlearn' è stato creato con R versione 4.2.3\"\n",
      "Warning message:\n",
      "\"il pacchetto 'bnstruct' è stato creato con R versione 4.2.3\"\n",
      "Warning message:\n",
      "\"il pacchetto 'igraph' è stato creato con R versione 4.2.3\"\n"
     ]
    }
   ],
   "source": [
    "# load packages\n",
    "library(purrr)          |> suppressPackageStartupMessages()\n",
    "library(Rgraphviz)      |> suppressPackageStartupMessages()\n",
    "library(bnlearn)        |> suppressPackageStartupMessages()\n",
    "library(bnstruct)       |> suppressPackageStartupMessages()\n",
    "source('K2methods.r')   |> suppressPackageStartupMessages()"
   ]
  },
  {
   "cell_type": "code",
   "execution_count": 2,
   "metadata": {
    "vscode": {
     "languageId": "r"
    }
   },
   "outputs": [
    {
     "name": "stderr",
     "output_type": "stream",
     "text": [
      "bnstruct :: performing imputation ...\n",
      "\n",
      "bnstruct :: imputation finished.\n",
      "\n"
     ]
    }
   ],
   "source": [
    "data = child()\n",
    "data = impute(data)\n",
    "data = imputed.data(data)"
   ]
  },
  {
   "cell_type": "code",
   "execution_count": 3,
   "metadata": {
    "vscode": {
     "languageId": "r"
    }
   },
   "outputs": [
    {
     "name": "stdout",
     "output_type": "stream",
     "text": [
      "The dataset dimensions are: 5000 20"
     ]
    },
    {
     "data": {
      "text/html": [
       "<table class=\"dataframe\">\n",
       "<caption>A data.frame: 6 × 20</caption>\n",
       "<thead>\n",
       "\t<tr><th></th><th scope=col>BirthAsphyxia</th><th scope=col>Disease</th><th scope=col>Age</th><th scope=col>LVH</th><th scope=col>DuctFlow</th><th scope=col>CardiacMixing</th><th scope=col>LungParench</th><th scope=col>LungFlow</th><th scope=col>Sick</th><th scope=col>HypDistrib</th><th scope=col>HypoxiaInO2</th><th scope=col>CO2</th><th scope=col>ChestXray</th><th scope=col>Grunting</th><th scope=col>LVHReport</th><th scope=col>LowerBodyO2</th><th scope=col>RUQO2</th><th scope=col>CO2Report</th><th scope=col>XrayReport</th><th scope=col>GruntingReport</th></tr>\n",
       "\t<tr><th></th><th scope=col>&lt;fct&gt;</th><th scope=col>&lt;fct&gt;</th><th scope=col>&lt;fct&gt;</th><th scope=col>&lt;fct&gt;</th><th scope=col>&lt;fct&gt;</th><th scope=col>&lt;fct&gt;</th><th scope=col>&lt;fct&gt;</th><th scope=col>&lt;fct&gt;</th><th scope=col>&lt;fct&gt;</th><th scope=col>&lt;fct&gt;</th><th scope=col>&lt;fct&gt;</th><th scope=col>&lt;fct&gt;</th><th scope=col>&lt;fct&gt;</th><th scope=col>&lt;fct&gt;</th><th scope=col>&lt;fct&gt;</th><th scope=col>&lt;fct&gt;</th><th scope=col>&lt;fct&gt;</th><th scope=col>&lt;fct&gt;</th><th scope=col>&lt;fct&gt;</th><th scope=col>&lt;fct&gt;</th></tr>\n",
       "</thead>\n",
       "<tbody>\n",
       "\t<tr><th scope=row>1</th><td>2</td><td>3</td><td>3</td><td>2</td><td>1</td><td>3</td><td>1</td><td>1</td><td>2</td><td>1</td><td>1</td><td>1</td><td>1</td><td>2</td><td>2</td><td>2</td><td>3</td><td>2</td><td>1</td><td>2</td></tr>\n",
       "\t<tr><th scope=row>2</th><td>2</td><td>4</td><td>2</td><td>1</td><td>1</td><td>2</td><td>1</td><td>2</td><td>2</td><td>1</td><td>2</td><td>1</td><td>2</td><td>2</td><td>1</td><td>2</td><td>2</td><td>1</td><td>2</td><td>2</td></tr>\n",
       "\t<tr><th scope=row>3</th><td>2</td><td>3</td><td>1</td><td>2</td><td>1</td><td>3</td><td>1</td><td>2</td><td>2</td><td>1</td><td>2</td><td>2</td><td>2</td><td>2</td><td>2</td><td>1</td><td>2</td><td>1</td><td>2</td><td>2</td></tr>\n",
       "\t<tr><th scope=row>4</th><td>2</td><td>4</td><td>1</td><td>1</td><td>1</td><td>3</td><td>1</td><td>1</td><td>2</td><td>1</td><td>3</td><td>1</td><td>1</td><td>2</td><td>1</td><td>3</td><td>1</td><td>1</td><td>1</td><td>2</td></tr>\n",
       "\t<tr><th scope=row>5</th><td>2</td><td>2</td><td>1</td><td>2</td><td>2</td><td>4</td><td>1</td><td>1</td><td>1</td><td>1</td><td>3</td><td>1</td><td>1</td><td>2</td><td>2</td><td>1</td><td>1</td><td>1</td><td>2</td><td>2</td></tr>\n",
       "\t<tr><th scope=row>6</th><td>2</td><td>2</td><td>1</td><td>2</td><td>1</td><td>4</td><td>1</td><td>3</td><td>2</td><td>1</td><td>3</td><td>1</td><td>3</td><td>2</td><td>2</td><td>2</td><td>1</td><td>1</td><td>3</td><td>2</td></tr>\n",
       "</tbody>\n",
       "</table>\n"
      ],
      "text/latex": [
       "A data.frame: 6 × 20\n",
       "\\begin{tabular}{r|llllllllllllllllllll}\n",
       "  & BirthAsphyxia & Disease & Age & LVH & DuctFlow & CardiacMixing & LungParench & LungFlow & Sick & HypDistrib & HypoxiaInO2 & CO2 & ChestXray & Grunting & LVHReport & LowerBodyO2 & RUQO2 & CO2Report & XrayReport & GruntingReport\\\\\n",
       "  & <fct> & <fct> & <fct> & <fct> & <fct> & <fct> & <fct> & <fct> & <fct> & <fct> & <fct> & <fct> & <fct> & <fct> & <fct> & <fct> & <fct> & <fct> & <fct> & <fct>\\\\\n",
       "\\hline\n",
       "\t1 & 2 & 3 & 3 & 2 & 1 & 3 & 1 & 1 & 2 & 1 & 1 & 1 & 1 & 2 & 2 & 2 & 3 & 2 & 1 & 2\\\\\n",
       "\t2 & 2 & 4 & 2 & 1 & 1 & 2 & 1 & 2 & 2 & 1 & 2 & 1 & 2 & 2 & 1 & 2 & 2 & 1 & 2 & 2\\\\\n",
       "\t3 & 2 & 3 & 1 & 2 & 1 & 3 & 1 & 2 & 2 & 1 & 2 & 2 & 2 & 2 & 2 & 1 & 2 & 1 & 2 & 2\\\\\n",
       "\t4 & 2 & 4 & 1 & 1 & 1 & 3 & 1 & 1 & 2 & 1 & 3 & 1 & 1 & 2 & 1 & 3 & 1 & 1 & 1 & 2\\\\\n",
       "\t5 & 2 & 2 & 1 & 2 & 2 & 4 & 1 & 1 & 1 & 1 & 3 & 1 & 1 & 2 & 2 & 1 & 1 & 1 & 2 & 2\\\\\n",
       "\t6 & 2 & 2 & 1 & 2 & 1 & 4 & 1 & 3 & 2 & 1 & 3 & 1 & 3 & 2 & 2 & 2 & 1 & 1 & 3 & 2\\\\\n",
       "\\end{tabular}\n"
      ],
      "text/markdown": [
       "\n",
       "A data.frame: 6 × 20\n",
       "\n",
       "| <!--/--> | BirthAsphyxia &lt;fct&gt; | Disease &lt;fct&gt; | Age &lt;fct&gt; | LVH &lt;fct&gt; | DuctFlow &lt;fct&gt; | CardiacMixing &lt;fct&gt; | LungParench &lt;fct&gt; | LungFlow &lt;fct&gt; | Sick &lt;fct&gt; | HypDistrib &lt;fct&gt; | HypoxiaInO2 &lt;fct&gt; | CO2 &lt;fct&gt; | ChestXray &lt;fct&gt; | Grunting &lt;fct&gt; | LVHReport &lt;fct&gt; | LowerBodyO2 &lt;fct&gt; | RUQO2 &lt;fct&gt; | CO2Report &lt;fct&gt; | XrayReport &lt;fct&gt; | GruntingReport &lt;fct&gt; |\n",
       "|---|---|---|---|---|---|---|---|---|---|---|---|---|---|---|---|---|---|---|---|---|\n",
       "| 1 | 2 | 3 | 3 | 2 | 1 | 3 | 1 | 1 | 2 | 1 | 1 | 1 | 1 | 2 | 2 | 2 | 3 | 2 | 1 | 2 |\n",
       "| 2 | 2 | 4 | 2 | 1 | 1 | 2 | 1 | 2 | 2 | 1 | 2 | 1 | 2 | 2 | 1 | 2 | 2 | 1 | 2 | 2 |\n",
       "| 3 | 2 | 3 | 1 | 2 | 1 | 3 | 1 | 2 | 2 | 1 | 2 | 2 | 2 | 2 | 2 | 1 | 2 | 1 | 2 | 2 |\n",
       "| 4 | 2 | 4 | 1 | 1 | 1 | 3 | 1 | 1 | 2 | 1 | 3 | 1 | 1 | 2 | 1 | 3 | 1 | 1 | 1 | 2 |\n",
       "| 5 | 2 | 2 | 1 | 2 | 2 | 4 | 1 | 1 | 1 | 1 | 3 | 1 | 1 | 2 | 2 | 1 | 1 | 1 | 2 | 2 |\n",
       "| 6 | 2 | 2 | 1 | 2 | 1 | 4 | 1 | 3 | 2 | 1 | 3 | 1 | 3 | 2 | 2 | 2 | 1 | 1 | 3 | 2 |\n",
       "\n"
      ],
      "text/plain": [
       "  BirthAsphyxia Disease Age LVH DuctFlow CardiacMixing LungParench LungFlow\n",
       "1 2             3       3   2   1        3             1           1       \n",
       "2 2             4       2   1   1        2             1           2       \n",
       "3 2             3       1   2   1        3             1           2       \n",
       "4 2             4       1   1   1        3             1           1       \n",
       "5 2             2       1   2   2        4             1           1       \n",
       "6 2             2       1   2   1        4             1           3       \n",
       "  Sick HypDistrib HypoxiaInO2 CO2 ChestXray Grunting LVHReport LowerBodyO2\n",
       "1 2    1          1           1   1         2        2         2          \n",
       "2 2    1          2           1   2         2        1         2          \n",
       "3 2    1          2           2   2         2        2         1          \n",
       "4 2    1          3           1   1         2        1         3          \n",
       "5 1    1          3           1   1         2        2         1          \n",
       "6 2    1          3           1   3         2        2         2          \n",
       "  RUQO2 CO2Report XrayReport GruntingReport\n",
       "1 3     2         1          2             \n",
       "2 2     1         2          2             \n",
       "3 2     1         2          2             \n",
       "4 1     1         1          2             \n",
       "5 1     1         2          2             \n",
       "6 1     1         3          2             "
      ]
     },
     "metadata": {},
     "output_type": "display_data"
    }
   ],
   "source": [
    "mode(data) = 'character'\n",
    "DF = data.frame(data, stringsAsFactors = TRUE)\n",
    "cat('The dataset dimensions are:', dim(DF))\n",
    "\n",
    "colnames(DF) <- child()@variables\n",
    "head(DF)"
   ]
  },
  {
   "cell_type": "code",
   "execution_count": 4,
   "metadata": {
    "vscode": {
     "languageId": "r"
    }
   },
   "outputs": [],
   "source": [
    "today = 03072023 # default seed = 12345"
   ]
  },
  {
   "cell_type": "code",
   "execution_count": 5,
   "metadata": {
    "vscode": {
     "languageId": "r"
    }
   },
   "outputs": [
    {
     "name": "stdout",
     "output_type": "stream",
     "text": [
      "order = BirthAsphyxia Disease Age LVH DuctFlow CardiacMixing LungParench LungFlow Sick HypDistrib HypoxiaInO2 CO2 ChestXray Grunting LVHReport LowerBodyO2 RUQO2 CO2Report XrayReport GruntingReport \n",
      "Running iteration # 1 u = 1 \n",
      "The Network score is -61659.46 \n",
      "  Running iteration # 1 u = 2 \n",
      "The Network score is -59945.13 \n",
      "  Running iteration # 1 u = 3 \n",
      "The Network score is -59945.13 \n",
      "  order = XrayReport HypoxiaInO2 LungFlow LowerBodyO2 GruntingReport CardiacMixing LVHReport Grunting BirthAsphyxia Disease LungParench HypDistrib ChestXray RUQO2 Sick DuctFlow LVH CO2 Age CO2Report \n",
      "Running iteration # 2 u = 1 \n",
      "The Network score is -66039.01 \n",
      "  Running iteration # 2 u = 2 \n",
      "The Network score is -62918.9 \n",
      "  Running iteration # 2 u = 3 \n",
      "The Network score is -62150.59 \n",
      "   DONE \n",
      "\n",
      "Total execution time: 2.556794 mins\n"
     ]
    }
   ],
   "source": [
    "struct = K2(n = ncol(DF), u = 3, D = DF, seed = today, num.iterations = 2)"
   ]
  },
  {
   "attachments": {},
   "cell_type": "markdown",
   "metadata": {},
   "source": [
    "| $num.iteration$ |                                                                                                         order                                                                                                        |    $best-u$   | $best-score_{K2}$ |\n",
    "|:---------------:|:--------------------------------------------------------------------------------------------------------------------------------------------------------------------------------------------------------------------:|:-------------:|:-----------------:|\n",
    "|        1        | BirthAsphyxia Disease Age <br>LVH DuctFlow CardiacMixing <br>LungParench LungFlow Sick <br>HypDistrib HypoxiaInO2 CO2 <br>ChestXray Grunting LVHReport <br>LowerBodyO2 RUQO2 CO2Report <br>XrayReport GruntingReport | 2,3,4,5,6,7,8 |     -59945.13     |\n",
    "|        2        |   XrayReport HypoxiaInO2 LungFlow <br>LowerBodyO2 GruntingReport CardiacMixing <br>LVHReport Grunting BirthAsphyxia <br>Disease LungParench HypDistrib <br>ChestXray RUQO2 Sick <br>DuctFlow LVH CO2 Age CO2Report   |  3,4,5,6,7,8  |     -62150.59     |\n",
    "|        2        | Sick LVH Disease <br>ChestXray RUQO2 HypoxiaInO2 <br>GruntingReport CO2 XrayReport <br>CardiacMixing CO2Report DuctFlow <br>LungFlow LowerBodyO2 LungParench <br>Grunting Age LVHReport <br>HypDistrib BirthAsphyxia |       2       |     -61125.26     |\n",
    "|        3        | XrayReport Sick Age <br>HypoxiaInO2 LungFlow LVH <br>ChestXray Grunting LVHReport <br>CardiacMixing DuctFlow LungParench <br>HypDistrib GruntingReport CO2Report <br>CO2 LowerBodyO2 Disease <br>RUQO2 BirthAsphyxia |       3       |     -62622.48     |\n",
    "|        4        | LungParench CardiacMixing RUQO2 <br>ChestXray LungFlow CO2Report <br>LowerBodyO2 CO2 DuctFlow <br>LVH LVHReport Disease <br>GruntingReport BirthAsphyxia XrayReport <br>HypDistrib Age HypoxiaInO2 <br>Grunting Sick |       3       |     -62237.56     |\n",
    "|        5        | XrayReport Grunting LungParench <br>LVH DuctFlow CardiacMixing <br>Age ChestXray Disease <br>CO2Report Sick RUQO2 <br>LungFlow LVHReport LowerBodyO2 <br>HypDistrib BirthAsphyxia HypoxiaInO2 <br>GruntingReport CO2 |       3       |     -63300.66     |\n",
    "|     $\\vdots$    |                                                                                                       $\\vdots$                                                                                                       |    $\\vdots$   |      $\\vdots$     |\n",
    "|        15       | HypDistrib CO2Report LVH <br>CO2 LowerBodyO2 LungParench <br>CardiacMixing XrayReport DuctFlow <br>LungFlow RUQO2 LVHReport <br>GruntingReport HypoxiaInO2 Grunting <br>ChestXray BirthAsphyxia Age <br>Disease Sick |       3       |     -63426.72     |"
   ]
  },
  {
   "cell_type": "code",
   "execution_count": 6,
   "metadata": {
    "vscode": {
     "languageId": "r"
    }
   },
   "outputs": [
    {
     "data": {
      "text/html": [
       "<dl>\n",
       "\t<dt>$dag</dt>\n",
       "\t\t<dd><ol>\n",
       "\t<li>&lt;NA&gt;</li>\n",
       "\t<li>1</li>\n",
       "\t<li>2</li>\n",
       "\t<li>2</li>\n",
       "\t<li>2</li>\n",
       "\t<li>2</li>\n",
       "\t<li>2</li>\n",
       "\t<li>2</li>\n",
       "\t<li><style>\n",
       ".list-inline {list-style: none; margin:0; padding: 0}\n",
       ".list-inline>li {display: inline-block}\n",
       ".list-inline>li:not(:last-child)::after {content: \"\\00b7\"; padding: 0 .5ex}\n",
       "</style>\n",
       "<ol class=list-inline><li>2</li><li>3</li></ol>\n",
       "</li>\n",
       "\t<li><style>\n",
       ".list-inline {list-style: none; margin:0; padding: 0}\n",
       ".list-inline>li {display: inline-block}\n",
       ".list-inline>li:not(:last-child)::after {content: \"\\00b7\"; padding: 0 .5ex}\n",
       "</style>\n",
       "<ol class=list-inline><li>5</li><li>6</li></ol>\n",
       "</li>\n",
       "\t<li><style>\n",
       ".list-inline {list-style: none; margin:0; padding: 0}\n",
       ".list-inline>li {display: inline-block}\n",
       ".list-inline>li:not(:last-child)::after {content: \"\\00b7\"; padding: 0 .5ex}\n",
       "</style>\n",
       "<ol class=list-inline><li>6</li><li>7</li></ol>\n",
       "</li>\n",
       "\t<li>7</li>\n",
       "\t<li><style>\n",
       ".list-inline {list-style: none; margin:0; padding: 0}\n",
       ".list-inline>li {display: inline-block}\n",
       ".list-inline>li:not(:last-child)::after {content: \"\\00b7\"; padding: 0 .5ex}\n",
       "</style>\n",
       "<ol class=list-inline><li>8</li><li>7</li></ol>\n",
       "</li>\n",
       "\t<li><style>\n",
       ".list-inline {list-style: none; margin:0; padding: 0}\n",
       ".list-inline>li {display: inline-block}\n",
       ".list-inline>li:not(:last-child)::after {content: \"\\00b7\"; padding: 0 .5ex}\n",
       "</style>\n",
       "<ol class=list-inline><li>7</li><li>9</li></ol>\n",
       "</li>\n",
       "\t<li><style>\n",
       ".list-inline {list-style: none; margin:0; padding: 0}\n",
       ".list-inline>li {display: inline-block}\n",
       ".list-inline>li:not(:last-child)::after {content: \"\\00b7\"; padding: 0 .5ex}\n",
       "</style>\n",
       "<ol class=list-inline><li>4</li><li>2</li></ol>\n",
       "</li>\n",
       "\t<li><style>\n",
       ".list-inline {list-style: none; margin:0; padding: 0}\n",
       ".list-inline>li {display: inline-block}\n",
       ".list-inline>li:not(:last-child)::after {content: \"\\00b7\"; padding: 0 .5ex}\n",
       "</style>\n",
       "<ol class=list-inline><li>11</li><li>10</li></ol>\n",
       "</li>\n",
       "\t<li>11</li>\n",
       "\t<li>12</li>\n",
       "\t<li>13</li>\n",
       "\t<li>14</li>\n",
       "</ol>\n",
       "</dd>\n",
       "\t<dt>$score</dt>\n",
       "\t\t<dd>-59945.1280642605</dd>\n",
       "\t<dt>$order</dt>\n",
       "\t\t<dd><style>\n",
       ".list-inline {list-style: none; margin:0; padding: 0}\n",
       ".list-inline>li {display: inline-block}\n",
       ".list-inline>li:not(:last-child)::after {content: \"\\00b7\"; padding: 0 .5ex}\n",
       "</style>\n",
       "<ol class=list-inline><li>'BirthAsphyxia'</li><li>'Disease'</li><li>'Age'</li><li>'LVH'</li><li>'DuctFlow'</li><li>'CardiacMixing'</li><li>'LungParench'</li><li>'LungFlow'</li><li>'Sick'</li><li>'HypDistrib'</li><li>'HypoxiaInO2'</li><li>'CO2'</li><li>'ChestXray'</li><li>'Grunting'</li><li>'LVHReport'</li><li>'LowerBodyO2'</li><li>'RUQO2'</li><li>'CO2Report'</li><li>'XrayReport'</li><li>'GruntingReport'</li></ol>\n",
       "</dd>\n",
       "\t<dt>$u</dt>\n",
       "\t\t<dd>2</dd>\n",
       "</dl>\n"
      ],
      "text/latex": [
       "\\begin{description}\n",
       "\\item[\\$dag] \\begin{enumerate}\n",
       "\\item <NA>\n",
       "\\item 1\n",
       "\\item 2\n",
       "\\item 2\n",
       "\\item 2\n",
       "\\item 2\n",
       "\\item 2\n",
       "\\item 2\n",
       "\\item \\begin{enumerate*}\n",
       "\\item 2\n",
       "\\item 3\n",
       "\\end{enumerate*}\n",
       "\n",
       "\\item \\begin{enumerate*}\n",
       "\\item 5\n",
       "\\item 6\n",
       "\\end{enumerate*}\n",
       "\n",
       "\\item \\begin{enumerate*}\n",
       "\\item 6\n",
       "\\item 7\n",
       "\\end{enumerate*}\n",
       "\n",
       "\\item 7\n",
       "\\item \\begin{enumerate*}\n",
       "\\item 8\n",
       "\\item 7\n",
       "\\end{enumerate*}\n",
       "\n",
       "\\item \\begin{enumerate*}\n",
       "\\item 7\n",
       "\\item 9\n",
       "\\end{enumerate*}\n",
       "\n",
       "\\item \\begin{enumerate*}\n",
       "\\item 4\n",
       "\\item 2\n",
       "\\end{enumerate*}\n",
       "\n",
       "\\item \\begin{enumerate*}\n",
       "\\item 11\n",
       "\\item 10\n",
       "\\end{enumerate*}\n",
       "\n",
       "\\item 11\n",
       "\\item 12\n",
       "\\item 13\n",
       "\\item 14\n",
       "\\end{enumerate}\n",
       "\n",
       "\\item[\\$score] -59945.1280642605\n",
       "\\item[\\$order] \\begin{enumerate*}\n",
       "\\item 'BirthAsphyxia'\n",
       "\\item 'Disease'\n",
       "\\item 'Age'\n",
       "\\item 'LVH'\n",
       "\\item 'DuctFlow'\n",
       "\\item 'CardiacMixing'\n",
       "\\item 'LungParench'\n",
       "\\item 'LungFlow'\n",
       "\\item 'Sick'\n",
       "\\item 'HypDistrib'\n",
       "\\item 'HypoxiaInO2'\n",
       "\\item 'CO2'\n",
       "\\item 'ChestXray'\n",
       "\\item 'Grunting'\n",
       "\\item 'LVHReport'\n",
       "\\item 'LowerBodyO2'\n",
       "\\item 'RUQO2'\n",
       "\\item 'CO2Report'\n",
       "\\item 'XrayReport'\n",
       "\\item 'GruntingReport'\n",
       "\\end{enumerate*}\n",
       "\n",
       "\\item[\\$u] 2\n",
       "\\end{description}\n"
      ],
      "text/markdown": [
       "$dag\n",
       ":   1. &lt;NA&gt;\n",
       "2. 1\n",
       "3. 2\n",
       "4. 2\n",
       "5. 2\n",
       "6. 2\n",
       "7. 2\n",
       "8. 2\n",
       "9. 1. 2\n",
       "2. 3\n",
       "\n",
       "\n",
       "\n",
       "10. 1. 5\n",
       "2. 6\n",
       "\n",
       "\n",
       "\n",
       "11. 1. 6\n",
       "2. 7\n",
       "\n",
       "\n",
       "\n",
       "12. 7\n",
       "13. 1. 8\n",
       "2. 7\n",
       "\n",
       "\n",
       "\n",
       "14. 1. 7\n",
       "2. 9\n",
       "\n",
       "\n",
       "\n",
       "15. 1. 4\n",
       "2. 2\n",
       "\n",
       "\n",
       "\n",
       "16. 1. 11\n",
       "2. 10\n",
       "\n",
       "\n",
       "\n",
       "17. 11\n",
       "18. 12\n",
       "19. 13\n",
       "20. 14\n",
       "\n",
       "\n",
       "\n",
       "$score\n",
       ":   -59945.1280642605\n",
       "$order\n",
       ":   1. 'BirthAsphyxia'\n",
       "2. 'Disease'\n",
       "3. 'Age'\n",
       "4. 'LVH'\n",
       "5. 'DuctFlow'\n",
       "6. 'CardiacMixing'\n",
       "7. 'LungParench'\n",
       "8. 'LungFlow'\n",
       "9. 'Sick'\n",
       "10. 'HypDistrib'\n",
       "11. 'HypoxiaInO2'\n",
       "12. 'CO2'\n",
       "13. 'ChestXray'\n",
       "14. 'Grunting'\n",
       "15. 'LVHReport'\n",
       "16. 'LowerBodyO2'\n",
       "17. 'RUQO2'\n",
       "18. 'CO2Report'\n",
       "19. 'XrayReport'\n",
       "20. 'GruntingReport'\n",
       "\n",
       "\n",
       "\n",
       "$u\n",
       ":   2\n",
       "\n",
       "\n"
      ],
      "text/plain": [
       "$dag\n",
       "$dag[[1]]\n",
       "[1] NA\n",
       "\n",
       "$dag[[2]]\n",
       "[1] 1\n",
       "\n",
       "$dag[[3]]\n",
       "[1] 2\n",
       "\n",
       "$dag[[4]]\n",
       "[1] 2\n",
       "\n",
       "$dag[[5]]\n",
       "[1] 2\n",
       "\n",
       "$dag[[6]]\n",
       "[1] 2\n",
       "\n",
       "$dag[[7]]\n",
       "[1] 2\n",
       "\n",
       "$dag[[8]]\n",
       "[1] 2\n",
       "\n",
       "$dag[[9]]\n",
       "[1] 2 3\n",
       "\n",
       "$dag[[10]]\n",
       "[1] 5 6\n",
       "\n",
       "$dag[[11]]\n",
       "[1] 6 7\n",
       "\n",
       "$dag[[12]]\n",
       "[1] 7\n",
       "\n",
       "$dag[[13]]\n",
       "[1] 8 7\n",
       "\n",
       "$dag[[14]]\n",
       "[1] 7 9\n",
       "\n",
       "$dag[[15]]\n",
       "[1] 4 2\n",
       "\n",
       "$dag[[16]]\n",
       "[1] 11 10\n",
       "\n",
       "$dag[[17]]\n",
       "[1] 11\n",
       "\n",
       "$dag[[18]]\n",
       "[1] 12\n",
       "\n",
       "$dag[[19]]\n",
       "[1] 13\n",
       "\n",
       "$dag[[20]]\n",
       "[1] 14\n",
       "\n",
       "\n",
       "$score\n",
       "[1] -59945.13\n",
       "\n",
       "$order\n",
       " [1] \"BirthAsphyxia\"  \"Disease\"        \"Age\"            \"LVH\"           \n",
       " [5] \"DuctFlow\"       \"CardiacMixing\"  \"LungParench\"    \"LungFlow\"      \n",
       " [9] \"Sick\"           \"HypDistrib\"     \"HypoxiaInO2\"    \"CO2\"           \n",
       "[13] \"ChestXray\"      \"Grunting\"       \"LVHReport\"      \"LowerBodyO2\"   \n",
       "[17] \"RUQO2\"          \"CO2Report\"      \"XrayReport\"     \"GruntingReport\"\n",
       "\n",
       "$u\n",
       "[1] 2\n"
      ]
     },
     "metadata": {},
     "output_type": "display_data"
    }
   ],
   "source": [
    "struct"
   ]
  },
  {
   "cell_type": "code",
   "execution_count": 7,
   "metadata": {
    "vscode": {
     "languageId": "r"
    }
   },
   "outputs": [
    {
     "data": {
      "image/png": "[encoded data removed]",
      "text/plain": [
       "plot without title"
      ]
     },
     "metadata": {
      "image/png": {
       "height": 420,
       "width": 420
      }
     },
     "output_type": "display_data"
    }
   ],
   "source": [
    "dag = get_dag(names(DF), struct$dag)\n",
    "graphviz.plot(dag)"
   ]
  },
  {
   "cell_type": "code",
   "execution_count": 8,
   "metadata": {
    "scrolled": false,
    "vscode": {
     "languageId": "r"
    }
   },
   "outputs": [
    {
     "data": {
      "text/html": [
       "<table class=\"dataframe\">\n",
       "<caption>A bn.strength: 26 × 3</caption>\n",
       "<thead>\n",
       "\t<tr><th></th><th scope=col>from</th><th scope=col>to</th><th scope=col>strength</th></tr>\n",
       "\t<tr><th></th><th scope=col>&lt;chr&gt;</th><th scope=col>&lt;chr&gt;</th><th scope=col>&lt;dbl&gt;</th></tr>\n",
       "</thead>\n",
       "<tbody>\n",
       "\t<tr><th scope=row>1</th><td>BirthAsphyxia</td><td>Disease       </td><td> 1.129277e-77</td></tr>\n",
       "\t<tr><th scope=row>2</th><td>Disease      </td><td>Age           </td><td>5.432823e-257</td></tr>\n",
       "\t<tr><th scope=row>3</th><td>Disease      </td><td>LVH           </td><td> 0.000000e+00</td></tr>\n",
       "\t<tr><th scope=row>4</th><td>Disease      </td><td>DuctFlow      </td><td> 0.000000e+00</td></tr>\n",
       "\t<tr><th scope=row>5</th><td>Disease      </td><td>CardiacMixing </td><td> 0.000000e+00</td></tr>\n",
       "\t<tr><th scope=row>6</th><td>Disease      </td><td>LungParench   </td><td> 0.000000e+00</td></tr>\n",
       "\t<tr><th scope=row>7</th><td>Disease      </td><td>LungFlow      </td><td> 0.000000e+00</td></tr>\n",
       "\t<tr><th scope=row>8</th><td>Disease      </td><td>Sick          </td><td> 2.886963e-92</td></tr>\n",
       "\t<tr><th scope=row>9</th><td>Age          </td><td>Sick          </td><td> 1.079105e-47</td></tr>\n",
       "\t<tr><th scope=row>10</th><td>DuctFlow     </td><td>HypDistrib    </td><td>9.007386e-133</td></tr>\n",
       "\t<tr><th scope=row>11</th><td>CardiacMixing</td><td>HypDistrib    </td><td> 1.674575e-40</td></tr>\n",
       "\t<tr><th scope=row>12</th><td>CardiacMixing</td><td>HypoxiaInO2   </td><td> 0.000000e+00</td></tr>\n",
       "\t<tr><th scope=row>13</th><td>LungParench  </td><td>HypoxiaInO2   </td><td> 1.626881e-38</td></tr>\n",
       "\t<tr><th scope=row>14</th><td>LungParench  </td><td>CO2           </td><td>6.359328e-192</td></tr>\n",
       "\t<tr><th scope=row>15</th><td>LungFlow     </td><td>ChestXray     </td><td> 0.000000e+00</td></tr>\n",
       "\t<tr><th scope=row>16</th><td>LungParench  </td><td>ChestXray     </td><td> 0.000000e+00</td></tr>\n",
       "\t<tr><th scope=row>17</th><td>LungParench  </td><td>Grunting      </td><td> 0.000000e+00</td></tr>\n",
       "\t<tr><th scope=row>18</th><td>Sick         </td><td>Grunting      </td><td> 7.012775e-55</td></tr>\n",
       "\t<tr><th scope=row>19</th><td>LVH          </td><td>LVHReport     </td><td> 0.000000e+00</td></tr>\n",
       "\t<tr><th scope=row>20</th><td>Disease      </td><td>LVHReport     </td><td> 2.711494e-14</td></tr>\n",
       "\t<tr><th scope=row>21</th><td>HypoxiaInO2  </td><td>LowerBodyO2   </td><td>1.896706e-230</td></tr>\n",
       "\t<tr><th scope=row>22</th><td>HypDistrib   </td><td>LowerBodyO2   </td><td> 5.232325e-24</td></tr>\n",
       "\t<tr><th scope=row>23</th><td>HypoxiaInO2  </td><td>RUQO2         </td><td>1.163987e-239</td></tr>\n",
       "\t<tr><th scope=row>24</th><td>CO2          </td><td>CO2Report     </td><td> 0.000000e+00</td></tr>\n",
       "\t<tr><th scope=row>25</th><td>ChestXray    </td><td>XrayReport    </td><td> 0.000000e+00</td></tr>\n",
       "\t<tr><th scope=row>26</th><td>Grunting     </td><td>GruntingReport</td><td> 0.000000e+00</td></tr>\n",
       "</tbody>\n",
       "</table>\n"
      ],
      "text/latex": [
       "A bn.strength: 26 × 3\n",
       "\\begin{tabular}{r|lll}\n",
       "  & from & to & strength\\\\\n",
       "  & <chr> & <chr> & <dbl>\\\\\n",
       "\\hline\n",
       "\t1 & BirthAsphyxia & Disease        &  1.129277e-77\\\\\n",
       "\t2 & Disease       & Age            & 5.432823e-257\\\\\n",
       "\t3 & Disease       & LVH            &  0.000000e+00\\\\\n",
       "\t4 & Disease       & DuctFlow       &  0.000000e+00\\\\\n",
       "\t5 & Disease       & CardiacMixing  &  0.000000e+00\\\\\n",
       "\t6 & Disease       & LungParench    &  0.000000e+00\\\\\n",
       "\t7 & Disease       & LungFlow       &  0.000000e+00\\\\\n",
       "\t8 & Disease       & Sick           &  2.886963e-92\\\\\n",
       "\t9 & Age           & Sick           &  1.079105e-47\\\\\n",
       "\t10 & DuctFlow      & HypDistrib     & 9.007386e-133\\\\\n",
       "\t11 & CardiacMixing & HypDistrib     &  1.674575e-40\\\\\n",
       "\t12 & CardiacMixing & HypoxiaInO2    &  0.000000e+00\\\\\n",
       "\t13 & LungParench   & HypoxiaInO2    &  1.626881e-38\\\\\n",
       "\t14 & LungParench   & CO2            & 6.359328e-192\\\\\n",
       "\t15 & LungFlow      & ChestXray      &  0.000000e+00\\\\\n",
       "\t16 & LungParench   & ChestXray      &  0.000000e+00\\\\\n",
       "\t17 & LungParench   & Grunting       &  0.000000e+00\\\\\n",
       "\t18 & Sick          & Grunting       &  7.012775e-55\\\\\n",
       "\t19 & LVH           & LVHReport      &  0.000000e+00\\\\\n",
       "\t20 & Disease       & LVHReport      &  2.711494e-14\\\\\n",
       "\t21 & HypoxiaInO2   & LowerBodyO2    & 1.896706e-230\\\\\n",
       "\t22 & HypDistrib    & LowerBodyO2    &  5.232325e-24\\\\\n",
       "\t23 & HypoxiaInO2   & RUQO2          & 1.163987e-239\\\\\n",
       "\t24 & CO2           & CO2Report      &  0.000000e+00\\\\\n",
       "\t25 & ChestXray     & XrayReport     &  0.000000e+00\\\\\n",
       "\t26 & Grunting      & GruntingReport &  0.000000e+00\\\\\n",
       "\\end{tabular}\n"
      ],
      "text/markdown": [
       "\n",
       "A bn.strength: 26 × 3\n",
       "\n",
       "| <!--/--> | from &lt;chr&gt; | to &lt;chr&gt; | strength &lt;dbl&gt; |\n",
       "|---|---|---|---|\n",
       "| 1 | BirthAsphyxia | Disease        |  1.129277e-77 |\n",
       "| 2 | Disease       | Age            | 5.432823e-257 |\n",
       "| 3 | Disease       | LVH            |  0.000000e+00 |\n",
       "| 4 | Disease       | DuctFlow       |  0.000000e+00 |\n",
       "| 5 | Disease       | CardiacMixing  |  0.000000e+00 |\n",
       "| 6 | Disease       | LungParench    |  0.000000e+00 |\n",
       "| 7 | Disease       | LungFlow       |  0.000000e+00 |\n",
       "| 8 | Disease       | Sick           |  2.886963e-92 |\n",
       "| 9 | Age           | Sick           |  1.079105e-47 |\n",
       "| 10 | DuctFlow      | HypDistrib     | 9.007386e-133 |\n",
       "| 11 | CardiacMixing | HypDistrib     |  1.674575e-40 |\n",
       "| 12 | CardiacMixing | HypoxiaInO2    |  0.000000e+00 |\n",
       "| 13 | LungParench   | HypoxiaInO2    |  1.626881e-38 |\n",
       "| 14 | LungParench   | CO2            | 6.359328e-192 |\n",
       "| 15 | LungFlow      | ChestXray      |  0.000000e+00 |\n",
       "| 16 | LungParench   | ChestXray      |  0.000000e+00 |\n",
       "| 17 | LungParench   | Grunting       |  0.000000e+00 |\n",
       "| 18 | Sick          | Grunting       |  7.012775e-55 |\n",
       "| 19 | LVH           | LVHReport      |  0.000000e+00 |\n",
       "| 20 | Disease       | LVHReport      |  2.711494e-14 |\n",
       "| 21 | HypoxiaInO2   | LowerBodyO2    | 1.896706e-230 |\n",
       "| 22 | HypDistrib    | LowerBodyO2    |  5.232325e-24 |\n",
       "| 23 | HypoxiaInO2   | RUQO2          | 1.163987e-239 |\n",
       "| 24 | CO2           | CO2Report      |  0.000000e+00 |\n",
       "| 25 | ChestXray     | XrayReport     |  0.000000e+00 |\n",
       "| 26 | Grunting      | GruntingReport |  0.000000e+00 |\n",
       "\n"
      ],
      "text/plain": [
       "   from          to             strength     \n",
       "1  BirthAsphyxia Disease         1.129277e-77\n",
       "2  Disease       Age            5.432823e-257\n",
       "3  Disease       LVH             0.000000e+00\n",
       "4  Disease       DuctFlow        0.000000e+00\n",
       "5  Disease       CardiacMixing   0.000000e+00\n",
       "6  Disease       LungParench     0.000000e+00\n",
       "7  Disease       LungFlow        0.000000e+00\n",
       "8  Disease       Sick            2.886963e-92\n",
       "9  Age           Sick            1.079105e-47\n",
       "10 DuctFlow      HypDistrib     9.007386e-133\n",
       "11 CardiacMixing HypDistrib      1.674575e-40\n",
       "12 CardiacMixing HypoxiaInO2     0.000000e+00\n",
       "13 LungParench   HypoxiaInO2     1.626881e-38\n",
       "14 LungParench   CO2            6.359328e-192\n",
       "15 LungFlow      ChestXray       0.000000e+00\n",
       "16 LungParench   ChestXray       0.000000e+00\n",
       "17 LungParench   Grunting        0.000000e+00\n",
       "18 Sick          Grunting        7.012775e-55\n",
       "19 LVH           LVHReport       0.000000e+00\n",
       "20 Disease       LVHReport       2.711494e-14\n",
       "21 HypoxiaInO2   LowerBodyO2    1.896706e-230\n",
       "22 HypDistrib    LowerBodyO2     5.232325e-24\n",
       "23 HypoxiaInO2   RUQO2          1.163987e-239\n",
       "24 CO2           CO2Report       0.000000e+00\n",
       "25 ChestXray     XrayReport      0.000000e+00\n",
       "26 Grunting      GruntingReport  0.000000e+00"
      ]
     },
     "metadata": {},
     "output_type": "display_data"
    }
   ],
   "source": [
    "arc.strength(dag, data=DF, criterion=\"x2\")"
   ]
  },
  {
   "cell_type": "code",
   "execution_count": null,
   "metadata": {
    "vscode": {
     "languageId": "r"
    }
   },
   "outputs": [],
   "source": []
  },
  {
   "cell_type": "code",
   "execution_count": null,
   "metadata": {
    "vscode": {
     "languageId": "r"
    }
   },
   "outputs": [],
   "source": []
  },
  {
   "attachments": {},
   "cell_type": "markdown",
   "metadata": {},
   "source": [
    "## `bnlearn`"
   ]
  },
  {
   "cell_type": "code",
   "execution_count": 9,
   "metadata": {
    "scrolled": true,
    "vscode": {
     "languageId": "r"
    }
   },
   "outputs": [
    {
     "data": {
      "text/plain": [
       "\n",
       "  Bayesian network parameters\n",
       "\n",
       "  Parameters of node Age (multinomial distribution)\n",
       "\n",
       "Conditional probability table:\n",
       " \n",
       "   Disease\n",
       "Age          1          2          3          4          5          6\n",
       "  1 0.90256410 0.75529286 0.35092673 0.80362145 0.83265491 0.87802607\n",
       "  2 0.07641026 0.16142390 0.20561830 0.13915566 0.11216644 0.09450652\n",
       "  3 0.02102564 0.08328324 0.44345497 0.05722289 0.05517865 0.02746741\n",
       "\n",
       "  Parameters of node BirthAsphyxia (multinomial distribution)\n",
       "\n",
       "Conditional probability table:\n",
       "          1          2 \n",
       "0.08622754 0.91377246 \n",
       "\n",
       "  Parameters of node CardiacMixing (multinomial distribution)\n",
       "\n",
       "Conditional probability table:\n",
       " \n",
       "             Disease\n",
       "CardiacMixing           1           2           3           4           5\n",
       "            1 0.394230769 0.023091565 0.013955256 0.007578031 0.013907734\n",
       "            2 0.408076923 0.074183530 0.132547785 0.017481993 0.026119403\n",
       "            3 0.172692308 0.092215989 0.825857950 0.953856543 0.941994573\n",
       "            4 0.025000000 0.810508916 0.027639010 0.021083433 0.017978290\n",
       "             Disease\n",
       "CardiacMixing           6\n",
       "            1 0.362081006\n",
       "            2 0.525488827\n",
       "            3 0.081354749\n",
       "            4 0.031075419\n",
       "\n",
       "  Parameters of node ChestXray (multinomial distribution)\n",
       "\n",
       "Conditional probability table:\n",
       " \n",
       ", , LungParench = 1\n",
       "\n",
       "         LungFlow\n",
       "ChestXray           1           2           3\n",
       "        1 0.891818937 0.132834320 0.162174896\n",
       "        2 0.034053156 0.794436376 0.017998492\n",
       "        3 0.013496678 0.026756787 0.765171504\n",
       "        4 0.019102990 0.019215730 0.045137580\n",
       "        5 0.041528239 0.026756787 0.009517527\n",
       "\n",
       ", , LungParench = 2\n",
       "\n",
       "         LungFlow\n",
       "ChestXray           1           2           3\n",
       "        1 0.060344828 0.044214487 0.041962556\n",
       "        2 0.021551724 0.306679210 0.001291156\n",
       "        3 0.060344828 0.086547507 0.419625565\n",
       "        4 0.748922414 0.374412041 0.384764364\n",
       "        5 0.108836207 0.188146754 0.152356359\n",
       "\n",
       ", , LungParench = 3\n",
       "\n",
       "         LungFlow\n",
       "ChestXray           1           2           3\n",
       "        1 0.058998513 0.043582248 0.255327869\n",
       "        2 0.041150223 0.165559394 0.318032787\n",
       "        3 0.009915716 0.034015413 0.045081967\n",
       "        4 0.072384730 0.060324209 0.303278689\n",
       "        5 0.817550818 0.696518735 0.078278689\n",
       "\n",
       "\n",
       "  Parameters of node CO2 (multinomial distribution)\n",
       "\n",
       "Conditional probability table:\n",
       " \n",
       "   LungParench\n",
       "CO2          1          2          3\n",
       "  1 0.83063306 0.69180791 0.44245742\n",
       "  2 0.07401740 0.03079096 0.03953771\n",
       "  3 0.09534953 0.27740113 0.51800487\n",
       "\n",
       "  Parameters of node CO2Report (multinomial distribution)\n",
       "\n",
       "Conditional probability table:\n",
       " \n",
       "         CO2\n",
       "CO2Report          1          2          3\n",
       "        1 0.89961802 0.94208893 0.16963649\n",
       "        2 0.10038198 0.05791107 0.83036351\n",
       "\n",
       "  Parameters of node Disease (multinomial distribution)\n",
       "\n",
       "Conditional probability table:\n",
       " \n",
       "       BirthAsphyxia\n",
       "Disease          1          2\n",
       "      1 0.22183642 0.02639435\n",
       "      2 0.28433642 0.33657347\n",
       "      3 0.25424383 0.31123489\n",
       "      4 0.14544753 0.22888452\n",
       "      5 0.05054012 0.04889326\n",
       "      6 0.04359568 0.04801951\n",
       "\n",
       "  Parameters of node DuctFlow (multinomial distribution)\n",
       "\n",
       "Conditional probability table:\n",
       " \n",
       "        Disease\n",
       "DuctFlow           1           2           3           4           5\n",
       "       1 0.164102564 0.093501636 0.819432378 0.994497799 0.393034826\n",
       "       2 0.057948718 0.816603219 0.174341153 0.004101641 0.279059249\n",
       "       3 0.777948718 0.089895145 0.006226470 0.001400560 0.327905925\n",
       "        Disease\n",
       "DuctFlow           6\n",
       "       1 0.182495345\n",
       "       2 0.375232775\n",
       "       3 0.442271881\n",
       "\n",
       "  Parameters of node Grunting (multinomial distribution)\n",
       "\n",
       "Conditional probability table:\n",
       " \n",
       ", , Sick = 1\n",
       "\n",
       "        LungParench\n",
       "Grunting          1          2          3\n",
       "       1 0.21095220 0.35764499 0.79684512\n",
       "       2 0.78904780 0.64235501 0.20315488\n",
       "\n",
       ", , Sick = 2\n",
       "\n",
       "        LungParench\n",
       "Grunting          1          2          3\n",
       "       1 0.05246658 0.18085106 0.61599764\n",
       "       2 0.94753342 0.81914894 0.38400236\n",
       "\n",
       "\n",
       "  Parameters of node GruntingReport (multinomial distribution)\n",
       "\n",
       "Conditional probability table:\n",
       " \n",
       "              Grunting\n",
       "GruntingReport          1          2\n",
       "             1 0.77699531 0.09695817\n",
       "             2 0.22300469 0.90304183\n",
       "\n",
       "  Parameters of node HypDistrib (multinomial distribution)\n",
       "\n",
       "Conditional probability table:\n",
       " \n",
       ", , DuctFlow = 1\n",
       "\n",
       "          CardiacMixing\n",
       "HypDistrib          1          2          3          4\n",
       "         1 0.93653251 0.94712562 0.95895937 0.96455834\n",
       "         2 0.06346749 0.05287438 0.04104063 0.03544166\n",
       "\n",
       ", , DuctFlow = 2\n",
       "\n",
       "          CardiacMixing\n",
       "HypDistrib          1          2          3          4\n",
       "         1 0.96635731 0.95943482 0.96847228 0.95106260\n",
       "         2 0.03364269 0.04056518 0.03152772 0.04893740\n",
       "\n",
       ", , DuctFlow = 3\n",
       "\n",
       "          CardiacMixing\n",
       "HypDistrib          1          2          3          4\n",
       "         1 0.06294201 0.45296753 0.98032564 0.54370861\n",
       "         2 0.93705799 0.54703247 0.01967436 0.45629139\n",
       "\n",
       "\n",
       "  Parameters of node HypoxiaInO2 (multinomial distribution)\n",
       "\n",
       "Conditional probability table:\n",
       " \n",
       ", , LungParench = 1\n",
       "\n",
       "           CardiacMixing\n",
       "HypoxiaInO2          1          2          3          4\n",
       "          1 0.83265491 0.07664884 0.09343700 0.02142487\n",
       "          2 0.09995477 0.81169989 0.73343052 0.16720817\n",
       "          3 0.06739032 0.11165127 0.17313247 0.81136695\n",
       "\n",
       ", , LungParench = 2\n",
       "\n",
       "           CardiacMixing\n",
       "HypoxiaInO2          1          2          3          4\n",
       "          1 0.21042831 0.11269276 0.02000421 0.09989485\n",
       "          2 0.71322160 0.73190985 0.67572120 0.15667718\n",
       "          3 0.07635009 0.15539739 0.30427458 0.74342797\n",
       "\n",
       ", , LungParench = 3\n",
       "\n",
       "           CardiacMixing\n",
       "HypoxiaInO2          1          2          3          4\n",
       "          1 0.53149847 0.08074144 0.08790252 0.04163174\n",
       "          2 0.31131498 0.65755577 0.51759294 0.15730651\n",
       "          3 0.15718654 0.26170280 0.39450454 0.80106175\n",
       "\n",
       "\n",
       "  Parameters of node LowerBodyO2 (multinomial distribution)\n",
       "\n",
       "Conditional probability table:\n",
       " \n",
       ", , HypoxiaInO2 = 1\n",
       "\n",
       "           HypDistrib\n",
       "LowerBodyO2          1          2\n",
       "          1 0.12071449 0.41606715\n",
       "          2 0.30481129 0.52398082\n",
       "          3 0.57447421 0.05995204\n",
       "\n",
       ", , HypoxiaInO2 = 2\n",
       "\n",
       "           HypDistrib\n",
       "LowerBodyO2          1          2\n",
       "          1 0.28492639 0.43876464\n",
       "          2 0.62869775 0.51064963\n",
       "          3 0.08637586 0.05058573\n",
       "\n",
       ", , HypoxiaInO2 = 3\n",
       "\n",
       "           HypDistrib\n",
       "LowerBodyO2          1          2\n",
       "          1 0.53972201 0.65576324\n",
       "          2 0.37273655 0.31230530\n",
       "          3 0.08754144 0.03193146\n",
       "\n",
       "\n",
       "  Parameters of node LungFlow (multinomial distribution)\n",
       "\n",
       "Conditional probability table:\n",
       " \n",
       "        Disease\n",
       "LungFlow          1          2          3          4          5          6\n",
       "       1 0.26102564 0.18546717 0.12547061 0.07342937 0.25056536 0.67690875\n",
       "       2 0.69487179 0.04721833 0.82203881 0.88375350 0.11623700 0.10288641\n",
       "       3 0.04410256 0.76731450 0.05249059 0.04281713 0.63319765 0.22020484\n",
       "\n",
       "  Parameters of node LungParench (multinomial distribution)\n",
       "\n",
       "Conditional probability table:\n",
       " \n",
       "           Disease\n",
       "LungParench          1          2          3          4          5          6\n",
       "          1 0.60717949 0.82441728 0.80705184 0.82703081 0.10809588 0.06936685\n",
       "          2 0.11333333 0.04301075 0.03294237 0.04911965 0.59656264 0.19087523\n",
       "          3 0.27948718 0.13257196 0.16000579 0.12384954 0.29534147 0.73975791\n",
       "\n",
       "  Parameters of node LVH (multinomial distribution)\n",
       "\n",
       "Conditional probability table:\n",
       " \n",
       "   Disease\n",
       "LVH          1          2          3          4          5          6\n",
       "  1 0.07307692 0.09126428 0.07743267 0.89570828 0.04816825 0.11243017\n",
       "  2 0.92692308 0.90873572 0.92256733 0.10429172 0.95183175 0.88756983\n",
       "\n",
       "  Parameters of node LVHReport (multinomial distribution)\n",
       "\n",
       "Conditional probability table:\n",
       " \n",
       ", , LVH = 1\n",
       "\n",
       "         Disease\n",
       "LVHReport          1          2          3          4          5          6\n",
       "        1 0.59473684 0.84577387 0.78611501 0.93424359 0.62676056 0.76086957\n",
       "        2 0.40526316 0.15422613 0.21388499 0.06575641 0.37323944 0.23913043\n",
       "\n",
       ", , LVH = 2\n",
       "\n",
       "         Disease\n",
       "LVHReport          1          2          3          4          5          6\n",
       "        1 0.04190871 0.05782163 0.04196586 0.14172662 0.04454740 0.05389457\n",
       "        2 0.95809129 0.94217837 0.95803414 0.85827338 0.95545260 0.94610543\n",
       "\n",
       "\n",
       "  Parameters of node RUQO2 (multinomial distribution)\n",
       "\n",
       "Conditional probability table:\n",
       " \n",
       "     HypoxiaInO2\n",
       "RUQO2          1          2          3\n",
       "    1 0.08594657 0.28231935 0.47901933\n",
       "    2 0.30336818 0.61409917 0.42703913\n",
       "    3 0.61068525 0.10358148 0.09394154\n",
       "\n",
       "  Parameters of node Sick (multinomial distribution)\n",
       "\n",
       "Conditional probability table:\n",
       " \n",
       ", , Disease = 1\n",
       "\n",
       "    Age\n",
       "Sick          1          2          3\n",
       "   1 0.34403409 0.25838926 0.28048780\n",
       "   2 0.65596591 0.74161074 0.71951220\n",
       "\n",
       ", , Disease = 2\n",
       "\n",
       "    Age\n",
       "Sick          1          2          3\n",
       "   1 0.29069767 0.19093918 0.16800321\n",
       "   2 0.70930233 0.80906082 0.83199679\n",
       "\n",
       ", , Disease = 3\n",
       "\n",
       "    Age\n",
       "Sick          1          2          3\n",
       "   1 0.36259542 0.08961268 0.06065306\n",
       "   2 0.63740458 0.91038732 0.93934694\n",
       "\n",
       ", , Disease = 4\n",
       "\n",
       "    Age\n",
       "Sick          1          2          3\n",
       "   1 0.27816507 0.22178289 0.22465035\n",
       "   2 0.72183493 0.77821711 0.77534965\n",
       "\n",
       ", , Disease = 5\n",
       "\n",
       "    Age\n",
       "Sick          1          2          3\n",
       "   1 0.75420967 0.69959677 0.61065574\n",
       "   2 0.24579033 0.30040323 0.38934426\n",
       "\n",
       ", , Disease = 6\n",
       "\n",
       "    Age\n",
       "Sick          1          2          3\n",
       "   1 0.75053022 0.41133005 0.19491525\n",
       "   2 0.24946978 0.58866995 0.80508475\n",
       "\n",
       "\n",
       "  Parameters of node XrayReport (multinomial distribution)\n",
       "\n",
       "Conditional probability table:\n",
       " \n",
       "          ChestXray\n",
       "XrayReport          1          2          3          4          5\n",
       "         1 0.79125475 0.09511794 0.07814815 0.09782082 0.08317757\n",
       "         2 0.06692015 0.81590784 0.02722222 0.05665860 0.02710280\n",
       "         3 0.05741445 0.01777290 0.82351852 0.12203390 0.08785047\n",
       "         4 0.02699620 0.01503017 0.01703704 0.55786925 0.08317757\n",
       "         5 0.05741445 0.05617115 0.05407407 0.16561743 0.71869159\n"
      ]
     },
     "metadata": {},
     "output_type": "display_data"
    }
   ],
   "source": [
    "bn_bayes = bn.fit(dag, data = DF, method = 'bayes', iss = 10)\n",
    "bn_bayes"
   ]
  },
  {
   "cell_type": "code",
   "execution_count": null,
   "metadata": {
    "vscode": {
     "languageId": "r"
    }
   },
   "outputs": [],
   "source": []
  },
  {
   "cell_type": "code",
   "execution_count": null,
   "metadata": {
    "vscode": {
     "languageId": "r"
    }
   },
   "outputs": [],
   "source": []
  },
  {
   "cell_type": "code",
   "execution_count": 10,
   "metadata": {
    "vscode": {
     "languageId": "r"
    }
   },
   "outputs": [
    {
     "name": "stderr",
     "output_type": "stream",
     "text": [
      "Caricamento dei namespace richiesti: lattice\n",
      "\n"
     ]
    },
    {
     "data": {
      "image/png": "[encoded data removed]",
      "text/plain": [
       "plot without title"
      ]
     },
     "metadata": {
      "image/png": {
       "height": 420,
       "width": 420
      }
     },
     "output_type": "display_data"
    }
   ],
   "source": [
    "bn.fit.barchart(bn_bayes$Disease, \"LungParench\", xlab=\"P(Disease|LungParench)\", ylab=\"Disease\")"
   ]
  },
  {
   "cell_type": "code",
   "execution_count": null,
   "metadata": {
    "vscode": {
     "languageId": "r"
    }
   },
   "outputs": [],
   "source": []
  },
  {
   "cell_type": "code",
   "execution_count": 11,
   "metadata": {
    "vscode": {
     "languageId": "r"
    }
   },
   "outputs": [
    {
     "data": {
      "image/png": "[encoded data removed]",
      "text/plain": [
       "plot without title"
      ]
     },
     "metadata": {
      "image/png": {
       "height": 420,
       "width": 420
      }
     },
     "output_type": "display_data"
    }
   ],
   "source": [
    "bn.fit.barchart(bn_bayes$ChestXray, \"LungParench & LungFlow\", xlab=\"P(ChestXray|LungFlow)\", ylab=\"ChestXray\")"
   ]
  },
  {
   "cell_type": "code",
   "execution_count": 12,
   "metadata": {
    "vscode": {
     "languageId": "r"
    }
   },
   "outputs": [
    {
     "data": {
      "text/plain": [
       "\n",
       "  Parameters of node ChestXray (multinomial distribution)\n",
       "\n",
       "Conditional probability table:\n",
       " \n",
       ", , LungParench = 1\n",
       "\n",
       "         LungFlow\n",
       "ChestXray           1           2           3\n",
       "        1 0.891818937 0.132834320 0.162174896\n",
       "        2 0.034053156 0.794436376 0.017998492\n",
       "        3 0.013496678 0.026756787 0.765171504\n",
       "        4 0.019102990 0.019215730 0.045137580\n",
       "        5 0.041528239 0.026756787 0.009517527\n",
       "\n",
       ", , LungParench = 2\n",
       "\n",
       "         LungFlow\n",
       "ChestXray           1           2           3\n",
       "        1 0.060344828 0.044214487 0.041962556\n",
       "        2 0.021551724 0.306679210 0.001291156\n",
       "        3 0.060344828 0.086547507 0.419625565\n",
       "        4 0.748922414 0.374412041 0.384764364\n",
       "        5 0.108836207 0.188146754 0.152356359\n",
       "\n",
       ", , LungParench = 3\n",
       "\n",
       "         LungFlow\n",
       "ChestXray           1           2           3\n",
       "        1 0.058998513 0.043582248 0.255327869\n",
       "        2 0.041150223 0.165559394 0.318032787\n",
       "        3 0.009915716 0.034015413 0.045081967\n",
       "        4 0.072384730 0.060324209 0.303278689\n",
       "        5 0.817550818 0.696518735 0.078278689\n"
      ]
     },
     "metadata": {},
     "output_type": "display_data"
    }
   ],
   "source": [
    "bn_bayes$ChestXray"
   ]
  },
  {
   "cell_type": "code",
   "execution_count": null,
   "metadata": {
    "vscode": {
     "languageId": "r"
    }
   },
   "outputs": [],
   "source": []
  }
 ],
 "metadata": {
  "kernelspec": {
   "display_name": "R",
   "language": "R",
   "name": "ir"
  },
  "language_info": {
   "codemirror_mode": "r",
   "file_extension": ".r",
   "mimetype": "text/x-r-source",
   "name": "R",
   "pygments_lexer": "r",
   "version": "4.2.2"
  }
 },
 "nbformat": 4,
 "nbformat_minor": 2
}
