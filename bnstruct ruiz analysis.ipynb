{
 "cells": [
  {
   "cell_type": "code",
   "execution_count": 1,
   "metadata": {
    "vscode": {
     "languageId": "r"
    }
   },
   "outputs": [
    {
     "name": "stderr",
     "output_type": "stream",
     "text": [
      "Warning message:\n",
      "\"il pacchetto 'bnlearn' è stato creato con R versione 4.2.3\"\n",
      "Warning message:\n",
      "\"il pacchetto 'bnstruct' è stato creato con R versione 4.2.3\"\n",
      "Warning message:\n",
      "\"il pacchetto 'igraph' è stato creato con R versione 4.2.3\"\n"
     ]
    }
   ],
   "source": [
    "source('K2methods.r') |> suppressPackageStartupMessages()\n",
    "library(bnstruct)     |> suppressPackageStartupMessages()"
   ]
  },
  {
   "cell_type": "code",
   "execution_count": 2,
   "metadata": {
    "vscode": {
     "languageId": "r"
    }
   },
   "outputs": [
    {
     "data": {
      "text/plain": [
       "\n",
       "Dataset: \n",
       "\n",
       "num.variables 3\n",
       "\n",
       "variables\n",
       "x1 x2 x3\n",
       "discreteness\n",
       "TRUE TRUE TRUE\n",
       "node.sizes\n",
       "2 2 2\n",
       "num.items\n",
       "10\n",
       "imputation\n",
       "FALSE\n",
       "has.boots\n",
       "FALSE\n",
       "has.imputed.boots\n",
       "FALSE\n",
       "num.boots\n",
       "0"
      ]
     },
     "metadata": {},
     "output_type": "display_data"
    }
   ],
   "source": [
    "M = matrix(data = \n",
    "           c(1, 1, 0, 1, 0, 0, 1, 0, 1, 0, \n",
    "             0, 1, 0, 1, 0, 1, 1, 0, 1, 0, \n",
    "             0, 1, 1, 1, 0, 1, 1, 0, 1, 0), \n",
    "            ncol = 3, nrow = 10,\n",
    "            byrow = FALSE)\n",
    "mode(M) = 'integer'\n",
    "colnames(M) = c('x1', 'x2', 'x3')\n",
    "\n",
    "DF = BNDataset(data = M, \n",
    "        discreteness = rep('d',3), \n",
    "        variables = c('x1', 'x2', 'x3'), \n",
    "        node.sizes = c(2, 2, 2), \n",
    "        starts.from = 0)\n",
    "DF"
   ]
  },
  {
   "cell_type": "code",
   "execution_count": 3,
   "metadata": {
    "vscode": {
     "languageId": "r"
    }
   },
   "outputs": [
    {
     "name": "stderr",
     "output_type": "stream",
     "text": [
      "bnstruct :: learning the structure using MMHC ...\n",
      "\n",
      "bnstruct :: learning using MMHC completed.\n",
      "\n",
      "bnstruct :: learning network parameters ... \n",
      "\n",
      "bnstruct :: parameter learning done.\n",
      "\n"
     ]
    }
   ],
   "source": [
    "net = learn.network(DF, scoring.func = \"BIC\", layering = c(1,2,3)) "
   ]
  },
  {
   "cell_type": "code",
   "execution_count": 4,
   "metadata": {
    "vscode": {
     "languageId": "r"
    }
   },
   "outputs": [
    {
     "data": {
      "image/png": "[encoded data removed]",
      "text/plain": [
       "plot without title"
      ]
     },
     "metadata": {
      "image/png": {
       "height": 420,
       "width": 420
      }
     },
     "output_type": "display_data"
    }
   ],
   "source": [
    "plot(net)"
   ]
  },
  {
   "cell_type": "code",
   "execution_count": null,
   "metadata": {},
   "outputs": [],
   "source": []
  },
  {
   "cell_type": "code",
   "execution_count": 5,
   "metadata": {},
   "outputs": [
    {
     "name": "stderr",
     "output_type": "stream",
     "text": [
      "bnstruct :: learning the structure using MMHC ...\n",
      "\n",
      "bnstruct :: learning using MMHC completed.\n",
      "\n",
      "bnstruct :: learning network parameters ... \n",
      "\n",
      "bnstruct :: parameter learning done.\n",
      "\n"
     ]
    }
   ],
   "source": [
    "net = learn.network(DF, scoring.func = \"BIC\") "
   ]
  },
  {
   "cell_type": "code",
   "execution_count": 6,
   "metadata": {},
   "outputs": [
    {
     "data": {
      "image/png": "[encoded data removed]",
      "text/plain": [
       "plot without title"
      ]
     },
     "metadata": {
      "image/png": {
       "height": 420,
       "width": 420
      }
     },
     "output_type": "display_data"
    }
   ],
   "source": [
    "plot(net)"
   ]
  },
  {
   "cell_type": "code",
   "execution_count": null,
   "metadata": {},
   "outputs": [],
   "source": []
  },
  {
   "cell_type": "markdown",
   "metadata": {},
   "source": [
    "# If one looks at the score results, the two networks lead to the very same score!!"
   ]
  },
  {
   "cell_type": "code",
   "execution_count": null,
   "metadata": {},
   "outputs": [],
   "source": []
  },
  {
   "cell_type": "code",
   "execution_count": 7,
   "metadata": {},
   "outputs": [],
   "source": [
    "net_bnl = empty.graph(colnames(M))\n",
    "amat(net_bnl) = dag(net)"
   ]
  },
  {
   "cell_type": "code",
   "execution_count": 8,
   "metadata": {},
   "outputs": [
    {
     "data": {
      "text/html": [
       "-20.1939708911574"
      ],
      "text/latex": [
       "-20.1939708911574"
      ],
      "text/markdown": [
       "-20.1939708911574"
      ],
      "text/plain": [
       "[1] -20.19397"
      ]
     },
     "metadata": {},
     "output_type": "display_data"
    }
   ],
   "source": [
    "mode(M) = 'character'\n",
    "score(net_bnl, data = as.data.frame(M, stringsAsFactors = TRUE), type = 'bic') # using DF is the same"
   ]
  },
  {
   "cell_type": "code",
   "execution_count": null,
   "metadata": {},
   "outputs": [],
   "source": []
  }
 ],
 "metadata": {
  "kernelspec": {
   "display_name": "R",
   "language": "R",
   "name": "ir"
  },
  "language_info": {
   "codemirror_mode": "r",
   "file_extension": ".r",
   "mimetype": "text/x-r-source",
   "name": "R",
   "pygments_lexer": "r",
   "version": "4.2.2"
  }
 },
 "nbformat": 4,
 "nbformat_minor": 2
}
