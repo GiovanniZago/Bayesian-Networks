{
 "cells": [
  {
   "cell_type": "code",
   "execution_count": 2,
   "metadata": {
    "vscode": {
     "languageId": "r"
    }
   },
   "outputs": [
    {
     "data": {
      "text/html": [
       "<table class=\"dataframe\">\n",
       "<caption>A data.frame: 10 × 3</caption>\n",
       "<thead>\n",
       "\t<tr><th scope=col>x1</th><th scope=col>x2</th><th scope=col>x3</th></tr>\n",
       "\t<tr><th scope=col>&lt;dbl&gt;</th><th scope=col>&lt;dbl&gt;</th><th scope=col>&lt;dbl&gt;</th></tr>\n",
       "</thead>\n",
       "<tbody>\n",
       "\t<tr><td>1</td><td>0</td><td>0</td></tr>\n",
       "\t<tr><td>1</td><td>1</td><td>1</td></tr>\n",
       "\t<tr><td>0</td><td>0</td><td>1</td></tr>\n",
       "\t<tr><td>1</td><td>1</td><td>1</td></tr>\n",
       "\t<tr><td>0</td><td>0</td><td>0</td></tr>\n",
       "\t<tr><td>0</td><td>1</td><td>1</td></tr>\n",
       "\t<tr><td>1</td><td>1</td><td>1</td></tr>\n",
       "\t<tr><td>0</td><td>0</td><td>0</td></tr>\n",
       "\t<tr><td>1</td><td>1</td><td>1</td></tr>\n",
       "\t<tr><td>0</td><td>0</td><td>0</td></tr>\n",
       "</tbody>\n",
       "</table>\n"
      ],
      "text/latex": [
       "A data.frame: 10 × 3\n",
       "\\begin{tabular}{lll}\n",
       " x1 & x2 & x3\\\\\n",
       " <dbl> & <dbl> & <dbl>\\\\\n",
       "\\hline\n",
       "\t 1 & 0 & 0\\\\\n",
       "\t 1 & 1 & 1\\\\\n",
       "\t 0 & 0 & 1\\\\\n",
       "\t 1 & 1 & 1\\\\\n",
       "\t 0 & 0 & 0\\\\\n",
       "\t 0 & 1 & 1\\\\\n",
       "\t 1 & 1 & 1\\\\\n",
       "\t 0 & 0 & 0\\\\\n",
       "\t 1 & 1 & 1\\\\\n",
       "\t 0 & 0 & 0\\\\\n",
       "\\end{tabular}\n"
      ],
      "text/markdown": [
       "\n",
       "A data.frame: 10 × 3\n",
       "\n",
       "| x1 &lt;dbl&gt; | x2 &lt;dbl&gt; | x3 &lt;dbl&gt; |\n",
       "|---|---|---|\n",
       "| 1 | 0 | 0 |\n",
       "| 1 | 1 | 1 |\n",
       "| 0 | 0 | 1 |\n",
       "| 1 | 1 | 1 |\n",
       "| 0 | 0 | 0 |\n",
       "| 0 | 1 | 1 |\n",
       "| 1 | 1 | 1 |\n",
       "| 0 | 0 | 0 |\n",
       "| 1 | 1 | 1 |\n",
       "| 0 | 0 | 0 |\n",
       "\n"
      ],
      "text/plain": [
       "   x1 x2 x3\n",
       "1  1  0  0 \n",
       "2  1  1  1 \n",
       "3  0  0  1 \n",
       "4  1  1  1 \n",
       "5  0  0  0 \n",
       "6  0  1  1 \n",
       "7  1  1  1 \n",
       "8  0  0  0 \n",
       "9  1  1  1 \n",
       "10 0  0  0 "
      ]
     },
     "metadata": {},
     "output_type": "display_data"
    }
   ],
   "source": [
    "library(purrr)\n",
    "DF = data.frame(x1 = c(1, 1, 0, 1, 0, 0, 1, 0, 1, 0), \n",
    "                x2 = c(0, 1, 0, 1, 0, 1, 1, 0, 1, 0), \n",
    "                x3 = c(0, 1, 1, 1, 0, 1, 1, 0, 1, 0))\n",
    "# DF = as.data.table(DF)\n",
    "DF"
   ]
  },
  {
   "cell_type": "code",
   "execution_count": 26,
   "metadata": {
    "vscode": {
     "languageId": "r"
    }
   },
   "outputs": [],
   "source": [
    "# calcualtes function (12) in the article\n",
    "g_i_pi = function(i, parents = NA, df) { # i is the place of the variable in the assigned order, not the order of the variable in the database\n",
    "    R = unique(df[, i])\n",
    "    r = length(R)\n",
    "\n",
    "    if (all(is.na(parents))) {\n",
    "        q = 1\n",
    "        N = as.data.frame(rbind(table(df[, i])))\n",
    "    } else {\n",
    "        W = as.data.frame(cbind(unique(df[, parents])))\n",
    "        q = nrow(W)\n",
    "        N = data.frame(matrix(nrow = q, ncol = r))\n",
    "\n",
    "        for (j in 1:q) {\n",
    "            df_parents = df[apply(as.data.frame(cbind(df[,parents])), 1, function(row) all(row == as.numeric(W[j,]))),]\n",
    "            for (k in 1:r) {\n",
    "                N[j, k] = sum(df_parents[, i] == R[k])\n",
    "            }\n",
    "        }\n",
    "    }\n",
    "\n",
    "    foo = data.frame(prod = apply(as.data.frame(map(N, factorial)), 1, prod), \n",
    "                    sum = apply(N, 1, sum))\n",
    "    out = prod(unlist(map2(.x = foo$prod, .y = foo$sum, .f = ~ (factorial(r - 1) / factorial(.y + r - 1)) * .x)))\n",
    "    return(out)\n",
    "}"
   ]
  },
  {
   "cell_type": "code",
   "execution_count": 27,
   "metadata": {
    "vscode": {
     "languageId": "r"
    }
   },
   "outputs": [
    {
     "data": {
      "text/html": [
       "0.00111111111111111"
      ],
      "text/latex": [
       "0.00111111111111111"
      ],
      "text/markdown": [
       "0.00111111111111111"
      ],
      "text/plain": [
       "[1] 0.001111111"
      ]
     },
     "metadata": {},
     "output_type": "display_data"
    }
   ],
   "source": [
    "# check if the calculation is correct\n",
    "g_i_pi(i = 2, parents = 1, df = DF)"
   ]
  },
  {
   "cell_type": "code",
   "execution_count": 29,
   "metadata": {
    "vscode": {
     "languageId": "r"
    }
   },
   "outputs": [],
   "source": [
    "# implements K2 algorithm\n",
    "K2_algorithm = function(n, u, D) {\n",
    "    parents = vector('list', length = n)\n",
    "    for (i in 1:n) {\n",
    "        if (i == 1) {next}\n",
    "\n",
    "        parents[[i]] = NA \n",
    "        len_parents = 0\n",
    "        P_old = g_i_pi(i, parents[[i]], D)\n",
    "        # cat('pold:', P_old, '\\n')\n",
    "\n",
    "        OTP = TRUE\n",
    "        while(OTP & len_parents < u) {\n",
    "            # cat('\\nparents:', parents[[i]], 'variable:', i, '\\n')\n",
    "            # cat('condition:', is.na(parents[[i]]), 'variable:', i, '\\n')\n",
    "            if (is.na(parents[[i]])) {\n",
    "                indexes = 1:(i-1)\n",
    "            } else {\n",
    "                foo = 1:(i-1)\n",
    "                indexes = foo[-parents[[i]]]\n",
    "            }\n",
    "            # cat('indexes:', indexes, 'variable:', i, '\\n')\n",
    "\n",
    "            if (length(indexes) == 0) {\n",
    "                OTP = FALSE\n",
    "                next\n",
    "            }\n",
    "            P = vector('numeric', length = length(indexes))\n",
    "            for (t in 1:length(indexes)) {\n",
    "                cand_parents = append(parents[[i]], indexes[t])\n",
    "                cand_parents = cand_parents[!is.na(cand_parents)]\n",
    "                P[t] = g_i_pi(i, cand_parents, D)\n",
    "            }\n",
    "            # cat('maxP:', max(P), 'Pold:', P_old, 'i:', i, 'parents:', parents[[i]], '\\n')\n",
    "            if (max(P) > P_old) {\n",
    "                P_old = max(P)\n",
    "                parents[[i]] = append(parents[[i]], indexes[which.max(P)])\n",
    "                parents[[i]] = parents[[i]][!is.na(parents[[i]])]\n",
    "                len_parents = length(parents[[i]])\n",
    "            } else {\n",
    "                OTP = False\n",
    "            }\n",
    "        }\n",
    "    }\n",
    "    return(parents)\n",
    "}"
   ]
  },
  {
   "cell_type": "code",
   "execution_count": 56,
   "metadata": {
    "vscode": {
     "languageId": "r"
    }
   },
   "outputs": [
    {
     "data": {
      "text/html": [
       "<ol>\n",
       "\t<li>NULL</li>\n",
       "\t<li>1</li>\n",
       "\t<li>2</li>\n",
       "</ol>\n"
      ],
      "text/latex": [
       "\\begin{enumerate}\n",
       "\\item NULL\n",
       "\\item 1\n",
       "\\item 2\n",
       "\\end{enumerate}\n"
      ],
      "text/markdown": [
       "1. NULL\n",
       "2. 1\n",
       "3. 2\n",
       "\n",
       "\n"
      ],
      "text/plain": [
       "[[1]]\n",
       "NULL\n",
       "\n",
       "[[2]]\n",
       "[1] 1\n",
       "\n",
       "[[3]]\n",
       "[1] 2\n"
      ]
     },
     "metadata": {},
     "output_type": "display_data"
    }
   ],
   "source": [
    "# the result is correct \n",
    "trial = K2_algorithm(n = 3, u = 1, D = DF)\n",
    "trial\n",
    "\n",
    "# indeed we see that var 1 in our order has zero parents\n",
    "# while var 2 in our order has var 1 as parent\n",
    "# and finally var 3 has var 2 as parents"
   ]
  },
  {
   "cell_type": "code",
   "execution_count": 57,
   "metadata": {
    "vscode": {
     "languageId": "r"
    }
   },
   "outputs": [
    {
     "ename": "ERROR",
     "evalue": "Error in K2_algorithm(n = 3, u = 2, D = DF): object 'False' not found\n",
     "output_type": "error",
     "traceback": [
      "Error in K2_algorithm(n = 3, u = 2, D = DF): object 'False' not found\nTraceback:\n",
      "1. K2_algorithm(n = 3, u = 2, D = DF)"
     ]
    }
   ],
   "source": [
    "# still have to figure out why this call raises an error\n",
    "trial = K2_algorithm(n = 3, u = 2, D = DF)\n",
    "trial"
   ]
  }
 ],
 "metadata": {
  "kernelspec": {
   "display_name": "R",
   "language": "R",
   "name": "ir"
  },
  "language_info": {
   "codemirror_mode": "r",
   "file_extension": ".r",
   "mimetype": "text/x-r-source",
   "name": "R",
   "pygments_lexer": "r",
   "version": "4.2.2"
  },
  "orig_nbformat": 4
 },
 "nbformat": 4,
 "nbformat_minor": 2
}
