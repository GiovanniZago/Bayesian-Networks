{
 "cells": [
  {
   "cell_type": "code",
   "execution_count": 1,
   "metadata": {
    "vscode": {
     "languageId": "r"
    }
   },
   "outputs": [],
   "source": [
    "# load packages\n",
    "#library(purrr)        |> suppressPackageStartupMessages()\n",
    "#library(Rgraphviz)    |> suppressPackageStartupMessages()\n",
    "#library(bnlearn)      |> suppressPackageStartupMessages()\n",
    "#library(bnstruct)     |> suppressPackageStartupMessages()\n",
    "#library(Rgraphviz)    |> suppressPackageStartupMessages()\n",
    "source('test.r') |> suppressPackageStartupMessages()"
   ]
  },
  {
   "cell_type": "code",
   "execution_count": 2,
   "metadata": {
    "vscode": {
     "languageId": "r"
    }
   },
   "outputs": [
    {
     "name": "stderr",
     "output_type": "stream",
     "text": [
      "bnstruct :: performing imputation ...\n",
      "\n",
      "bnstruct :: imputation finished.\n",
      "\n"
     ]
    }
   ],
   "source": [
    "data = asia()\n",
    "data = impute(data)\n",
    "data = imputed.data(data)"
   ]
  },
  {
   "cell_type": "code",
   "execution_count": 3,
   "metadata": {
    "vscode": {
     "languageId": "r"
    }
   },
   "outputs": [
    {
     "name": "stdout",
     "output_type": "stream",
     "text": [
      "The dataset dimensions are: 10000 8"
     ]
    },
    {
     "data": {
      "text/html": [
       "<table class=\"dataframe\">\n",
       "<caption>A data.frame: 6 × 8</caption>\n",
       "<thead>\n",
       "\t<tr><th></th><th scope=col>Asia</th><th scope=col>Tubercolosys</th><th scope=col>Smoke</th><th scope=col>LungCancer</th><th scope=col>Bronchitis</th><th scope=col>Either</th><th scope=col>X-ray</th><th scope=col>Dyspnea</th></tr>\n",
       "\t<tr><th></th><th scope=col>&lt;dbl&gt;</th><th scope=col>&lt;dbl&gt;</th><th scope=col>&lt;dbl&gt;</th><th scope=col>&lt;dbl&gt;</th><th scope=col>&lt;dbl&gt;</th><th scope=col>&lt;dbl&gt;</th><th scope=col>&lt;dbl&gt;</th><th scope=col>&lt;dbl&gt;</th></tr>\n",
       "</thead>\n",
       "<tbody>\n",
       "\t<tr><th scope=row>1</th><td>2</td><td>2</td><td>1</td><td>1</td><td>1</td><td>2</td><td>1</td><td>2</td></tr>\n",
       "\t<tr><th scope=row>2</th><td>2</td><td>1</td><td>1</td><td>1</td><td>1</td><td>1</td><td>2</td><td>1</td></tr>\n",
       "\t<tr><th scope=row>3</th><td>1</td><td>1</td><td>2</td><td>1</td><td>1</td><td>1</td><td>2</td><td>1</td></tr>\n",
       "\t<tr><th scope=row>4</th><td>2</td><td>1</td><td>2</td><td>1</td><td>1</td><td>1</td><td>2</td><td>1</td></tr>\n",
       "\t<tr><th scope=row>5</th><td>2</td><td>1</td><td>2</td><td>1</td><td>1</td><td>1</td><td>1</td><td>2</td></tr>\n",
       "\t<tr><th scope=row>6</th><td>2</td><td>1</td><td>2</td><td>1</td><td>1</td><td>1</td><td>2</td><td>2</td></tr>\n",
       "</tbody>\n",
       "</table>\n"
      ],
      "text/latex": [
       "A data.frame: 6 × 8\n",
       "\\begin{tabular}{r|llllllll}\n",
       "  & Asia & Tubercolosys & Smoke & LungCancer & Bronchitis & Either & X-ray & Dyspnea\\\\\n",
       "  & <dbl> & <dbl> & <dbl> & <dbl> & <dbl> & <dbl> & <dbl> & <dbl>\\\\\n",
       "\\hline\n",
       "\t1 & 2 & 2 & 1 & 1 & 1 & 2 & 1 & 2\\\\\n",
       "\t2 & 2 & 1 & 1 & 1 & 1 & 1 & 2 & 1\\\\\n",
       "\t3 & 1 & 1 & 2 & 1 & 1 & 1 & 2 & 1\\\\\n",
       "\t4 & 2 & 1 & 2 & 1 & 1 & 1 & 2 & 1\\\\\n",
       "\t5 & 2 & 1 & 2 & 1 & 1 & 1 & 1 & 2\\\\\n",
       "\t6 & 2 & 1 & 2 & 1 & 1 & 1 & 2 & 2\\\\\n",
       "\\end{tabular}\n"
      ],
      "text/markdown": [
       "\n",
       "A data.frame: 6 × 8\n",
       "\n",
       "| <!--/--> | Asia &lt;dbl&gt; | Tubercolosys &lt;dbl&gt; | Smoke &lt;dbl&gt; | LungCancer &lt;dbl&gt; | Bronchitis &lt;dbl&gt; | Either &lt;dbl&gt; | X-ray &lt;dbl&gt; | Dyspnea &lt;dbl&gt; |\n",
       "|---|---|---|---|---|---|---|---|---|\n",
       "| 1 | 2 | 2 | 1 | 1 | 1 | 2 | 1 | 2 |\n",
       "| 2 | 2 | 1 | 1 | 1 | 1 | 1 | 2 | 1 |\n",
       "| 3 | 1 | 1 | 2 | 1 | 1 | 1 | 2 | 1 |\n",
       "| 4 | 2 | 1 | 2 | 1 | 1 | 1 | 2 | 1 |\n",
       "| 5 | 2 | 1 | 2 | 1 | 1 | 1 | 1 | 2 |\n",
       "| 6 | 2 | 1 | 2 | 1 | 1 | 1 | 2 | 2 |\n",
       "\n"
      ],
      "text/plain": [
       "  Asia Tubercolosys Smoke LungCancer Bronchitis Either X-ray Dyspnea\n",
       "1 2    2            1     1          1          2      1     2      \n",
       "2 2    1            1     1          1          1      2     1      \n",
       "3 1    1            2     1          1          1      2     1      \n",
       "4 2    1            2     1          1          1      2     1      \n",
       "5 2    1            2     1          1          1      1     2      \n",
       "6 2    1            2     1          1          1      2     2      "
      ]
     },
     "metadata": {},
     "output_type": "display_data"
    }
   ],
   "source": [
    "# mode(data) = 'character'\n",
    "DF = data.frame(data, stringsAsFactors = TRUE)\n",
    "cat('The dataset dimensions are:', dim(DF))\n",
    "\n",
    "colnames(DF) <- asia()@variables\n",
    "head(DF)"
   ]
  },
  {
   "cell_type": "code",
   "execution_count": 4,
   "metadata": {},
   "outputs": [],
   "source": [
    "today = 01072023 # default seed = 12345"
   ]
  },
  {
   "cell_type": "code",
   "execution_count": 16,
   "metadata": {
    "vscode": {
     "languageId": "r"
    }
   },
   "outputs": [
    {
     "name": "stdout",
     "output_type": "stream",
     "text": [
      "order = Asia Tubercolosys Smoke LungCancer Bronchitis Either X-ray DyspneaRunning iteration # 1 u = 3order = Smoke Bronchitis Dyspnea Asia LungCancer X-ray Tubercolosys EitherRunning iteration # 2 u = 3order = Bronchitis X-ray Asia Dyspnea Smoke Tubercolosys Either LungCancerRunning iteration # 3 u = 3order = Tubercolosys Asia X-ray Bronchitis Either Dyspnea LungCancer SmokeRunning iteration # 4 u = 3order = Tubercolosys LungCancer Either X-ray Smoke Bronchitis Dyspnea AsiaRunning iteration # 5 u = 3 DONE \n",
      "\n",
      "Total execution time: 0.09196562 mins\n"
     ]
    }
   ],
   "source": [
    "struct = K2(n = ncol(DF), u = 3, D = DF, seed=today, num.iterations=5)"
   ]
  },
  {
   "cell_type": "code",
   "execution_count": null,
   "metadata": {
    "vscode": {
     "languageId": "r"
    }
   },
   "outputs": [],
   "source": [
    "\n"
   ]
  },
  {
   "cell_type": "code",
   "execution_count": 17,
   "metadata": {
    "vscode": {
     "languageId": "r"
    }
   },
   "outputs": [
    {
     "data": {
      "image/png": "[encoded data removed]",
      "text/plain": [
       "plot without title"
      ]
     },
     "metadata": {
      "image/png": {
       "height": 420,
       "width": 420
      }
     },
     "output_type": "display_data"
    }
   ],
   "source": [
    "dag = get_gigi_dag(names(DF), struct$dag)\n",
    "graphviz.plot(dag)"
   ]
  },
  {
   "cell_type": "code",
   "execution_count": null,
   "metadata": {},
   "outputs": [],
   "source": []
  },
  {
   "cell_type": "markdown",
   "metadata": {},
   "source": [
    "## `bnlearn` comparison"
   ]
  },
  {
   "cell_type": "code",
   "execution_count": 8,
   "metadata": {},
   "outputs": [
    {
     "ename": "ERROR",
     "evalue": "Error in check.fitting.method(method, data): parameter estimator 'bayes' may only be used with discrete data.\n",
     "output_type": "error",
     "traceback": [
      "Error in check.fitting.method(method, data): parameter estimator 'bayes' may only be used with discrete data.\nTraceback:\n",
      "1. bn.fit(dag, data = DF, method = \"bayes\", iss = 10)",
      "2. check.fitting.method(method, data)",
      "3. stop(\"parameter estimator '\", method, \"' may only be used with discrete data.\")"
     ]
    }
   ],
   "source": [
    "bn_bayes = bn.fit(dag, data = DF, method = 'bayes', iss = 10)\n",
    "bn_bayes"
   ]
  },
  {
   "cell_type": "code",
   "execution_count": null,
   "metadata": {},
   "outputs": [],
   "source": [
    "# recall that when we make this test H_0 = (x, y) are independent\n",
    "ci.test(x = 'Asia', y = 'Tubercolosys', z = 'X-ray', data = DF, test = 'mi')\n",
    "\n",
    "# this shows that since the p-value is low, by \n",
    "# taking a 5% significance level we can reject the null \n",
    "# hyp and say that x3 and x2 depend on each other"
   ]
  },
  {
   "cell_type": "code",
   "execution_count": null,
   "metadata": {},
   "outputs": [],
   "source": [
    "# this may say something about the structure we got through K2\n",
    "ci.test(x = 'Dyspnea', y = 'Asia', z = 'Smoke', data = DF, test = 'mi')"
   ]
  },
  {
   "cell_type": "code",
   "execution_count": null,
   "metadata": {},
   "outputs": [],
   "source": [
    "# evaluate the score of our network\n",
    "score(dag, data = DF, type = 'bic')\n",
    "score(dag, data = DF, type = 'bde')"
   ]
  },
  {
   "cell_type": "code",
   "execution_count": null,
   "metadata": {},
   "outputs": [],
   "source": [
    "arc.strength(dag, data=DF, criterion=\"x2\")"
   ]
  },
  {
   "cell_type": "markdown",
   "metadata": {},
   "source": [
    "### This is the very same result that we get too!!! :)"
   ]
  },
  {
   "cell_type": "code",
   "execution_count": null,
   "metadata": {},
   "outputs": [],
   "source": []
  },
  {
   "cell_type": "code",
   "execution_count": null,
   "metadata": {},
   "outputs": [],
   "source": [
    "dataset <- asia()\n",
    "net <- BN(dataset)"
   ]
  },
  {
   "cell_type": "code",
   "execution_count": null,
   "metadata": {},
   "outputs": [],
   "source": [
    "net"
   ]
  },
  {
   "cell_type": "code",
   "execution_count": null,
   "metadata": {},
   "outputs": [],
   "source": [
    "net <- learn.network(dataset)"
   ]
  },
  {
   "cell_type": "code",
   "execution_count": null,
   "metadata": {
    "scrolled": false
   },
   "outputs": [],
   "source": [
    "net"
   ]
  },
  {
   "cell_type": "code",
   "execution_count": null,
   "metadata": {
    "scrolled": false
   },
   "outputs": [],
   "source": [
    "plot(net)"
   ]
  },
  {
   "cell_type": "code",
   "execution_count": null,
   "metadata": {},
   "outputs": [],
   "source": [
    "learned <- hc(DF)\n",
    "modelstring(learned)"
   ]
  },
  {
   "cell_type": "code",
   "execution_count": null,
   "metadata": {},
   "outputs": [],
   "source": [
    "graphviz.plot(learned)"
   ]
  },
  {
   "cell_type": "code",
   "execution_count": null,
   "metadata": {},
   "outputs": [],
   "source": [
    "score(learned, data = DF, type = \"bic\")"
   ]
  },
  {
   "cell_type": "code",
   "execution_count": null,
   "metadata": {},
   "outputs": [],
   "source": []
  }
 ],
 "metadata": {
  "kernelspec": {
   "display_name": "R",
   "language": "R",
   "name": "ir"
  },
  "language_info": {
   "codemirror_mode": "r",
   "file_extension": ".r",
   "mimetype": "text/x-r-source",
   "name": "R",
   "pygments_lexer": "r",
   "version": "4.3.1"
  }
 },
 "nbformat": 4,
 "nbformat_minor": 2
}
