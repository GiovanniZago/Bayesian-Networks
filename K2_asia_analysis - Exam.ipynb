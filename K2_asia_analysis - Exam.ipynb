{
 "cells": [
  {
   "cell_type": "code",
   "execution_count": 3,
   "metadata": {
    "vscode": {
     "languageId": "r"
    }
   },
   "outputs": [
    {
     "name": "stderr",
     "output_type": "stream",
     "text": [
      "Caricamento del pacchetto richiesto: graph\n",
      "\n",
      "Caricamento del pacchetto richiesto: BiocGenerics\n",
      "\n"
     ]
    },
    {
     "name": "stderr",
     "output_type": "stream",
     "text": [
      "\n",
      "Caricamento pacchetto: 'BiocGenerics'\n",
      "\n",
      "\n",
      "I seguenti oggetti sono mascherati da 'package:stats':\n",
      "\n",
      "    IQR, mad, sd, var, xtabs\n",
      "\n",
      "\n",
      "I seguenti oggetti sono mascherati da 'package:base':\n",
      "\n",
      "    anyDuplicated, aperm, append, as.data.frame, basename, cbind,\n",
      "    colnames, dirname, do.call, duplicated, eval, evalq, Filter, Find,\n",
      "    get, grep, grepl, intersect, is.unsorted, lapply, Map, mapply,\n",
      "    match, mget, order, paste, pmax, pmax.int, pmin, pmin.int,\n",
      "    Position, rank, rbind, Reduce, rownames, sapply, setdiff, sort,\n",
      "    table, tapply, union, unique, unsplit, which.max, which.min\n",
      "\n",
      "\n",
      "Caricamento del pacchetto richiesto: grid\n",
      "\n",
      "Warning message:\n",
      "\"il pacchetto 'bnlearn' è stato creato con R versione 4.2.3\"\n",
      "Warning message:\n",
      "\"il pacchetto 'bnstruct' è stato creato con R versione 4.2.3\"\n",
      "Caricamento del pacchetto richiesto: bitops\n",
      "\n",
      "Caricamento del pacchetto richiesto: igraph\n",
      "\n",
      "Warning message:\n",
      "\"il pacchetto 'igraph' è stato creato con R versione 4.2.3\"\n",
      "\n",
      "Caricamento pacchetto: 'igraph'\n",
      "\n",
      "\n",
      "I seguenti oggetti sono mascherati da 'package:bnlearn':\n",
      "\n",
      "    as.igraph, compare, degree, subgraph\n",
      "\n",
      "\n",
      "I seguenti oggetti sono mascherati da 'package:graph':\n",
      "\n",
      "    degree, edges, intersection, union\n",
      "\n",
      "\n",
      "I seguenti oggetti sono mascherati da 'package:BiocGenerics':\n",
      "\n",
      "    normalize, path, union\n",
      "\n",
      "\n",
      "I seguenti oggetti sono mascherati da 'package:stats':\n",
      "\n",
      "    decompose, spectrum\n",
      "\n",
      "\n",
      "Il seguente oggetto è mascherato da 'package:base':\n",
      "\n",
      "    union\n",
      "\n",
      "\n",
      "\n",
      "Caricamento pacchetto: 'bnstruct'\n",
      "\n",
      "\n",
      "I seguenti oggetti sono mascherati da 'package:bnlearn':\n",
      "\n",
      "    impute, read.bif, read.dsc, read.net, shd, write.dsc\n",
      "\n",
      "\n",
      "Il seguente oggetto è mascherato da 'package:Rgraphviz':\n",
      "\n",
      "    name\n",
      "\n",
      "\n",
      "\n",
      "Caricamento pacchetto: 'dplyr'\n",
      "\n",
      "\n",
      "I seguenti oggetti sono mascherati da 'package:data.table':\n",
      "\n",
      "    between, first, last\n",
      "\n",
      "\n",
      "I seguenti oggetti sono mascherati da 'package:igraph':\n",
      "\n",
      "    as_data_frame, groups, union\n",
      "\n",
      "\n",
      "Il seguente oggetto è mascherato da 'package:graph':\n",
      "\n",
      "    union\n",
      "\n",
      "\n",
      "I seguenti oggetti sono mascherati da 'package:BiocGenerics':\n",
      "\n",
      "    combine, intersect, setdiff, union\n",
      "\n",
      "\n",
      "I seguenti oggetti sono mascherati da 'package:stats':\n",
      "\n",
      "    filter, lag\n",
      "\n",
      "\n",
      "I seguenti oggetti sono mascherati da 'package:base':\n",
      "\n",
      "    intersect, setdiff, setequal, union\n",
      "\n",
      "\n"
     ]
    }
   ],
   "source": [
    "# load packages\n",
    "library(Rgraphviz)      # |> suppressPackageStartupMessages()\n",
    "library(bnlearn)        # |> suppressPackageStartupMessages()\n",
    "library(bnstruct)       # |> suppressPackageStartupMessages()\n",
    "source('K2methods.r')   # |> suppressPackageStartupMessages()\n",
    "asia <- read.csv('https://www.ccd.pitt.edu/wiki/images/ASIA10k.csv')"
   ]
  },
  {
   "cell_type": "code",
   "execution_count": 4,
   "metadata": {
    "vscode": {
     "languageId": "r"
    }
   },
   "outputs": [],
   "source": [
    "# convert the dataset into a series of integers\n",
    "asia.modified = asia\n",
    "asia.modified[asia == \"yes\"] = 2\n",
    "asia.modified[asia == \"no\"] = 1\n",
    "\n",
    "for (i in 1:length(names(asia.modified))) {\n",
    "    name = names(asia.modified)[i]\n",
    "    asia.modified[, name] = as.factor(as.character(asia.modified[, name]))\n",
    "}"
   ]
  },
  {
   "cell_type": "code",
   "execution_count": 5,
   "metadata": {
    "vscode": {
     "languageId": "r"
    }
   },
   "outputs": [
    {
     "data": {
      "text/html": [
       "<table class=\"dataframe\">\n",
       "<caption>A data.frame: 6 × 8</caption>\n",
       "<thead>\n",
       "\t<tr><th></th><th scope=col>asia</th><th scope=col>tub</th><th scope=col>smoke</th><th scope=col>lung</th><th scope=col>bronc</th><th scope=col>either</th><th scope=col>xray</th><th scope=col>dysp</th></tr>\n",
       "\t<tr><th></th><th scope=col>&lt;fct&gt;</th><th scope=col>&lt;fct&gt;</th><th scope=col>&lt;fct&gt;</th><th scope=col>&lt;fct&gt;</th><th scope=col>&lt;fct&gt;</th><th scope=col>&lt;fct&gt;</th><th scope=col>&lt;fct&gt;</th><th scope=col>&lt;fct&gt;</th></tr>\n",
       "</thead>\n",
       "<tbody>\n",
       "\t<tr><th scope=row>1</th><td>1</td><td>1</td><td>1</td><td>1</td><td>1</td><td>1</td><td>1</td><td>2</td></tr>\n",
       "\t<tr><th scope=row>2</th><td>1</td><td>1</td><td>2</td><td>1</td><td>1</td><td>1</td><td>1</td><td>1</td></tr>\n",
       "\t<tr><th scope=row>3</th><td>1</td><td>1</td><td>1</td><td>1</td><td>1</td><td>1</td><td>1</td><td>1</td></tr>\n",
       "\t<tr><th scope=row>4</th><td>1</td><td>1</td><td>2</td><td>1</td><td>1</td><td>1</td><td>1</td><td>1</td></tr>\n",
       "\t<tr><th scope=row>5</th><td>1</td><td>1</td><td>2</td><td>1</td><td>2</td><td>1</td><td>1</td><td>2</td></tr>\n",
       "\t<tr><th scope=row>6</th><td>1</td><td>1</td><td>2</td><td>1</td><td>1</td><td>1</td><td>1</td><td>1</td></tr>\n",
       "</tbody>\n",
       "</table>\n"
      ],
      "text/latex": [
       "A data.frame: 6 × 8\n",
       "\\begin{tabular}{r|llllllll}\n",
       "  & asia & tub & smoke & lung & bronc & either & xray & dysp\\\\\n",
       "  & <fct> & <fct> & <fct> & <fct> & <fct> & <fct> & <fct> & <fct>\\\\\n",
       "\\hline\n",
       "\t1 & 1 & 1 & 1 & 1 & 1 & 1 & 1 & 2\\\\\n",
       "\t2 & 1 & 1 & 2 & 1 & 1 & 1 & 1 & 1\\\\\n",
       "\t3 & 1 & 1 & 1 & 1 & 1 & 1 & 1 & 1\\\\\n",
       "\t4 & 1 & 1 & 2 & 1 & 1 & 1 & 1 & 1\\\\\n",
       "\t5 & 1 & 1 & 2 & 1 & 2 & 1 & 1 & 2\\\\\n",
       "\t6 & 1 & 1 & 2 & 1 & 1 & 1 & 1 & 1\\\\\n",
       "\\end{tabular}\n"
      ],
      "text/markdown": [
       "\n",
       "A data.frame: 6 × 8\n",
       "\n",
       "| <!--/--> | asia &lt;fct&gt; | tub &lt;fct&gt; | smoke &lt;fct&gt; | lung &lt;fct&gt; | bronc &lt;fct&gt; | either &lt;fct&gt; | xray &lt;fct&gt; | dysp &lt;fct&gt; |\n",
       "|---|---|---|---|---|---|---|---|---|\n",
       "| 1 | 1 | 1 | 1 | 1 | 1 | 1 | 1 | 2 |\n",
       "| 2 | 1 | 1 | 2 | 1 | 1 | 1 | 1 | 1 |\n",
       "| 3 | 1 | 1 | 1 | 1 | 1 | 1 | 1 | 1 |\n",
       "| 4 | 1 | 1 | 2 | 1 | 1 | 1 | 1 | 1 |\n",
       "| 5 | 1 | 1 | 2 | 1 | 2 | 1 | 1 | 2 |\n",
       "| 6 | 1 | 1 | 2 | 1 | 1 | 1 | 1 | 1 |\n",
       "\n"
      ],
      "text/plain": [
       "  asia tub smoke lung bronc either xray dysp\n",
       "1 1    1   1     1    1     1      1    2   \n",
       "2 1    1   2     1    1     1      1    1   \n",
       "3 1    1   1     1    1     1      1    1   \n",
       "4 1    1   2     1    1     1      1    1   \n",
       "5 1    1   2     1    2     1      1    2   \n",
       "6 1    1   2     1    1     1      1    1   "
      ]
     },
     "metadata": {},
     "output_type": "display_data"
    }
   ],
   "source": [
    "DF = data.frame(asia.modified, stringsAsFactors = TRUE)\n",
    "\n",
    "colnames(DF) <- names(asia)\n",
    "head(DF)"
   ]
  },
  {
   "cell_type": "code",
   "execution_count": 6,
   "metadata": {
    "vscode": {
     "languageId": "r"
    }
   },
   "outputs": [],
   "source": [
    "today = 03072023 # default seed = 12345"
   ]
  },
  {
   "cell_type": "code",
   "execution_count": 7,
   "metadata": {
    "scrolled": false,
    "vscode": {
     "languageId": "r"
    }
   },
   "outputs": [
    {
     "name": "stdout",
     "output_type": "stream",
     "text": [
      "order = asia tub smoke lung bronc either xray dysp \n",
      "Running iteration # 1 u = 1 \n",
      "The Network score is -23080.29 \n",
      "  Running iteration # 1 u = 2 \n",
      "The Network score is -22268.26 \n",
      "  Running iteration # 1 u = 3 \n",
      "The Network score is -22268.26 \n",
      "  Running iteration # 1 u = 4 \n",
      "The Network score is -22268.26 \n",
      "  Running iteration # 1 u = 5 \n",
      "The Network score is -22268.26 \n",
      "  order = smoke dysp bronc lung xray either tub asia \n",
      "Running iteration # 2 u = 1 \n",
      "The Network score is -23225.34 \n",
      "  Running iteration # 2 u = 2 \n",
      "The Network score is -22458.34 \n",
      "  Running iteration # 2 u = 3 \n",
      "The Network score is -22350.25 \n",
      "  Running iteration # 2 u = 4 \n",
      "The Network score is -22350.25 \n",
      "  Running iteration # 2 u = 5 \n",
      "The Network score is -22350.25 \n",
      "  order = either asia tub bronc smoke dysp lung xray \n",
      "Running iteration # 3 u = 1 \n",
      "The Network score is -22991.46 \n",
      "  Running iteration # 3 u = 2 \n",
      "The Network score is -22322.79 \n",
      "  Running iteration # 3 u = 3 \n",
      "The Network score is -22303.28 \n",
      "  Running iteration # 3 u = 4 \n",
      "The Network score is -22303.28 \n",
      "  Running iteration # 3 u = 5 \n",
      "The Network score is -22303.28 \n",
      "  order = bronc lung dysp either asia tub smoke xray \n",
      "Running iteration # 4 u = 1 \n",
      "The Network score is -22991.18 \n",
      "  Running iteration # 4 u = 2 \n",
      "The Network score is -22310.75 \n",
      "  Running iteration # 4 u = 3 \n",
      "The Network score is -22308.58 \n",
      "  Running iteration # 4 u = 4 \n",
      "The Network score is -22308.58 \n",
      "  Running iteration # 4 u = 5 \n",
      "The Network score is -22308.58 \n",
      "  order = bronc dysp smoke asia lung tub either xray \n",
      "Running iteration # 5 u = 1 \n",
      "The Network score is -23060.4 \n",
      "  Running iteration # 5 u = 2 \n",
      "The Network score is -22417.77 \n",
      "  Running iteration # 5 u = 3 \n",
      "The Network score is -22313.47 \n",
      "  Running iteration # 5 u = 4 \n",
      "The Network score is -22313.47 \n",
      "  Running iteration # 5 u = 5 \n",
      "The Network score is -22313.47 \n",
      "   DONE \n",
      "\n",
      "Total execution time: 1.448891 mins\n"
     ]
    }
   ],
   "source": [
    "struct = K2(n = ncol(DF), u = 5, D = DF, seed=today, num.iterations=5)"
   ]
  },
  {
   "attachments": {},
   "cell_type": "markdown",
   "metadata": {},
   "source": [
    "| $num.iteration$ |                                    order                                   |    $best-u$   | $best-score_{K2}$ |\n",
    "|:---------------:|:--------------------------------------------------------------------------:|:-------------:|:-----------------:|\n",
    "|        1        | Asia Tubercolosys Smoke <br>LungCancer Bronchitis Either <br>X-ray Dyspnea | 2,3,4,5 |     -22268.26     |\n",
    "|        2        | Smoke Dyspnea Bronchitis <br>LungCancer X-ray Either <br>Tubercolosys Asia |  3,4,5  |     -22350.25     |\n",
    "|        2        | Either Asia Tubercolosys <br>Bronchitis Smoke Dyspnea <br>LungCancer X-ray |  3,4,5  |     -22303.28     |\n",
    "|        3        | Bronchitis LungCancer Dyspnea <br>Either Asia Tubercolosys <br>Smoke X-ray |  3,4,5  |     -22308.58     |\n",
    "|        4        |  Bronchitis Dyspnea Smoke<br>Asia LungCancer Tubercolosys <br>Either X-ray |  3,4,5  |     -22313.47     |\n",
    "|        5        |  Tubercolosys Bronchitis LungCancer<br>Either Asia Smoke<br>X-ray Dyspnea  | 2,3,4,5 |     -22277.34     |\n",
    "|        6        |  Tubercolosys Smoke LungCancer<br>Asia X-ray Either<br>Bronchitis Dyspnea  | 2,3,4,5 |     -22277.35     |\n",
    "|        7        |  Dyspnea LungCancer Bronchitis<br>Either Tubercolosys X-ray <br>Asia Smoke |  3,4,5  |     -22308.58     |\n",
    "|        8        |  Bronchitis X-ray Smoke<br>LungCancer Dyspnea Tubercolosys <br>Either Asia |  3,4,5  |     -22341.09     |\n",
    "|        9        | X-ray Dyspnea Smoke <br>Asia Bronchitis LungCancer <br>Tubercolosys Either |    3    |      22400.09     |\n",
    "|        10       | Bronchitis LungCancer Dyspnea <br>Tubercolosys Smoke Asia <br>Either X-ray | 2,3,4,5 |     -22295.71     |\n",
    "|     $\\vdots$    |                                  $\\vdots$                                  |    $\\vdots$   |      $\\vdots$     |\n",
    "|        50       | Tubercolosys Either Smoke <br>X-ray Dyspnea Asia <br>LungCancer Bronchitis |  3,4,5  |     -22310.81     |"
   ]
  },
  {
   "cell_type": "code",
   "execution_count": 8,
   "metadata": {
    "vscode": {
     "languageId": "r"
    }
   },
   "outputs": [
    {
     "data": {
      "text/html": [
       "<dl>\n",
       "\t<dt>$dag</dt>\n",
       "\t\t<dd><ol>\n",
       "\t<li>&lt;NA&gt;</li>\n",
       "\t<li>&lt;NA&gt;</li>\n",
       "\t<li>&lt;NA&gt;</li>\n",
       "\t<li>3</li>\n",
       "\t<li>3</li>\n",
       "\t<li><style>\n",
       ".list-inline {list-style: none; margin:0; padding: 0}\n",
       ".list-inline>li {display: inline-block}\n",
       ".list-inline>li:not(:last-child)::after {content: \"\\00b7\"; padding: 0 .5ex}\n",
       "</style>\n",
       "<ol class=list-inline><li>4</li><li>2</li></ol>\n",
       "</li>\n",
       "\t<li>6</li>\n",
       "\t<li><style>\n",
       ".list-inline {list-style: none; margin:0; padding: 0}\n",
       ".list-inline>li {display: inline-block}\n",
       ".list-inline>li:not(:last-child)::after {content: \"\\00b7\"; padding: 0 .5ex}\n",
       "</style>\n",
       "<ol class=list-inline><li>5</li><li>6</li></ol>\n",
       "</li>\n",
       "</ol>\n",
       "</dd>\n",
       "\t<dt>$score</dt>\n",
       "\t\t<dd>-22268.261978279</dd>\n",
       "\t<dt>$order</dt>\n",
       "\t\t<dd><style>\n",
       ".list-inline {list-style: none; margin:0; padding: 0}\n",
       ".list-inline>li {display: inline-block}\n",
       ".list-inline>li:not(:last-child)::after {content: \"\\00b7\"; padding: 0 .5ex}\n",
       "</style>\n",
       "<ol class=list-inline><li>'asia'</li><li>'tub'</li><li>'smoke'</li><li>'lung'</li><li>'bronc'</li><li>'either'</li><li>'xray'</li><li>'dysp'</li></ol>\n",
       "</dd>\n",
       "\t<dt>$u</dt>\n",
       "\t\t<dd>2</dd>\n",
       "</dl>\n"
      ],
      "text/latex": [
       "\\begin{description}\n",
       "\\item[\\$dag] \\begin{enumerate}\n",
       "\\item <NA>\n",
       "\\item <NA>\n",
       "\\item <NA>\n",
       "\\item 3\n",
       "\\item 3\n",
       "\\item \\begin{enumerate*}\n",
       "\\item 4\n",
       "\\item 2\n",
       "\\end{enumerate*}\n",
       "\n",
       "\\item 6\n",
       "\\item \\begin{enumerate*}\n",
       "\\item 5\n",
       "\\item 6\n",
       "\\end{enumerate*}\n",
       "\n",
       "\\end{enumerate}\n",
       "\n",
       "\\item[\\$score] -22268.261978279\n",
       "\\item[\\$order] \\begin{enumerate*}\n",
       "\\item 'asia'\n",
       "\\item 'tub'\n",
       "\\item 'smoke'\n",
       "\\item 'lung'\n",
       "\\item 'bronc'\n",
       "\\item 'either'\n",
       "\\item 'xray'\n",
       "\\item 'dysp'\n",
       "\\end{enumerate*}\n",
       "\n",
       "\\item[\\$u] 2\n",
       "\\end{description}\n"
      ],
      "text/markdown": [
       "$dag\n",
       ":   1. &lt;NA&gt;\n",
       "2. &lt;NA&gt;\n",
       "3. &lt;NA&gt;\n",
       "4. 3\n",
       "5. 3\n",
       "6. 1. 4\n",
       "2. 2\n",
       "\n",
       "\n",
       "\n",
       "7. 6\n",
       "8. 1. 5\n",
       "2. 6\n",
       "\n",
       "\n",
       "\n",
       "\n",
       "\n",
       "\n",
       "$score\n",
       ":   -22268.261978279\n",
       "$order\n",
       ":   1. 'asia'\n",
       "2. 'tub'\n",
       "3. 'smoke'\n",
       "4. 'lung'\n",
       "5. 'bronc'\n",
       "6. 'either'\n",
       "7. 'xray'\n",
       "8. 'dysp'\n",
       "\n",
       "\n",
       "\n",
       "$u\n",
       ":   2\n",
       "\n",
       "\n"
      ],
      "text/plain": [
       "$dag\n",
       "$dag[[1]]\n",
       "[1] NA\n",
       "\n",
       "$dag[[2]]\n",
       "[1] NA\n",
       "\n",
       "$dag[[3]]\n",
       "[1] NA\n",
       "\n",
       "$dag[[4]]\n",
       "[1] 3\n",
       "\n",
       "$dag[[5]]\n",
       "[1] 3\n",
       "\n",
       "$dag[[6]]\n",
       "[1] 4 2\n",
       "\n",
       "$dag[[7]]\n",
       "[1] 6\n",
       "\n",
       "$dag[[8]]\n",
       "[1] 5 6\n",
       "\n",
       "\n",
       "$score\n",
       "[1] -22268.26\n",
       "\n",
       "$order\n",
       "[1] \"asia\"   \"tub\"    \"smoke\"  \"lung\"   \"bronc\"  \"either\" \"xray\"   \"dysp\"  \n",
       "\n",
       "$u\n",
       "[1] 2\n"
      ]
     },
     "metadata": {},
     "output_type": "display_data"
    }
   ],
   "source": [
    "struct"
   ]
  },
  {
   "cell_type": "code",
   "execution_count": 9,
   "metadata": {
    "vscode": {
     "languageId": "r"
    }
   },
   "outputs": [
    {
     "data": {
      "image/png": "[encoded data removed]",
      "text/plain": [
       "plot without title"
      ]
     },
     "metadata": {
      "image/png": {
       "height": 420,
       "width": 420
      }
     },
     "output_type": "display_data"
    }
   ],
   "source": [
    "dag = get_dag(names(DF), struct$dag)\n",
    "graphviz.plot(dag)"
   ]
  },
  {
   "cell_type": "code",
   "execution_count": null,
   "metadata": {
    "vscode": {
     "languageId": "r"
    }
   },
   "outputs": [],
   "source": []
  },
  {
   "attachments": {},
   "cell_type": "markdown",
   "metadata": {},
   "source": [
    "## `bnlearn` comparison"
   ]
  },
  {
   "cell_type": "code",
   "execution_count": 10,
   "metadata": {
    "vscode": {
     "languageId": "r"
    }
   },
   "outputs": [
    {
     "data": {
      "text/plain": [
       "\n",
       "  Bayesian network parameters\n",
       "\n",
       "  Parameters of node asia (multinomial distribution)\n",
       "\n",
       "Conditional probability table:\n",
       "          1          2 \n",
       "0.99030969 0.00969031 \n",
       "\n",
       "  Parameters of node bronc (multinomial distribution)\n",
       "\n",
       "Conditional probability table:\n",
       " \n",
       "     smoke\n",
       "bronc         1         2\n",
       "    1 0.7019402 0.4023997\n",
       "    2 0.2980598 0.5976003\n",
       "\n",
       "  Parameters of node dysp (multinomial distribution)\n",
       "\n",
       "Conditional probability table:\n",
       " \n",
       ", , either = 1\n",
       "\n",
       "    bronc\n",
       "dysp          1          2\n",
       "   1 0.90456925 0.18717389\n",
       "   2 0.09543075 0.81282611\n",
       "\n",
       ", , either = 2\n",
       "\n",
       "    bronc\n",
       "dysp          1          2\n",
       "   1 0.29202773 0.09827834\n",
       "   2 0.70797227 0.90172166\n",
       "\n",
       "\n",
       "  Parameters of node either (multinomial distribution)\n",
       "\n",
       "Conditional probability table:\n",
       " \n",
       ", , tub = 1\n",
       "\n",
       "      lung\n",
       "either            1            2\n",
       "     1 0.9998666026 0.0023474178\n",
       "     2 0.0001333974 0.9976525822\n",
       "\n",
       ", , tub = 2\n",
       "\n",
       "      lung\n",
       "either            1            2\n",
       "     1 0.0126903553 0.1470588235\n",
       "     2 0.9873096447 0.8529411765\n",
       "\n",
       "\n",
       "  Parameters of node lung (multinomial distribution)\n",
       "\n",
       "Conditional probability table:\n",
       " \n",
       "    smoke\n",
       "lung          1          2\n",
       "   1 0.98881410 0.90229885\n",
       "   2 0.01118590 0.09770115\n",
       "\n",
       "  Parameters of node smoke (multinomial distribution)\n",
       "\n",
       "Conditional probability table:\n",
       "         1         2 \n",
       "0.5045954 0.4954046 \n",
       "\n",
       "  Parameters of node tub (multinomial distribution)\n",
       "\n",
       "Conditional probability table:\n",
       "          1          2 \n",
       "0.98931069 0.01068931 \n",
       "\n",
       "  Parameters of node xray (multinomial distribution)\n",
       "\n",
       "Conditional probability table:\n",
       " \n",
       "    either\n",
       "xray          1          2\n",
       "   1 0.94830897 0.02276295\n",
       "   2 0.05169103 0.97723705\n"
      ]
     },
     "metadata": {},
     "output_type": "display_data"
    }
   ],
   "source": [
    "bn_bayes = bn.fit(dag, data = DF, method = 'bayes', iss = 10)\n",
    "bn_bayes"
   ]
  },
  {
   "cell_type": "code",
   "execution_count": 11,
   "metadata": {
    "vscode": {
     "languageId": "r"
    }
   },
   "outputs": [
    {
     "data": {
      "text/plain": [
       "\n",
       "\tMutual Information (disc.)\n",
       "\n",
       "data:  asia ~ tub | xray\n",
       "mi = 5.5746, df = 2, p-value = 0.06159\n",
       "alternative hypothesis: true value is greater than 0\n"
      ]
     },
     "metadata": {},
     "output_type": "display_data"
    }
   ],
   "source": [
    "# recall that when we make this test H_0 = (x, y) are independent\n",
    "ci.test(x = 'asia', y = 'tub', z = 'xray', data = DF, test = 'mi')\n",
    "\n",
    "# this shows that since the p-value is low, by \n",
    "# taking a 5% significance level we can reject the null \n",
    "# hyp and say that x3 and x2 depend on each other"
   ]
  },
  {
   "cell_type": "code",
   "execution_count": 12,
   "metadata": {
    "vscode": {
     "languageId": "r"
    }
   },
   "outputs": [
    {
     "data": {
      "text/plain": [
       "\n",
       "\tMutual Information (disc.)\n",
       "\n",
       "data:  dysp ~ asia | smoke\n",
       "mi = 1.881, df = 2, p-value = 0.3904\n",
       "alternative hypothesis: true value is greater than 0\n"
      ]
     },
     "metadata": {},
     "output_type": "display_data"
    }
   ],
   "source": [
    "# this may say something about the structure we got through K2\n",
    "ci.test(x = 'dysp', y = 'asia', z = 'smoke', data = DF, test = 'mi')"
   ]
  },
  {
   "cell_type": "code",
   "execution_count": 13,
   "metadata": {
    "vscode": {
     "languageId": "r"
    }
   },
   "outputs": [
    {
     "data": {
      "text/html": [
       "-22268.261978279"
      ],
      "text/latex": [
       "-22268.261978279"
      ],
      "text/markdown": [
       "-22268.261978279"
      ],
      "text/plain": [
       "[1] -22268.26"
      ]
     },
     "metadata": {},
     "output_type": "display_data"
    },
    {
     "data": {
      "text/html": [
       "-22255.5903041761"
      ],
      "text/latex": [
       "-22255.5903041761"
      ],
      "text/markdown": [
       "-22255.5903041761"
      ],
      "text/plain": [
       "[1] -22255.59"
      ]
     },
     "metadata": {},
     "output_type": "display_data"
    }
   ],
   "source": [
    "# evaluate the score of our network\n",
    "score(dag, data = DF, type = 'bic')\n",
    "score(dag, data = DF, type = 'bde')"
   ]
  },
  {
   "cell_type": "code",
   "execution_count": 14,
   "metadata": {
    "vscode": {
     "languageId": "r"
    }
   },
   "outputs": [
    {
     "data": {
      "text/html": [
       "<table class=\"dataframe\">\n",
       "<caption>A bn.strength: 7 × 3</caption>\n",
       "<thead>\n",
       "\t<tr><th></th><th scope=col>from</th><th scope=col>to</th><th scope=col>strength</th></tr>\n",
       "\t<tr><th></th><th scope=col>&lt;chr&gt;</th><th scope=col>&lt;chr&gt;</th><th scope=col>&lt;dbl&gt;</th></tr>\n",
       "</thead>\n",
       "<tbody>\n",
       "\t<tr><th scope=row>1</th><td>smoke </td><td>lung  </td><td> 2.383690e-82</td></tr>\n",
       "\t<tr><th scope=row>2</th><td>smoke </td><td>bronc </td><td>8.836046e-200</td></tr>\n",
       "\t<tr><th scope=row>3</th><td>lung  </td><td>either</td><td> 0.000000e+00</td></tr>\n",
       "\t<tr><th scope=row>4</th><td>tub   </td><td>either</td><td> 0.000000e+00</td></tr>\n",
       "\t<tr><th scope=row>5</th><td>either</td><td>xray  </td><td> 0.000000e+00</td></tr>\n",
       "\t<tr><th scope=row>6</th><td>bronc </td><td>dysp  </td><td> 0.000000e+00</td></tr>\n",
       "\t<tr><th scope=row>7</th><td>either</td><td>dysp  </td><td>2.604111e-205</td></tr>\n",
       "</tbody>\n",
       "</table>\n"
      ],
      "text/latex": [
       "A bn.strength: 7 × 3\n",
       "\\begin{tabular}{r|lll}\n",
       "  & from & to & strength\\\\\n",
       "  & <chr> & <chr> & <dbl>\\\\\n",
       "\\hline\n",
       "\t1 & smoke  & lung   &  2.383690e-82\\\\\n",
       "\t2 & smoke  & bronc  & 8.836046e-200\\\\\n",
       "\t3 & lung   & either &  0.000000e+00\\\\\n",
       "\t4 & tub    & either &  0.000000e+00\\\\\n",
       "\t5 & either & xray   &  0.000000e+00\\\\\n",
       "\t6 & bronc  & dysp   &  0.000000e+00\\\\\n",
       "\t7 & either & dysp   & 2.604111e-205\\\\\n",
       "\\end{tabular}\n"
      ],
      "text/markdown": [
       "\n",
       "A bn.strength: 7 × 3\n",
       "\n",
       "| <!--/--> | from &lt;chr&gt; | to &lt;chr&gt; | strength &lt;dbl&gt; |\n",
       "|---|---|---|---|\n",
       "| 1 | smoke  | lung   |  2.383690e-82 |\n",
       "| 2 | smoke  | bronc  | 8.836046e-200 |\n",
       "| 3 | lung   | either |  0.000000e+00 |\n",
       "| 4 | tub    | either |  0.000000e+00 |\n",
       "| 5 | either | xray   |  0.000000e+00 |\n",
       "| 6 | bronc  | dysp   |  0.000000e+00 |\n",
       "| 7 | either | dysp   | 2.604111e-205 |\n",
       "\n"
      ],
      "text/plain": [
       "  from   to     strength     \n",
       "1 smoke  lung    2.383690e-82\n",
       "2 smoke  bronc  8.836046e-200\n",
       "3 lung   either  0.000000e+00\n",
       "4 tub    either  0.000000e+00\n",
       "5 either xray    0.000000e+00\n",
       "6 bronc  dysp    0.000000e+00\n",
       "7 either dysp   2.604111e-205"
      ]
     },
     "metadata": {},
     "output_type": "display_data"
    }
   ],
   "source": [
    "arc.strength(dag, data=DF, criterion=\"x2\")"
   ]
  },
  {
   "cell_type": "code",
   "execution_count": 15,
   "metadata": {
    "vscode": {
     "languageId": "r"
    }
   },
   "outputs": [],
   "source": [
    "# what if we add an arc from asia to tub? Is it better?\n",
    "dag <- set.arc(dag, from = \"asia\", to = \"tub\")"
   ]
  },
  {
   "cell_type": "code",
   "execution_count": 16,
   "metadata": {
    "vscode": {
     "languageId": "r"
    }
   },
   "outputs": [
    {
     "data": {
      "text/html": [
       "<table class=\"dataframe\">\n",
       "<caption>A bn.strength: 8 × 3</caption>\n",
       "<thead>\n",
       "\t<tr><th></th><th scope=col>from</th><th scope=col>to</th><th scope=col>strength</th></tr>\n",
       "\t<tr><th></th><th scope=col>&lt;chr&gt;</th><th scope=col>&lt;chr&gt;</th><th scope=col>&lt;dbl&gt;</th></tr>\n",
       "</thead>\n",
       "<tbody>\n",
       "\t<tr><th scope=row>1</th><td>smoke </td><td>lung  </td><td> 2.383690e-82</td></tr>\n",
       "\t<tr><th scope=row>2</th><td>smoke </td><td>bronc </td><td>8.836046e-200</td></tr>\n",
       "\t<tr><th scope=row>3</th><td>lung  </td><td>either</td><td> 0.000000e+00</td></tr>\n",
       "\t<tr><th scope=row>4</th><td>tub   </td><td>either</td><td> 0.000000e+00</td></tr>\n",
       "\t<tr><th scope=row>5</th><td>either</td><td>xray  </td><td> 0.000000e+00</td></tr>\n",
       "\t<tr><th scope=row>6</th><td>bronc </td><td>dysp  </td><td> 0.000000e+00</td></tr>\n",
       "\t<tr><th scope=row>7</th><td>either</td><td>dysp  </td><td>2.604111e-205</td></tr>\n",
       "\t<tr><th scope=row>8</th><td>asia  </td><td>tub   </td><td> 1.415618e-03</td></tr>\n",
       "</tbody>\n",
       "</table>\n"
      ],
      "text/latex": [
       "A bn.strength: 8 × 3\n",
       "\\begin{tabular}{r|lll}\n",
       "  & from & to & strength\\\\\n",
       "  & <chr> & <chr> & <dbl>\\\\\n",
       "\\hline\n",
       "\t1 & smoke  & lung   &  2.383690e-82\\\\\n",
       "\t2 & smoke  & bronc  & 8.836046e-200\\\\\n",
       "\t3 & lung   & either &  0.000000e+00\\\\\n",
       "\t4 & tub    & either &  0.000000e+00\\\\\n",
       "\t5 & either & xray   &  0.000000e+00\\\\\n",
       "\t6 & bronc  & dysp   &  0.000000e+00\\\\\n",
       "\t7 & either & dysp   & 2.604111e-205\\\\\n",
       "\t8 & asia   & tub    &  1.415618e-03\\\\\n",
       "\\end{tabular}\n"
      ],
      "text/markdown": [
       "\n",
       "A bn.strength: 8 × 3\n",
       "\n",
       "| <!--/--> | from &lt;chr&gt; | to &lt;chr&gt; | strength &lt;dbl&gt; |\n",
       "|---|---|---|---|\n",
       "| 1 | smoke  | lung   |  2.383690e-82 |\n",
       "| 2 | smoke  | bronc  | 8.836046e-200 |\n",
       "| 3 | lung   | either |  0.000000e+00 |\n",
       "| 4 | tub    | either |  0.000000e+00 |\n",
       "| 5 | either | xray   |  0.000000e+00 |\n",
       "| 6 | bronc  | dysp   |  0.000000e+00 |\n",
       "| 7 | either | dysp   | 2.604111e-205 |\n",
       "| 8 | asia   | tub    |  1.415618e-03 |\n",
       "\n"
      ],
      "text/plain": [
       "  from   to     strength     \n",
       "1 smoke  lung    2.383690e-82\n",
       "2 smoke  bronc  8.836046e-200\n",
       "3 lung   either  0.000000e+00\n",
       "4 tub    either  0.000000e+00\n",
       "5 either xray    0.000000e+00\n",
       "6 bronc  dysp    0.000000e+00\n",
       "7 either dysp   2.604111e-205\n",
       "8 asia   tub     1.415618e-03"
      ]
     },
     "metadata": {},
     "output_type": "display_data"
    }
   ],
   "source": [
    "arc.strength(dag, data=DF, criterion=\"x2\")"
   ]
  },
  {
   "cell_type": "code",
   "execution_count": 17,
   "metadata": {
    "vscode": {
     "languageId": "r"
    }
   },
   "outputs": [
    {
     "data": {
      "text/html": [
       "-22270.0298730431"
      ],
      "text/latex": [
       "-22270.0298730431"
      ],
      "text/markdown": [
       "-22270.0298730431"
      ],
      "text/plain": [
       "[1] -22270.03"
      ]
     },
     "metadata": {},
     "output_type": "display_data"
    }
   ],
   "source": [
    "score(dag, data = DF, type = 'bic')"
   ]
  },
  {
   "cell_type": "code",
   "execution_count": 18,
   "metadata": {
    "vscode": {
     "languageId": "r"
    }
   },
   "outputs": [
    {
     "data": {
      "image/png": "[encoded data removed]",
      "text/plain": [
       "plot without title"
      ]
     },
     "metadata": {
      "image/png": {
       "height": 420,
       "width": 420
      }
     },
     "output_type": "display_data"
    }
   ],
   "source": [
    "graphviz.plot(dag)"
   ]
  },
  {
   "cell_type": "code",
   "execution_count": null,
   "metadata": {
    "vscode": {
     "languageId": "r"
    }
   },
   "outputs": [],
   "source": []
  },
  {
   "cell_type": "code",
   "execution_count": 19,
   "metadata": {
    "vscode": {
     "languageId": "r"
    }
   },
   "outputs": [
    {
     "name": "stderr",
     "output_type": "stream",
     "text": [
      "Caricamento dei namespace richiesti: lattice\n",
      "\n"
     ]
    },
    {
     "data": {
      "image/png": "[encoded data removed]",
      "text/plain": [
       "plot without title"
      ]
     },
     "metadata": {
      "image/png": {
       "height": 420,
       "width": 420
      }
     },
     "output_type": "display_data"
    }
   ],
   "source": [
    "bn.fit.barchart(bn_bayes$xray, \"Either\", xlab=\"P(xray|either)\", ylab=\"X-ray\")"
   ]
  },
  {
   "cell_type": "code",
   "execution_count": null,
   "metadata": {
    "vscode": {
     "languageId": "r"
    }
   },
   "outputs": [],
   "source": []
  },
  {
   "cell_type": "code",
   "execution_count": 20,
   "metadata": {
    "vscode": {
     "languageId": "r"
    }
   },
   "outputs": [
    {
     "data": {
      "image/png": "[encoded data removed]",
      "text/plain": [
       "plot without title"
      ]
     },
     "metadata": {
      "image/png": {
       "height": 420,
       "width": 420
      }
     },
     "output_type": "display_data"
    }
   ],
   "source": [
    "bn.fit.barchart(bn_bayes$bronc, \"Smoke\", xlab=\"P(bronc|smoke)\", ylab=\"Bronchitis\")"
   ]
  },
  {
   "cell_type": "code",
   "execution_count": 21,
   "metadata": {
    "vscode": {
     "languageId": "r"
    }
   },
   "outputs": [
    {
     "data": {
      "text/plain": [
       "\n",
       "  Parameters of node xray (multinomial distribution)\n",
       "\n",
       "Conditional probability table:\n",
       " \n",
       "    either\n",
       "xray          1          2\n",
       "   1 0.94830897 0.02276295\n",
       "   2 0.05169103 0.97723705"
      ]
     },
     "metadata": {},
     "output_type": "display_data"
    }
   ],
   "source": [
    "bn_bayes$xray"
   ]
  },
  {
   "cell_type": "code",
   "execution_count": null,
   "metadata": {
    "vscode": {
     "languageId": "r"
    }
   },
   "outputs": [],
   "source": []
  },
  {
   "cell_type": "code",
   "execution_count": 22,
   "metadata": {
    "vscode": {
     "languageId": "r"
    }
   },
   "outputs": [
    {
     "data": {
      "image/png": "[encoded data removed]",
      "text/plain": [
       "plot without title"
      ]
     },
     "metadata": {
      "image/png": {
       "height": 420,
       "width": 420
      }
     },
     "output_type": "display_data"
    }
   ],
   "source": [
    "bn.fit.barchart(bn_bayes$either, \"Either\", xlab=\"Probabilities\", ylab=\"\")"
   ]
  },
  {
   "cell_type": "code",
   "execution_count": 23,
   "metadata": {
    "vscode": {
     "languageId": "r"
    }
   },
   "outputs": [
    {
     "data": {
      "text/plain": [
       "\n",
       "  Parameters of node either (multinomial distribution)\n",
       "\n",
       "Conditional probability table:\n",
       " \n",
       ", , tub = 1\n",
       "\n",
       "      lung\n",
       "either            1            2\n",
       "     1 0.9998666026 0.0023474178\n",
       "     2 0.0001333974 0.9976525822\n",
       "\n",
       ", , tub = 2\n",
       "\n",
       "      lung\n",
       "either            1            2\n",
       "     1 0.0126903553 0.1470588235\n",
       "     2 0.9873096447 0.8529411765\n"
      ]
     },
     "metadata": {},
     "output_type": "display_data"
    }
   ],
   "source": [
    "bn_bayes$either"
   ]
  },
  {
   "cell_type": "code",
   "execution_count": null,
   "metadata": {
    "vscode": {
     "languageId": "r"
    }
   },
   "outputs": [],
   "source": []
  },
  {
   "cell_type": "code",
   "execution_count": 24,
   "metadata": {
    "vscode": {
     "languageId": "r"
    }
   },
   "outputs": [
    {
     "name": "stdout",
     "output_type": "stream",
     "text": [
      "* checking which nodes are needed.\n",
      "  > event involves the following nodes: asia \n",
      "  > evidence involves the following nodes: dysp smoke \n",
      "  > upper closure is ' asia dysp bronc either lung tub smoke '\n",
      "  > generating observations from 7 / 8 nodes.\n",
      "* generated 10000 samples from the bayesian network.\n",
      "  > evidence matches 2202 samples out of 10000 (p = 0.2202).\n",
      "  > event matches 18 samples out of 2202 (p = 0.008174387).\n",
      "num of evidence & event in the dataset: 18 \n",
      "num of evidence in the dataset: 2195 \n",
      "Conditional prob. based on the frequency: 0.008200456 \n"
     ]
    },
    {
     "data": {
      "image/png": "[encoded data removed]",
      "text/plain": [
       "Plot with title \"Conditional probability query\""
      ]
     },
     "metadata": {
      "image/png": {
       "height": 420,
       "width": 420
      }
     },
     "output_type": "display_data"
    }
   ],
   "source": [
    "cpq = function(event, evidence){\n",
    "    a = rep(0, 2000)\n",
    "    str1 = paste(\"cpquery(bn_bayes, \", event, \", \", evidence, \", debug=i == 1, n=10000)\")\n",
    "    prs1 = parse(text=str1)\n",
    "    for (i in 1:2000){\n",
    "        a[i] = eval(prs1)\n",
    "    }\n",
    "\n",
    "    hist(a, breaks='scott', xlab=paste(\"P(\", event, \"|\", evidence, \")\"), ylab=\"Counts\", \n",
    "    col=\"skyblue\", main=\"Conditional probability query\", cex.main = 1.5, cex.lab = 1.5)\n",
    "\n",
    "    num = eval(parse(text=paste(\"(filter(DF, (\", event,\" & \", evidence,\")) %>% count())$n\")))\n",
    "    den = eval(parse(text=paste(\"(filter(DF, (\", evidence,\")) %>% count())$n\")))\n",
    "    cat(\"num of evidence & event in the dataset:\", num, \"\\n\")\n",
    "    cat(\"num of evidence in the dataset:\", den, \"\\n\")\n",
    "    cat(\"Conditional prob. based on the frequency:\", num/den, \"\\n\")\n",
    "}\n",
    "\n",
    "event = \"(asia == 2)\"\n",
    "evidence = \"(smoke == 2) & (dysp == 1)\"\n",
    "\n",
    "cpq(event, evidence)"
   ]
  },
  {
   "cell_type": "code",
   "execution_count": null,
   "metadata": {
    "vscode": {
     "languageId": "r"
    }
   },
   "outputs": [],
   "source": []
  }
 ],
 "metadata": {
  "kernelspec": {
   "display_name": "R",
   "language": "R",
   "name": "ir"
  },
  "language_info": {
   "codemirror_mode": "r",
   "file_extension": ".r",
   "mimetype": "text/x-r-source",
   "name": "R",
   "pygments_lexer": "r",
   "version": "4.2.2"
  }
 },
 "nbformat": 4,
 "nbformat_minor": 2
}
