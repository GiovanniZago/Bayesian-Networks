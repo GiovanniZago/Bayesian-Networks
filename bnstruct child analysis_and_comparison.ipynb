{
 "cells": [
  {
   "cell_type": "code",
   "execution_count": 1,
   "metadata": {
    "vscode": {
     "languageId": "r"
    }
   },
   "outputs": [
    {
     "name": "stderr",
     "output_type": "stream",
     "text": [
      "Warning message:\n",
      "\"il pacchetto 'bnlearn' è stato creato con R versione 4.2.3\"\n",
      "Warning message:\n",
      "\"il pacchetto 'bnstruct' è stato creato con R versione 4.2.3\"\n",
      "Warning message:\n",
      "\"il pacchetto 'igraph' è stato creato con R versione 4.2.3\"\n"
     ]
    }
   ],
   "source": [
    "source('K2methods.r') |> suppressPackageStartupMessages()\n",
    "library(bnstruct)     |> suppressPackageStartupMessages()\n",
    "child <- read.csv('https://www.ccd.pitt.edu/wiki/images/CHILD10k.csv')"
   ]
  },
  {
   "cell_type": "code",
   "execution_count": 2,
   "metadata": {},
   "outputs": [],
   "source": [
    "# Map the string values to integers values\n",
    "column.mapping = function(column) {\n",
    "  unique.values <- unique(column)\n",
    "  mapped.table <- tibble(\n",
    "      string.value = unique.values, \n",
    "      numeric.value = seq_along(unique.values)\n",
    "  )\n",
    "  mapped.column <- mapped.table$numeric.value[match(column, mapped.table$string.value)]\n",
    "  return(mapped.column)\n",
    "}"
   ]
  },
  {
   "cell_type": "code",
   "execution_count": 3,
   "metadata": {},
   "outputs": [
    {
     "data": {
      "text/html": [
       "<table class=\"dataframe\">\n",
       "<caption>A data.frame: 6 × 20</caption>\n",
       "<thead>\n",
       "\t<tr><th></th><th scope=col>BirthAsphyxia</th><th scope=col>HypDistrib</th><th scope=col>HypoxiaInO2</th><th scope=col>CO2</th><th scope=col>ChestXray</th><th scope=col>Grunting</th><th scope=col>LVHreport</th><th scope=col>LowerBodyO2</th><th scope=col>RUQO2</th><th scope=col>CO2Report</th><th scope=col>XrayReport</th><th scope=col>Disease</th><th scope=col>GruntingReport</th><th scope=col>Age</th><th scope=col>LVH</th><th scope=col>DuctFlow</th><th scope=col>CardiacMixing</th><th scope=col>LungParench</th><th scope=col>LungFlow</th><th scope=col>Sick</th></tr>\n",
       "\t<tr><th></th><th scope=col>&lt;int&gt;</th><th scope=col>&lt;int&gt;</th><th scope=col>&lt;int&gt;</th><th scope=col>&lt;int&gt;</th><th scope=col>&lt;int&gt;</th><th scope=col>&lt;int&gt;</th><th scope=col>&lt;int&gt;</th><th scope=col>&lt;int&gt;</th><th scope=col>&lt;int&gt;</th><th scope=col>&lt;int&gt;</th><th scope=col>&lt;int&gt;</th><th scope=col>&lt;int&gt;</th><th scope=col>&lt;int&gt;</th><th scope=col>&lt;int&gt;</th><th scope=col>&lt;int&gt;</th><th scope=col>&lt;int&gt;</th><th scope=col>&lt;int&gt;</th><th scope=col>&lt;int&gt;</th><th scope=col>&lt;int&gt;</th><th scope=col>&lt;int&gt;</th></tr>\n",
       "</thead>\n",
       "<tbody>\n",
       "\t<tr><th scope=row>1</th><td>1</td><td>1</td><td>1</td><td>1</td><td>1</td><td>1</td><td>1</td><td>1</td><td>1</td><td>1</td><td>1</td><td>1</td><td>1</td><td>1</td><td>1</td><td>1</td><td>1</td><td>1</td><td>1</td><td>1</td></tr>\n",
       "\t<tr><th scope=row>2</th><td>1</td><td>1</td><td>2</td><td>1</td><td>2</td><td>2</td><td>1</td><td>2</td><td>2</td><td>2</td><td>2</td><td>2</td><td>1</td><td>1</td><td>1</td><td>2</td><td>2</td><td>2</td><td>1</td><td>1</td></tr>\n",
       "\t<tr><th scope=row>3</th><td>1</td><td>1</td><td>2</td><td>1</td><td>3</td><td>1</td><td>2</td><td>2</td><td>1</td><td>2</td><td>3</td><td>2</td><td>1</td><td>1</td><td>2</td><td>2</td><td>2</td><td>1</td><td>2</td><td>1</td></tr>\n",
       "\t<tr><th scope=row>4</th><td>1</td><td>1</td><td>1</td><td>1</td><td>2</td><td>2</td><td>1</td><td>1</td><td>1</td><td>1</td><td>2</td><td>3</td><td>2</td><td>1</td><td>1</td><td>2</td><td>3</td><td>2</td><td>3</td><td>1</td></tr>\n",
       "\t<tr><th scope=row>5</th><td>1</td><td>1</td><td>1</td><td>1</td><td>3</td><td>1</td><td>1</td><td>1</td><td>1</td><td>2</td><td>3</td><td>4</td><td>1</td><td>2</td><td>1</td><td>1</td><td>1</td><td>1</td><td>1</td><td>2</td></tr>\n",
       "\t<tr><th scope=row>6</th><td>1</td><td>1</td><td>1</td><td>1</td><td>1</td><td>1</td><td>1</td><td>1</td><td>2</td><td>2</td><td>4</td><td>4</td><td>2</td><td>2</td><td>1</td><td>1</td><td>3</td><td>1</td><td>1</td><td>2</td></tr>\n",
       "</tbody>\n",
       "</table>\n"
      ],
      "text/latex": [
       "A data.frame: 6 × 20\n",
       "\\begin{tabular}{r|llllllllllllllllllll}\n",
       "  & BirthAsphyxia & HypDistrib & HypoxiaInO2 & CO2 & ChestXray & Grunting & LVHreport & LowerBodyO2 & RUQO2 & CO2Report & XrayReport & Disease & GruntingReport & Age & LVH & DuctFlow & CardiacMixing & LungParench & LungFlow & Sick\\\\\n",
       "  & <int> & <int> & <int> & <int> & <int> & <int> & <int> & <int> & <int> & <int> & <int> & <int> & <int> & <int> & <int> & <int> & <int> & <int> & <int> & <int>\\\\\n",
       "\\hline\n",
       "\t1 & 1 & 1 & 1 & 1 & 1 & 1 & 1 & 1 & 1 & 1 & 1 & 1 & 1 & 1 & 1 & 1 & 1 & 1 & 1 & 1\\\\\n",
       "\t2 & 1 & 1 & 2 & 1 & 2 & 2 & 1 & 2 & 2 & 2 & 2 & 2 & 1 & 1 & 1 & 2 & 2 & 2 & 1 & 1\\\\\n",
       "\t3 & 1 & 1 & 2 & 1 & 3 & 1 & 2 & 2 & 1 & 2 & 3 & 2 & 1 & 1 & 2 & 2 & 2 & 1 & 2 & 1\\\\\n",
       "\t4 & 1 & 1 & 1 & 1 & 2 & 2 & 1 & 1 & 1 & 1 & 2 & 3 & 2 & 1 & 1 & 2 & 3 & 2 & 3 & 1\\\\\n",
       "\t5 & 1 & 1 & 1 & 1 & 3 & 1 & 1 & 1 & 1 & 2 & 3 & 4 & 1 & 2 & 1 & 1 & 1 & 1 & 1 & 2\\\\\n",
       "\t6 & 1 & 1 & 1 & 1 & 1 & 1 & 1 & 1 & 2 & 2 & 4 & 4 & 2 & 2 & 1 & 1 & 3 & 1 & 1 & 2\\\\\n",
       "\\end{tabular}\n"
      ],
      "text/markdown": [
       "\n",
       "A data.frame: 6 × 20\n",
       "\n",
       "| <!--/--> | BirthAsphyxia &lt;int&gt; | HypDistrib &lt;int&gt; | HypoxiaInO2 &lt;int&gt; | CO2 &lt;int&gt; | ChestXray &lt;int&gt; | Grunting &lt;int&gt; | LVHreport &lt;int&gt; | LowerBodyO2 &lt;int&gt; | RUQO2 &lt;int&gt; | CO2Report &lt;int&gt; | XrayReport &lt;int&gt; | Disease &lt;int&gt; | GruntingReport &lt;int&gt; | Age &lt;int&gt; | LVH &lt;int&gt; | DuctFlow &lt;int&gt; | CardiacMixing &lt;int&gt; | LungParench &lt;int&gt; | LungFlow &lt;int&gt; | Sick &lt;int&gt; |\n",
       "|---|---|---|---|---|---|---|---|---|---|---|---|---|---|---|---|---|---|---|---|---|\n",
       "| 1 | 1 | 1 | 1 | 1 | 1 | 1 | 1 | 1 | 1 | 1 | 1 | 1 | 1 | 1 | 1 | 1 | 1 | 1 | 1 | 1 |\n",
       "| 2 | 1 | 1 | 2 | 1 | 2 | 2 | 1 | 2 | 2 | 2 | 2 | 2 | 1 | 1 | 1 | 2 | 2 | 2 | 1 | 1 |\n",
       "| 3 | 1 | 1 | 2 | 1 | 3 | 1 | 2 | 2 | 1 | 2 | 3 | 2 | 1 | 1 | 2 | 2 | 2 | 1 | 2 | 1 |\n",
       "| 4 | 1 | 1 | 1 | 1 | 2 | 2 | 1 | 1 | 1 | 1 | 2 | 3 | 2 | 1 | 1 | 2 | 3 | 2 | 3 | 1 |\n",
       "| 5 | 1 | 1 | 1 | 1 | 3 | 1 | 1 | 1 | 1 | 2 | 3 | 4 | 1 | 2 | 1 | 1 | 1 | 1 | 1 | 2 |\n",
       "| 6 | 1 | 1 | 1 | 1 | 1 | 1 | 1 | 1 | 2 | 2 | 4 | 4 | 2 | 2 | 1 | 1 | 3 | 1 | 1 | 2 |\n",
       "\n"
      ],
      "text/plain": [
       "  BirthAsphyxia HypDistrib HypoxiaInO2 CO2 ChestXray Grunting LVHreport\n",
       "1 1             1          1           1   1         1        1        \n",
       "2 1             1          2           1   2         2        1        \n",
       "3 1             1          2           1   3         1        2        \n",
       "4 1             1          1           1   2         2        1        \n",
       "5 1             1          1           1   3         1        1        \n",
       "6 1             1          1           1   1         1        1        \n",
       "  LowerBodyO2 RUQO2 CO2Report XrayReport Disease GruntingReport Age LVH\n",
       "1 1           1     1         1          1       1              1   1  \n",
       "2 2           2     2         2          2       1              1   1  \n",
       "3 2           1     2         3          2       1              1   2  \n",
       "4 1           1     1         2          3       2              1   1  \n",
       "5 1           1     2         3          4       1              2   1  \n",
       "6 1           2     2         4          4       2              2   1  \n",
       "  DuctFlow CardiacMixing LungParench LungFlow Sick\n",
       "1 1        1             1           1        1   \n",
       "2 2        2             2           1        1   \n",
       "3 2        2             1           2        1   \n",
       "4 2        3             2           3        1   \n",
       "5 1        1             1           1        2   \n",
       "6 1        3             1           1        2   "
      ]
     },
     "metadata": {},
     "output_type": "display_data"
    }
   ],
   "source": [
    "# convert the dataset into a series of integers\n",
    "child.modified = child\n",
    "child.modified <- child.modified %>% mutate(across(\n",
    "    everything(), ~ column.mapping(.)))\n",
    "head(child.modified)"
   ]
  },
  {
   "cell_type": "code",
   "execution_count": 4,
   "metadata": {},
   "outputs": [],
   "source": [
    "# convertion into BNDataset\n",
    "DF = BNDataset(data = child.modified, \n",
    "        discreteness = rep('d', ncol(child.modified)), \n",
    "        variables = names(child.modified), \n",
    "        node.sizes = apply(child.modified, 2, max), # max of each column\n",
    "        starts.from = 1)"
   ]
  },
  {
   "cell_type": "code",
   "execution_count": 5,
   "metadata": {
    "vscode": {
     "languageId": "r"
    }
   },
   "outputs": [
    {
     "name": "stderr",
     "output_type": "stream",
     "text": [
      "bnstruct :: learning the structure using MMHC ...\n",
      "\n",
      "bnstruct :: learning using MMHC completed.\n",
      "\n",
      "bnstruct :: learning network parameters ... \n",
      "\n",
      "bnstruct :: parameter learning done.\n",
      "\n"
     ]
    }
   ],
   "source": [
    "net = learn.network(DF, algo = 'mmhc')"
   ]
  },
  {
   "cell_type": "code",
   "execution_count": 6,
   "metadata": {
    "vscode": {
     "languageId": "r"
    }
   },
   "outputs": [
    {
     "data": {
      "image/png": "[encoded data removed]",
      "text/plain": [
       "plot without title"
      ]
     },
     "metadata": {
      "image/png": {
       "height": 420,
       "width": 420
      }
     },
     "output_type": "display_data"
    }
   ],
   "source": [
    "plot(net)"
   ]
  },
  {
   "cell_type": "code",
   "execution_count": 7,
   "metadata": {
    "vscode": {
     "languageId": "r"
    }
   },
   "outputs": [],
   "source": [
    "net_bnl = empty.graph(names(child.modified))\n",
    "amat(net_bnl) = dag(net)"
   ]
  },
  {
   "cell_type": "code",
   "execution_count": 8,
   "metadata": {},
   "outputs": [],
   "source": [
    "# convertion for bnlearn final analysis\n",
    "for (i in 1:length(names(child.modified))) {\n",
    "    name = names(child.modified)[i]\n",
    "    child.modified[, name] = as.factor(as.character(child.modified[, name]))\n",
    "}"
   ]
  },
  {
   "cell_type": "code",
   "execution_count": 9,
   "metadata": {
    "scrolled": true,
    "vscode": {
     "languageId": "r"
    }
   },
   "outputs": [
    {
     "data": {
      "text/html": [
       "-123315.893776794"
      ],
      "text/latex": [
       "-123315.893776794"
      ],
      "text/markdown": [
       "-123315.893776794"
      ],
      "text/plain": [
       "[1] -123315.9"
      ]
     },
     "metadata": {},
     "output_type": "display_data"
    }
   ],
   "source": [
    "score(net_bnl, data = child.modified, type = 'bic') # using DF is the same"
   ]
  }
 ],
 "metadata": {
  "kernelspec": {
   "display_name": "R",
   "language": "R",
   "name": "ir"
  },
  "language_info": {
   "codemirror_mode": "r",
   "file_extension": ".r",
   "mimetype": "text/x-r-source",
   "name": "R",
   "pygments_lexer": "r",
   "version": "4.2.2"
  }
 },
 "nbformat": 4,
 "nbformat_minor": 2
}
