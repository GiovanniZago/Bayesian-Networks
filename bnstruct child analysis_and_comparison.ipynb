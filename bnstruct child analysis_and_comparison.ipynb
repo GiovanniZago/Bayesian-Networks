{
 "cells": [
  {
   "cell_type": "code",
   "execution_count": 1,
   "metadata": {
    "vscode": {
     "languageId": "r"
    }
   },
   "outputs": [
    {
     "name": "stderr",
     "output_type": "stream",
     "text": [
      "Warning message:\n",
      "\"il pacchetto 'bnlearn' è stato creato con R versione 4.2.3\"\n",
      "Warning message:\n",
      "\"il pacchetto 'bnstruct' è stato creato con R versione 4.2.3\"\n",
      "Warning message:\n",
      "\"il pacchetto 'igraph' è stato creato con R versione 4.2.3\"\n",
      "bnstruct :: performing imputation ...\n",
      "\n",
      "bnstruct :: imputation finished.\n",
      "\n"
     ]
    },
    {
     "data": {
      "text/html": [
       "<table class=\"dataframe\">\n",
       "<caption>A data.frame: 6 × 20</caption>\n",
       "<thead>\n",
       "\t<tr><th></th><th scope=col>BirthAsphyxia</th><th scope=col>Disease</th><th scope=col>Age</th><th scope=col>LVH</th><th scope=col>DuctFlow</th><th scope=col>CardiacMixing</th><th scope=col>LungParench</th><th scope=col>LungFlow</th><th scope=col>Sick</th><th scope=col>HypDistrib</th><th scope=col>HypoxiaInO2</th><th scope=col>CO2</th><th scope=col>ChestXray</th><th scope=col>Grunting</th><th scope=col>LVHReport</th><th scope=col>LowerBodyO2</th><th scope=col>RUQO2</th><th scope=col>CO2Report</th><th scope=col>XrayReport</th><th scope=col>GruntingReport</th></tr>\n",
       "\t<tr><th></th><th scope=col>&lt;fct&gt;</th><th scope=col>&lt;fct&gt;</th><th scope=col>&lt;fct&gt;</th><th scope=col>&lt;fct&gt;</th><th scope=col>&lt;fct&gt;</th><th scope=col>&lt;fct&gt;</th><th scope=col>&lt;fct&gt;</th><th scope=col>&lt;fct&gt;</th><th scope=col>&lt;fct&gt;</th><th scope=col>&lt;fct&gt;</th><th scope=col>&lt;fct&gt;</th><th scope=col>&lt;fct&gt;</th><th scope=col>&lt;fct&gt;</th><th scope=col>&lt;fct&gt;</th><th scope=col>&lt;fct&gt;</th><th scope=col>&lt;fct&gt;</th><th scope=col>&lt;fct&gt;</th><th scope=col>&lt;fct&gt;</th><th scope=col>&lt;fct&gt;</th><th scope=col>&lt;fct&gt;</th></tr>\n",
       "</thead>\n",
       "<tbody>\n",
       "\t<tr><th scope=row>1</th><td>2</td><td>3</td><td>3</td><td>2</td><td>1</td><td>3</td><td>1</td><td>1</td><td>2</td><td>1</td><td>1</td><td>1</td><td>1</td><td>2</td><td>2</td><td>2</td><td>3</td><td>2</td><td>1</td><td>2</td></tr>\n",
       "\t<tr><th scope=row>2</th><td>2</td><td>4</td><td>2</td><td>1</td><td>1</td><td>2</td><td>1</td><td>2</td><td>2</td><td>1</td><td>2</td><td>1</td><td>2</td><td>2</td><td>1</td><td>2</td><td>2</td><td>1</td><td>2</td><td>2</td></tr>\n",
       "\t<tr><th scope=row>3</th><td>2</td><td>3</td><td>1</td><td>2</td><td>1</td><td>3</td><td>1</td><td>2</td><td>2</td><td>1</td><td>2</td><td>2</td><td>2</td><td>2</td><td>2</td><td>1</td><td>2</td><td>1</td><td>2</td><td>2</td></tr>\n",
       "\t<tr><th scope=row>4</th><td>2</td><td>4</td><td>1</td><td>1</td><td>1</td><td>3</td><td>1</td><td>1</td><td>2</td><td>1</td><td>3</td><td>1</td><td>1</td><td>2</td><td>1</td><td>3</td><td>1</td><td>1</td><td>1</td><td>2</td></tr>\n",
       "\t<tr><th scope=row>5</th><td>2</td><td>2</td><td>1</td><td>2</td><td>2</td><td>4</td><td>1</td><td>1</td><td>1</td><td>1</td><td>3</td><td>1</td><td>1</td><td>2</td><td>2</td><td>1</td><td>1</td><td>1</td><td>2</td><td>2</td></tr>\n",
       "\t<tr><th scope=row>6</th><td>2</td><td>2</td><td>1</td><td>2</td><td>1</td><td>4</td><td>1</td><td>3</td><td>2</td><td>1</td><td>3</td><td>1</td><td>3</td><td>2</td><td>2</td><td>2</td><td>1</td><td>1</td><td>3</td><td>2</td></tr>\n",
       "</tbody>\n",
       "</table>\n"
      ],
      "text/latex": [
       "A data.frame: 6 × 20\n",
       "\\begin{tabular}{r|llllllllllllllllllll}\n",
       "  & BirthAsphyxia & Disease & Age & LVH & DuctFlow & CardiacMixing & LungParench & LungFlow & Sick & HypDistrib & HypoxiaInO2 & CO2 & ChestXray & Grunting & LVHReport & LowerBodyO2 & RUQO2 & CO2Report & XrayReport & GruntingReport\\\\\n",
       "  & <fct> & <fct> & <fct> & <fct> & <fct> & <fct> & <fct> & <fct> & <fct> & <fct> & <fct> & <fct> & <fct> & <fct> & <fct> & <fct> & <fct> & <fct> & <fct> & <fct>\\\\\n",
       "\\hline\n",
       "\t1 & 2 & 3 & 3 & 2 & 1 & 3 & 1 & 1 & 2 & 1 & 1 & 1 & 1 & 2 & 2 & 2 & 3 & 2 & 1 & 2\\\\\n",
       "\t2 & 2 & 4 & 2 & 1 & 1 & 2 & 1 & 2 & 2 & 1 & 2 & 1 & 2 & 2 & 1 & 2 & 2 & 1 & 2 & 2\\\\\n",
       "\t3 & 2 & 3 & 1 & 2 & 1 & 3 & 1 & 2 & 2 & 1 & 2 & 2 & 2 & 2 & 2 & 1 & 2 & 1 & 2 & 2\\\\\n",
       "\t4 & 2 & 4 & 1 & 1 & 1 & 3 & 1 & 1 & 2 & 1 & 3 & 1 & 1 & 2 & 1 & 3 & 1 & 1 & 1 & 2\\\\\n",
       "\t5 & 2 & 2 & 1 & 2 & 2 & 4 & 1 & 1 & 1 & 1 & 3 & 1 & 1 & 2 & 2 & 1 & 1 & 1 & 2 & 2\\\\\n",
       "\t6 & 2 & 2 & 1 & 2 & 1 & 4 & 1 & 3 & 2 & 1 & 3 & 1 & 3 & 2 & 2 & 2 & 1 & 1 & 3 & 2\\\\\n",
       "\\end{tabular}\n"
      ],
      "text/markdown": [
       "\n",
       "A data.frame: 6 × 20\n",
       "\n",
       "| <!--/--> | BirthAsphyxia &lt;fct&gt; | Disease &lt;fct&gt; | Age &lt;fct&gt; | LVH &lt;fct&gt; | DuctFlow &lt;fct&gt; | CardiacMixing &lt;fct&gt; | LungParench &lt;fct&gt; | LungFlow &lt;fct&gt; | Sick &lt;fct&gt; | HypDistrib &lt;fct&gt; | HypoxiaInO2 &lt;fct&gt; | CO2 &lt;fct&gt; | ChestXray &lt;fct&gt; | Grunting &lt;fct&gt; | LVHReport &lt;fct&gt; | LowerBodyO2 &lt;fct&gt; | RUQO2 &lt;fct&gt; | CO2Report &lt;fct&gt; | XrayReport &lt;fct&gt; | GruntingReport &lt;fct&gt; |\n",
       "|---|---|---|---|---|---|---|---|---|---|---|---|---|---|---|---|---|---|---|---|---|\n",
       "| 1 | 2 | 3 | 3 | 2 | 1 | 3 | 1 | 1 | 2 | 1 | 1 | 1 | 1 | 2 | 2 | 2 | 3 | 2 | 1 | 2 |\n",
       "| 2 | 2 | 4 | 2 | 1 | 1 | 2 | 1 | 2 | 2 | 1 | 2 | 1 | 2 | 2 | 1 | 2 | 2 | 1 | 2 | 2 |\n",
       "| 3 | 2 | 3 | 1 | 2 | 1 | 3 | 1 | 2 | 2 | 1 | 2 | 2 | 2 | 2 | 2 | 1 | 2 | 1 | 2 | 2 |\n",
       "| 4 | 2 | 4 | 1 | 1 | 1 | 3 | 1 | 1 | 2 | 1 | 3 | 1 | 1 | 2 | 1 | 3 | 1 | 1 | 1 | 2 |\n",
       "| 5 | 2 | 2 | 1 | 2 | 2 | 4 | 1 | 1 | 1 | 1 | 3 | 1 | 1 | 2 | 2 | 1 | 1 | 1 | 2 | 2 |\n",
       "| 6 | 2 | 2 | 1 | 2 | 1 | 4 | 1 | 3 | 2 | 1 | 3 | 1 | 3 | 2 | 2 | 2 | 1 | 1 | 3 | 2 |\n",
       "\n"
      ],
      "text/plain": [
       "  BirthAsphyxia Disease Age LVH DuctFlow CardiacMixing LungParench LungFlow\n",
       "1 2             3       3   2   1        3             1           1       \n",
       "2 2             4       2   1   1        2             1           2       \n",
       "3 2             3       1   2   1        3             1           2       \n",
       "4 2             4       1   1   1        3             1           1       \n",
       "5 2             2       1   2   2        4             1           1       \n",
       "6 2             2       1   2   1        4             1           3       \n",
       "  Sick HypDistrib HypoxiaInO2 CO2 ChestXray Grunting LVHReport LowerBodyO2\n",
       "1 2    1          1           1   1         2        2         2          \n",
       "2 2    1          2           1   2         2        1         2          \n",
       "3 2    1          2           2   2         2        2         1          \n",
       "4 2    1          3           1   1         2        1         3          \n",
       "5 1    1          3           1   1         2        2         1          \n",
       "6 2    1          3           1   3         2        2         2          \n",
       "  RUQO2 CO2Report XrayReport GruntingReport\n",
       "1 3     2         1          2             \n",
       "2 2     1         2          2             \n",
       "3 2     1         2          2             \n",
       "4 1     1         1          2             \n",
       "5 1     1         2          2             \n",
       "6 1     1         3          2             "
      ]
     },
     "metadata": {},
     "output_type": "display_data"
    }
   ],
   "source": [
    "source('K2methods.r') |> suppressPackageStartupMessages()\n",
    "library(bnstruct)     |> suppressPackageStartupMessages()\n",
    "\n",
    "dataset = child()\n",
    "dataset = impute(dataset)\n",
    "data = imputed.data(dataset)\n",
    "\n",
    "# create dataset in order to assign names\n",
    "mode(data) = 'character'\n",
    "DF = data.frame(data, stringsAsFactors = TRUE)\n",
    "colnames(DF) <- child()@variables\n",
    "head(DF)"
   ]
  },
  {
   "cell_type": "code",
   "execution_count": 2,
   "metadata": {
    "vscode": {
     "languageId": "r"
    }
   },
   "outputs": [
    {
     "name": "stderr",
     "output_type": "stream",
     "text": [
      "bnstruct :: learning the structure using MMHC ...\n",
      "\n",
      "bnstruct :: learning using MMHC completed.\n",
      "\n",
      "bnstruct :: learning network parameters ... \n",
      "\n",
      "bnstruct :: parameter learning done.\n",
      "\n"
     ]
    }
   ],
   "source": [
    "net = learn.network(dataset, algo = 'mmhc')"
   ]
  },
  {
   "cell_type": "code",
   "execution_count": 3,
   "metadata": {
    "vscode": {
     "languageId": "r"
    }
   },
   "outputs": [
    {
     "data": {
      "image/png": "[encoded data removed]",
      "text/plain": [
       "plot without title"
      ]
     },
     "metadata": {
      "image/png": {
       "height": 420,
       "width": 420
      }
     },
     "output_type": "display_data"
    }
   ],
   "source": [
    "plot(net)"
   ]
  },
  {
   "cell_type": "code",
   "execution_count": 4,
   "metadata": {
    "vscode": {
     "languageId": "r"
    }
   },
   "outputs": [
    {
     "data": {
      "image/png": "[encoded data removed]",
      "text/plain": [
       "plot without title"
      ]
     },
     "metadata": {
      "image/png": {
       "height": 420,
       "width": 420
      }
     },
     "output_type": "display_data"
    }
   ],
   "source": [
    "net_bnl = empty.graph(dataset@variables)\n",
    "amat(net_bnl) = dag(net)\n",
    "graphviz.plot(net_bnl)"
   ]
  },
  {
   "cell_type": "code",
   "execution_count": 5,
   "metadata": {
    "scrolled": true,
    "vscode": {
     "languageId": "r"
    }
   },
   "outputs": [
    {
     "data": {
      "text/html": [
       "-61460.9850246894"
      ],
      "text/latex": [
       "-61460.9850246894"
      ],
      "text/markdown": [
       "-61460.9850246894"
      ],
      "text/plain": [
       "[1] -61460.99"
      ]
     },
     "metadata": {},
     "output_type": "display_data"
    }
   ],
   "source": [
    "score(net_bnl, data = DF, type = 'bic') # using DF is the same"
   ]
  }
 ],
 "metadata": {
  "kernelspec": {
   "display_name": "R",
   "language": "R",
   "name": "ir"
  },
  "language_info": {
   "codemirror_mode": "r",
   "file_extension": ".r",
   "mimetype": "text/x-r-source",
   "name": "R",
   "pygments_lexer": "r",
   "version": "4.2.2"
  }
 },
 "nbformat": 4,
 "nbformat_minor": 2
}
