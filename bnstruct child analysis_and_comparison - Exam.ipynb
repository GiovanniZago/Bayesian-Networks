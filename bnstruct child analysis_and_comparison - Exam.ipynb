{
 "cells": [
  {
   "cell_type": "code",
   "execution_count": 1,
   "metadata": {
    "vscode": {
     "languageId": "r"
    }
   },
   "outputs": [
    {
     "name": "stderr",
     "output_type": "stream",
     "text": [
      "Warning message:\n",
      "\"il pacchetto 'bnlearn' è stato creato con R versione 4.2.3\"\n"
     ]
    },
    {
     "name": "stderr",
     "output_type": "stream",
     "text": [
      "Warning message:\n",
      "\"il pacchetto 'bnstruct' è stato creato con R versione 4.2.3\"\n",
      "Warning message:\n",
      "\"il pacchetto 'igraph' è stato creato con R versione 4.2.3\"\n",
      "bnstruct :: performing imputation ...\n",
      "\n",
      "bnstruct :: imputation finished.\n",
      "\n"
     ]
    },
    {
     "data": {
      "text/html": [
       "<table class=\"dataframe\">\n",
       "<caption>A data.frame: 6 × 20</caption>\n",
       "<thead>\n",
       "\t<tr><th></th><th scope=col>BirthAsphyxia</th><th scope=col>Disease</th><th scope=col>Age</th><th scope=col>LVH</th><th scope=col>DuctFlow</th><th scope=col>CardiacMixing</th><th scope=col>LungParench</th><th scope=col>LungFlow</th><th scope=col>Sick</th><th scope=col>HypDistrib</th><th scope=col>HypoxiaInO2</th><th scope=col>CO2</th><th scope=col>ChestXray</th><th scope=col>Grunting</th><th scope=col>LVHReport</th><th scope=col>LowerBodyO2</th><th scope=col>RUQO2</th><th scope=col>CO2Report</th><th scope=col>XrayReport</th><th scope=col>GruntingReport</th></tr>\n",
       "\t<tr><th></th><th scope=col>&lt;fct&gt;</th><th scope=col>&lt;fct&gt;</th><th scope=col>&lt;fct&gt;</th><th scope=col>&lt;fct&gt;</th><th scope=col>&lt;fct&gt;</th><th scope=col>&lt;fct&gt;</th><th scope=col>&lt;fct&gt;</th><th scope=col>&lt;fct&gt;</th><th scope=col>&lt;fct&gt;</th><th scope=col>&lt;fct&gt;</th><th scope=col>&lt;fct&gt;</th><th scope=col>&lt;fct&gt;</th><th scope=col>&lt;fct&gt;</th><th scope=col>&lt;fct&gt;</th><th scope=col>&lt;fct&gt;</th><th scope=col>&lt;fct&gt;</th><th scope=col>&lt;fct&gt;</th><th scope=col>&lt;fct&gt;</th><th scope=col>&lt;fct&gt;</th><th scope=col>&lt;fct&gt;</th></tr>\n",
       "</thead>\n",
       "<tbody>\n",
       "\t<tr><th scope=row>1</th><td>2</td><td>3</td><td>3</td><td>2</td><td>1</td><td>3</td><td>1</td><td>1</td><td>2</td><td>1</td><td>1</td><td>1</td><td>1</td><td>2</td><td>2</td><td>2</td><td>3</td><td>2</td><td>1</td><td>2</td></tr>\n",
       "\t<tr><th scope=row>2</th><td>2</td><td>4</td><td>2</td><td>1</td><td>1</td><td>2</td><td>1</td><td>2</td><td>2</td><td>1</td><td>2</td><td>1</td><td>2</td><td>2</td><td>1</td><td>2</td><td>2</td><td>1</td><td>2</td><td>2</td></tr>\n",
       "\t<tr><th scope=row>3</th><td>2</td><td>3</td><td>1</td><td>2</td><td>1</td><td>3</td><td>1</td><td>2</td><td>2</td><td>1</td><td>2</td><td>2</td><td>2</td><td>2</td><td>2</td><td>1</td><td>2</td><td>1</td><td>2</td><td>2</td></tr>\n",
       "\t<tr><th scope=row>4</th><td>2</td><td>4</td><td>1</td><td>1</td><td>1</td><td>3</td><td>1</td><td>1</td><td>2</td><td>1</td><td>3</td><td>1</td><td>1</td><td>2</td><td>1</td><td>3</td><td>1</td><td>1</td><td>1</td><td>2</td></tr>\n",
       "\t<tr><th scope=row>5</th><td>2</td><td>2</td><td>1</td><td>2</td><td>2</td><td>4</td><td>1</td><td>1</td><td>1</td><td>1</td><td>3</td><td>1</td><td>1</td><td>2</td><td>2</td><td>1</td><td>1</td><td>1</td><td>2</td><td>2</td></tr>\n",
       "\t<tr><th scope=row>6</th><td>2</td><td>2</td><td>1</td><td>2</td><td>1</td><td>4</td><td>1</td><td>3</td><td>2</td><td>1</td><td>3</td><td>1</td><td>3</td><td>2</td><td>2</td><td>2</td><td>1</td><td>1</td><td>3</td><td>2</td></tr>\n",
       "</tbody>\n",
       "</table>\n"
      ],
      "text/latex": [
       "A data.frame: 6 × 20\n",
       "\\begin{tabular}{r|llllllllllllllllllll}\n",
       "  & BirthAsphyxia & Disease & Age & LVH & DuctFlow & CardiacMixing & LungParench & LungFlow & Sick & HypDistrib & HypoxiaInO2 & CO2 & ChestXray & Grunting & LVHReport & LowerBodyO2 & RUQO2 & CO2Report & XrayReport & GruntingReport\\\\\n",
       "  & <fct> & <fct> & <fct> & <fct> & <fct> & <fct> & <fct> & <fct> & <fct> & <fct> & <fct> & <fct> & <fct> & <fct> & <fct> & <fct> & <fct> & <fct> & <fct> & <fct>\\\\\n",
       "\\hline\n",
       "\t1 & 2 & 3 & 3 & 2 & 1 & 3 & 1 & 1 & 2 & 1 & 1 & 1 & 1 & 2 & 2 & 2 & 3 & 2 & 1 & 2\\\\\n",
       "\t2 & 2 & 4 & 2 & 1 & 1 & 2 & 1 & 2 & 2 & 1 & 2 & 1 & 2 & 2 & 1 & 2 & 2 & 1 & 2 & 2\\\\\n",
       "\t3 & 2 & 3 & 1 & 2 & 1 & 3 & 1 & 2 & 2 & 1 & 2 & 2 & 2 & 2 & 2 & 1 & 2 & 1 & 2 & 2\\\\\n",
       "\t4 & 2 & 4 & 1 & 1 & 1 & 3 & 1 & 1 & 2 & 1 & 3 & 1 & 1 & 2 & 1 & 3 & 1 & 1 & 1 & 2\\\\\n",
       "\t5 & 2 & 2 & 1 & 2 & 2 & 4 & 1 & 1 & 1 & 1 & 3 & 1 & 1 & 2 & 2 & 1 & 1 & 1 & 2 & 2\\\\\n",
       "\t6 & 2 & 2 & 1 & 2 & 1 & 4 & 1 & 3 & 2 & 1 & 3 & 1 & 3 & 2 & 2 & 2 & 1 & 1 & 3 & 2\\\\\n",
       "\\end{tabular}\n"
      ],
      "text/markdown": [
       "\n",
       "A data.frame: 6 × 20\n",
       "\n",
       "| <!--/--> | BirthAsphyxia &lt;fct&gt; | Disease &lt;fct&gt; | Age &lt;fct&gt; | LVH &lt;fct&gt; | DuctFlow &lt;fct&gt; | CardiacMixing &lt;fct&gt; | LungParench &lt;fct&gt; | LungFlow &lt;fct&gt; | Sick &lt;fct&gt; | HypDistrib &lt;fct&gt; | HypoxiaInO2 &lt;fct&gt; | CO2 &lt;fct&gt; | ChestXray &lt;fct&gt; | Grunting &lt;fct&gt; | LVHReport &lt;fct&gt; | LowerBodyO2 &lt;fct&gt; | RUQO2 &lt;fct&gt; | CO2Report &lt;fct&gt; | XrayReport &lt;fct&gt; | GruntingReport &lt;fct&gt; |\n",
       "|---|---|---|---|---|---|---|---|---|---|---|---|---|---|---|---|---|---|---|---|---|\n",
       "| 1 | 2 | 3 | 3 | 2 | 1 | 3 | 1 | 1 | 2 | 1 | 1 | 1 | 1 | 2 | 2 | 2 | 3 | 2 | 1 | 2 |\n",
       "| 2 | 2 | 4 | 2 | 1 | 1 | 2 | 1 | 2 | 2 | 1 | 2 | 1 | 2 | 2 | 1 | 2 | 2 | 1 | 2 | 2 |\n",
       "| 3 | 2 | 3 | 1 | 2 | 1 | 3 | 1 | 2 | 2 | 1 | 2 | 2 | 2 | 2 | 2 | 1 | 2 | 1 | 2 | 2 |\n",
       "| 4 | 2 | 4 | 1 | 1 | 1 | 3 | 1 | 1 | 2 | 1 | 3 | 1 | 1 | 2 | 1 | 3 | 1 | 1 | 1 | 2 |\n",
       "| 5 | 2 | 2 | 1 | 2 | 2 | 4 | 1 | 1 | 1 | 1 | 3 | 1 | 1 | 2 | 2 | 1 | 1 | 1 | 2 | 2 |\n",
       "| 6 | 2 | 2 | 1 | 2 | 1 | 4 | 1 | 3 | 2 | 1 | 3 | 1 | 3 | 2 | 2 | 2 | 1 | 1 | 3 | 2 |\n",
       "\n"
      ],
      "text/plain": [
       "  BirthAsphyxia Disease Age LVH DuctFlow CardiacMixing LungParench LungFlow\n",
       "1 2             3       3   2   1        3             1           1       \n",
       "2 2             4       2   1   1        2             1           2       \n",
       "3 2             3       1   2   1        3             1           2       \n",
       "4 2             4       1   1   1        3             1           1       \n",
       "5 2             2       1   2   2        4             1           1       \n",
       "6 2             2       1   2   1        4             1           3       \n",
       "  Sick HypDistrib HypoxiaInO2 CO2 ChestXray Grunting LVHReport LowerBodyO2\n",
       "1 2    1          1           1   1         2        2         2          \n",
       "2 2    1          2           1   2         2        1         2          \n",
       "3 2    1          2           2   2         2        2         1          \n",
       "4 2    1          3           1   1         2        1         3          \n",
       "5 1    1          3           1   1         2        2         1          \n",
       "6 2    1          3           1   3         2        2         2          \n",
       "  RUQO2 CO2Report XrayReport GruntingReport\n",
       "1 3     2         1          2             \n",
       "2 2     1         2          2             \n",
       "3 2     1         2          2             \n",
       "4 1     1         1          2             \n",
       "5 1     1         2          2             \n",
       "6 1     1         3          2             "
      ]
     },
     "metadata": {},
     "output_type": "display_data"
    }
   ],
   "source": [
    "source('K2methods.r') |> suppressPackageStartupMessages()\n",
    "library(bnstruct)     |> suppressPackageStartupMessages()\n",
    "\n",
    "dataset = child()\n",
    "dataset = impute(dataset)\n",
    "data = imputed.data(dataset)\n",
    "\n",
    "# create dataset in order to assign names\n",
    "mode(data) = 'character'\n",
    "DF = data.frame(data, stringsAsFactors = TRUE)\n",
    "colnames(DF) <- child()@variables\n",
    "head(DF)"
   ]
  },
  {
   "cell_type": "code",
   "execution_count": 2,
   "metadata": {
    "vscode": {
     "languageId": "r"
    }
   },
   "outputs": [
    {
     "name": "stderr",
     "output_type": "stream",
     "text": [
      "bnstruct :: learning the structure using MMHC ...\n",
      "\n",
      "bnstruct :: learning using MMHC completed.\n",
      "\n",
      "bnstruct :: learning network parameters ... \n",
      "\n",
      "bnstruct :: parameter learning done.\n",
      "\n"
     ]
    }
   ],
   "source": [
    "net = learn.network(dataset, algo = 'mmhc')"
   ]
  },
  {
   "cell_type": "code",
   "execution_count": 3,
   "metadata": {
    "vscode": {
     "languageId": "r"
    }
   },
   "outputs": [
    {
     "data": {
      "image/png": "[encoded data removed]",
      "text/plain": [
       "plot without title"
      ]
     },
     "metadata": {
      "image/png": {
       "height": 420,
       "width": 420
      }
     },
     "output_type": "display_data"
    }
   ],
   "source": [
    "plot(net)"
   ]
  },
  {
   "cell_type": "code",
   "execution_count": 4,
   "metadata": {
    "vscode": {
     "languageId": "r"
    }
   },
   "outputs": [
    {
     "data": {
      "image/png": "[encoded data removed]",
      "text/plain": [
       "plot without title"
      ]
     },
     "metadata": {
      "image/png": {
       "height": 420,
       "width": 420
      }
     },
     "output_type": "display_data"
    }
   ],
   "source": [
    "net_bnl = empty.graph(dataset@variables)\n",
    "amat(net_bnl) = dag(net)\n",
    "graphviz.plot(net_bnl)"
   ]
  },
  {
   "cell_type": "code",
   "execution_count": 5,
   "metadata": {
    "scrolled": true,
    "vscode": {
     "languageId": "r"
    }
   },
   "outputs": [
    {
     "data": {
      "text/html": [
       "-61460.9850246894"
      ],
      "text/latex": [
       "-61460.9850246894"
      ],
      "text/markdown": [
       "-61460.9850246894"
      ],
      "text/plain": [
       "[1] -61460.99"
      ]
     },
     "metadata": {},
     "output_type": "display_data"
    }
   ],
   "source": [
    "score(net_bnl, data = DF, type = 'bic') # using DF is the same"
   ]
  },
  {
   "attachments": {},
   "cell_type": "markdown",
   "metadata": {},
   "source": [
    "### Adding layering"
   ]
  },
  {
   "cell_type": "code",
   "execution_count": 6,
   "metadata": {
    "vscode": {
     "languageId": "r"
    }
   },
   "outputs": [
    {
     "data": {
      "text/html": [
       "<style>\n",
       ".list-inline {list-style: none; margin:0; padding: 0}\n",
       ".list-inline>li {display: inline-block}\n",
       ".list-inline>li:not(:last-child)::after {content: \"\\00b7\"; padding: 0 .5ex}\n",
       "</style>\n",
       "<ol class=list-inline><li>1</li><li>2</li><li>3</li><li>4</li><li>5</li><li>6</li><li>7</li><li>8</li><li>9</li><li>10</li><li>11</li><li>12</li><li>13</li><li>14</li><li>15</li><li>16</li><li>17</li><li>18</li><li>19</li><li>20</li></ol>\n"
      ],
      "text/latex": [
       "\\begin{enumerate*}\n",
       "\\item 1\n",
       "\\item 2\n",
       "\\item 3\n",
       "\\item 4\n",
       "\\item 5\n",
       "\\item 6\n",
       "\\item 7\n",
       "\\item 8\n",
       "\\item 9\n",
       "\\item 10\n",
       "\\item 11\n",
       "\\item 12\n",
       "\\item 13\n",
       "\\item 14\n",
       "\\item 15\n",
       "\\item 16\n",
       "\\item 17\n",
       "\\item 18\n",
       "\\item 19\n",
       "\\item 20\n",
       "\\end{enumerate*}\n"
      ],
      "text/markdown": [
       "1. 1\n",
       "2. 2\n",
       "3. 3\n",
       "4. 4\n",
       "5. 5\n",
       "6. 6\n",
       "7. 7\n",
       "8. 8\n",
       "9. 9\n",
       "10. 10\n",
       "11. 11\n",
       "12. 12\n",
       "13. 13\n",
       "14. 14\n",
       "15. 15\n",
       "16. 16\n",
       "17. 17\n",
       "18. 18\n",
       "19. 19\n",
       "20. 20\n",
       "\n",
       "\n"
      ],
      "text/plain": [
       " [1]  1  2  3  4  5  6  7  8  9 10 11 12 13 14 15 16 17 18 19 20"
      ]
     },
     "metadata": {},
     "output_type": "display_data"
    }
   ],
   "source": [
    "library(stringr) |> suppressPackageStartupMessages()\n",
    "library(purrr) |> suppressPackageStartupMessages()\n",
    "\n",
    "best_order = c('BirthAsphyxia', 'Disease', 'Age', 'LVH', 'DuctFlow', \n",
    "        'CardiacMixing', 'LungParench', 'LungFlow', 'Sick', 'HypDistrib', \n",
    "        'HypoxiaInO2', 'CO2', 'ChestXray', 'Grunting', \n",
    "        'LVHReport', 'LowerBodyO2', 'RUQO2', 'CO2Report', 'XrayReport', 'GruntingReport')\n",
    "\n",
    "mapping = map_int(.x = names(DF), .f = ~ which(.x == best_order))\n",
    "mapping"
   ]
  },
  {
   "cell_type": "code",
   "execution_count": 7,
   "metadata": {
    "vscode": {
     "languageId": "r"
    }
   },
   "outputs": [
    {
     "name": "stderr",
     "output_type": "stream",
     "text": [
      "bnstruct :: learning the structure using MMHC ...\n",
      "\n"
     ]
    },
    {
     "name": "stderr",
     "output_type": "stream",
     "text": [
      "bnstruct :: learning using MMHC completed.\n",
      "\n",
      "bnstruct :: learning network parameters ... \n",
      "\n",
      "bnstruct :: parameter learning done.\n",
      "\n"
     ]
    },
    {
     "data": {
      "image/png": "[encoded data removed]",
      "text/plain": [
       "plot without title"
      ]
     },
     "metadata": {
      "image/png": {
       "height": 420,
       "width": 420
      }
     },
     "output_type": "display_data"
    }
   ],
   "source": [
    "net_layered = learn.network(dataset, layering = mapping, algo = 'mmhc')\n",
    "plot(net_layered)"
   ]
  },
  {
   "cell_type": "code",
   "execution_count": 8,
   "metadata": {
    "vscode": {
     "languageId": "r"
    }
   },
   "outputs": [
    {
     "data": {
      "image/png": "[encoded data removed]",
      "text/plain": [
       "plot without title"
      ]
     },
     "metadata": {
      "image/png": {
       "height": 420,
       "width": 420
      }
     },
     "output_type": "display_data"
    }
   ],
   "source": [
    "net_layered_bnl = empty.graph(dataset@variables)\n",
    "amat(net_layered_bnl) = dag(net_layered)\n",
    "graphviz.plot(net_layered_bnl)"
   ]
  },
  {
   "cell_type": "code",
   "execution_count": 9,
   "metadata": {
    "vscode": {
     "languageId": "r"
    }
   },
   "outputs": [
    {
     "data": {
      "text/html": [
       "-61768.8554548852"
      ],
      "text/latex": [
       "-61768.8554548852"
      ],
      "text/markdown": [
       "-61768.8554548852"
      ],
      "text/plain": [
       "[1] -61768.86"
      ]
     },
     "metadata": {},
     "output_type": "display_data"
    }
   ],
   "source": [
    "score(net_layered_bnl, data = DF, type = 'bic')"
   ]
  },
  {
   "cell_type": "code",
   "execution_count": null,
   "metadata": {
    "vscode": {
     "languageId": "r"
    }
   },
   "outputs": [],
   "source": []
  }
 ],
 "metadata": {
  "kernelspec": {
   "display_name": "R",
   "language": "R",
   "name": "ir"
  },
  "language_info": {
   "codemirror_mode": "r",
   "file_extension": ".r",
   "mimetype": "text/x-r-source",
   "name": "R",
   "pygments_lexer": "r",
   "version": "4.2.2"
  }
 },
 "nbformat": 4,
 "nbformat_minor": 2
}
